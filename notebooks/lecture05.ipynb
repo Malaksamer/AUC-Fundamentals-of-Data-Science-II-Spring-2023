{
 "cells": [
  {
   "cell_type": "code",
   "execution_count": 12,
   "id": "6f72a4df-0214-469a-9e87-0ec372a7acff",
   "metadata": {
    "slideshow": {
     "slide_type": "slide"
    },
    "tags": [
     "hide_code"
    ]
   },
   "outputs": [
    {
     "data": {
      "image/png": "[encoded data removed]",
      "text/plain": [
       "<IPython.core.display.Image object>"
      ]
     },
     "metadata": {},
     "output_type": "display_data"
    }
   ],
   "source": [
    "from IPython.display import display, Image\n",
    "display(Image(filename=\"images/AUC.png\"))"
   ]
  },
  {
   "cell_type": "markdown",
   "id": "f0ba2ce4-8dcc-47c1-9d03-42d798c43ac7",
   "metadata": {
    "tags": []
   },
   "source": [
    "# Python Data Structure: Dictionaries & Tuples\n",
    "\n",
    "[Ahmed Moustafa](https://github.com/ahmedmoustafa)"
   ]
  },
  {
   "cell_type": "markdown",
   "id": "7aa2d3d5-f101-4068-8b41-157d18d190b0",
   "metadata": {
    "slideshow": {
     "slide_type": "slide"
    },
    "tags": []
   },
   "source": [
    "# Dictionaries\n",
    "\n",
    "- A dictionary is an unordered collection of key-value pairs.\n",
    "- Each key is unique and maps to a value.\n",
    "- The syntax for creating a dictionary is:"
   ]
  },
  {
   "cell_type": "code",
   "execution_count": 13,
   "id": "f1fe585c-979d-43e9-a953-c1adca2ca307",
   "metadata": {
    "tags": []
   },
   "outputs": [
    {
     "data": {
      "text/plain": [
       "{'key1': 'value1', 'key2': 'value2', 'key3': 'value3'}"
      ]
     },
     "execution_count": 13,
     "metadata": {},
     "output_type": "execute_result"
    }
   ],
   "source": [
    "my_dict = {\"key1\": \"value1\", \"key2\": \"value2\", \"key3\": \"value3\"}\n",
    "my_dict"
   ]
  },
  {
   "cell_type": "markdown",
   "id": "a8aada13-433d-4b8a-b790-99d7037b4f33",
   "metadata": {},
   "source": [
    "# Example - States"
   ]
  },
  {
   "cell_type": "code",
   "execution_count": 14,
   "id": "d2c36c5a-5878-4f93-a328-a7007766b32b",
   "metadata": {},
   "outputs": [
    {
     "data": {
      "text/plain": [
       "{'ca': 'California', 'ok': 'Oklahoma', 'nj': 'New Jersey', 'tx': 'Texas'}"
      ]
     },
     "execution_count": 14,
     "metadata": {},
     "output_type": "execute_result"
    }
   ],
   "source": [
    "d = {}                  # Create empty dict\n",
    "d['ca'] = 'California'  # 1. Set key/value pairs into dict\n",
    "d['ok'] = 'Oklahoma'\n",
    "d['nj'] = 'New Jersey'\n",
    "d['tx'] = 'Texas'\n",
    "d"
   ]
  },
  {
   "cell_type": "code",
   "execution_count": 15,
   "id": "2005d9ba-c3e3-4df1-817e-c597cfe35a28",
   "metadata": {},
   "outputs": [
    {
     "data": {
      "text/html": [
       "<img src=\"https://cs.stanford.edu/people/nick/py/img/python-dict2.png\" width=\"300\"/>"
      ],
      "text/plain": [
       "<IPython.core.display.Image object>"
      ]
     },
     "metadata": {},
     "output_type": "display_data"
    }
   ],
   "source": [
    "from IPython.display import display, Image\n",
    "display(Image(url=\"https://cs.stanford.edu/people/nick/py/img/python-dict2.png\", width = 300))"
   ]
  },
  {
   "cell_type": "markdown",
   "id": "997e6470-d560-46fd-b5f2-194c33e65093",
   "metadata": {},
   "source": [
    "<sub>Source: [Nick Parlante's Python guide](https://cs.stanford.edu/people/nick/py/python-dict.html)</sub>"
   ]
  },
  {
   "cell_type": "markdown",
   "id": "131497c1-3c29-47cc-a699-c82a0246d094",
   "metadata": {
    "slideshow": {
     "slide_type": "slide"
    },
    "tags": []
   },
   "source": [
    "You can access values in a dictionary using their keys:"
   ]
  },
  {
   "cell_type": "code",
   "execution_count": 16,
   "id": "464bf530-6bb7-4f5d-a0b9-75308a5789a6",
   "metadata": {},
   "outputs": [
    {
     "name": "stdout",
     "output_type": "stream",
     "text": [
      "value1\n"
     ]
    }
   ],
   "source": [
    "print(my_dict[\"key1\"]) # Output: \"value1\""
   ]
  },
  {
   "cell_type": "markdown",
   "id": "49dcfef5-8e2e-4306-9c8f-a55eafaf7c95",
   "metadata": {
    "slideshow": {
     "slide_type": "slide"
    },
    "tags": []
   },
   "source": [
    "# Commonly used functions\n",
    "\n",
    "- `keys()`: Returns a list of all the keys in the dictionary\n",
    "- `values()`: Returns a list of all the values in the dictionary\n",
    "- `items()`: Returns a list of all the key-value pairs in the dictionary"
   ]
  },
  {
   "cell_type": "code",
   "execution_count": 17,
   "id": "d96a7b54-4a56-4738-bb08-8812380fb81f",
   "metadata": {
    "slideshow": {
     "slide_type": "subslide"
    },
    "tags": []
   },
   "outputs": [
    {
     "data": {
      "text/plain": [
       "{'Alice': '555-1234', 'Bob': '555-5678', 'Charlie': '555-9012'}"
      ]
     },
     "execution_count": 17,
     "metadata": {},
     "output_type": "execute_result"
    }
   ],
   "source": [
    "phonebook = {\"Alice\": \"555-1234\", \"Bob\": \"555-5678\", \"Charlie\": \"555-9012\"}\n",
    "phonebook"
   ]
  },
  {
   "cell_type": "code",
   "execution_count": 18,
   "id": "0c92003f-264c-4732-9c89-106b8c927a9e",
   "metadata": {
    "slideshow": {
     "slide_type": "subslide"
    },
    "tags": []
   },
   "outputs": [
    {
     "name": "stdout",
     "output_type": "stream",
     "text": [
      "555-1234\n"
     ]
    }
   ],
   "source": [
    "print(phonebook[\"Alice\"])"
   ]
  },
  {
   "cell_type": "code",
   "execution_count": 19,
   "id": "02e94610-29be-4d57-976d-cd9656aa911a",
   "metadata": {
    "slideshow": {
     "slide_type": "subslide"
    },
    "tags": []
   },
   "outputs": [
    {
     "name": "stdout",
     "output_type": "stream",
     "text": [
      "dict_keys(['Alice', 'Bob', 'Charlie'])\n"
     ]
    }
   ],
   "source": [
    "print(phonebook.keys())"
   ]
  },
  {
   "cell_type": "code",
   "execution_count": 20,
   "id": "789d4206-8450-4550-bad6-e393cb8dbba2",
   "metadata": {
    "slideshow": {
     "slide_type": "subslide"
    },
    "tags": []
   },
   "outputs": [
    {
     "name": "stdout",
     "output_type": "stream",
     "text": [
      "dict_values(['555-1234', '555-5678', '555-9012'])\n"
     ]
    }
   ],
   "source": [
    "print(phonebook.values())"
   ]
  },
  {
   "cell_type": "code",
   "execution_count": 21,
   "id": "d1717e01-812b-4687-a743-f4c008f3cb39",
   "metadata": {
    "slideshow": {
     "slide_type": "subslide"
    },
    "tags": []
   },
   "outputs": [
    {
     "name": "stdout",
     "output_type": "stream",
     "text": [
      "dict_items([('Alice', '555-1234'), ('Bob', '555-5678'), ('Charlie', '555-9012')])\n"
     ]
    }
   ],
   "source": [
    "print(phonebook.items())"
   ]
  },
  {
   "cell_type": "code",
   "execution_count": 22,
   "id": "16d0a2b5-3be0-4d1a-98e9-659c5f66b385",
   "metadata": {
    "slideshow": {
     "slide_type": "subslide"
    },
    "tags": []
   },
   "outputs": [
    {
     "ename": "KeyError",
     "evalue": "'John'",
     "output_type": "error",
     "traceback": [
      "\u001b[0;31m---------------------------------------------------------------------------\u001b[0m",
      "\u001b[0;31mKeyError\u001b[0m                                  Traceback (most recent call last)",
      "Cell \u001b[0;32mIn[22], line 1\u001b[0m\n\u001b[0;32m----> 1\u001b[0m \u001b[43mphonebook\u001b[49m\u001b[43m[\u001b[49m\u001b[38;5;124;43m\"\u001b[39;49m\u001b[38;5;124;43mJohn\u001b[39;49m\u001b[38;5;124;43m\"\u001b[39;49m\u001b[43m]\u001b[49m\n",
      "\u001b[0;31mKeyError\u001b[0m: 'John'"
     ]
    }
   ],
   "source": [
    "phonebook[\"John\"]"
   ]
  },
  {
   "cell_type": "markdown",
   "id": "3013f6f2-6e1d-4588-9ccc-aaef33ee87cc",
   "metadata": {},
   "source": [
    "# Tuples\n",
    "\n",
    "- A tuple is an ordered collection of values.\n",
    "- Tuples are immutable, meaning you can't modify their values once they're created.\n",
    "- The syntax for creating a tuple is:"
   ]
  },
  {
   "cell_type": "code",
   "execution_count": 23,
   "id": "9d0f9783-27da-45f0-b650-b5feea236677",
   "metadata": {},
   "outputs": [
    {
     "data": {
      "text/plain": [
       "('value1', 'value2', 'value3')"
      ]
     },
     "execution_count": 23,
     "metadata": {},
     "output_type": "execute_result"
    }
   ],
   "source": [
    "my_tuple = (\"value1\", \"value2\", \"value3\")\n",
    "my_tuple"
   ]
  },
  {
   "cell_type": "markdown",
   "id": "dd4fc589-dde9-480b-a4a6-c6e948a2d7ae",
   "metadata": {},
   "source": [
    "You can access values in a tuple using their index:"
   ]
  },
  {
   "cell_type": "code",
   "execution_count": 24,
   "id": "cb06ba83-5007-45e2-ae6b-9703386daaab",
   "metadata": {},
   "outputs": [
    {
     "name": "stdout",
     "output_type": "stream",
     "text": [
      "value1\n"
     ]
    }
   ],
   "source": [
    "print(my_tuple[0])"
   ]
  },
  {
   "cell_type": "markdown",
   "id": "03d44683-e796-48f2-b706-3f2bb778cb8c",
   "metadata": {
    "slideshow": {
     "slide_type": "slide"
    },
    "tags": []
   },
   "source": [
    "# Commonly used functions:\n",
    "\n",
    "- `count()`: Returns the number of times a value appears in the tuple\n",
    "- `index()`: Returns the index of the first occurrence of a value in the tuple\n",
    "Example:"
   ]
  },
  {
   "cell_type": "code",
   "execution_count": 25,
   "id": "2cb98f48-b0d7-430d-b678-fc0443856ea6",
   "metadata": {},
   "outputs": [
    {
     "data": {
      "text/plain": [
       "('Monday', 'Tuesday', 'Wednesday', 'Thursday', 'Friday', 'Saturday', 'Sunday')"
      ]
     },
     "execution_count": 25,
     "metadata": {},
     "output_type": "execute_result"
    }
   ],
   "source": [
    "days_of_week = (\"Monday\", \"Tuesday\", \"Wednesday\", \"Thursday\", \"Friday\", \"Saturday\", \"Sunday\")\n",
    "days_of_week"
   ]
  },
  {
   "cell_type": "code",
   "execution_count": 26,
   "id": "5cccd82a-870c-4791-816c-311b7124be30",
   "metadata": {
    "slideshow": {
     "slide_type": "subslide"
    },
    "tags": []
   },
   "outputs": [
    {
     "name": "stdout",
     "output_type": "stream",
     "text": [
      "Monday\n"
     ]
    }
   ],
   "source": [
    "print(days_of_week[0])"
   ]
  },
  {
   "cell_type": "code",
   "execution_count": 27,
   "id": "af745d03-e045-4e40-ade4-021197a33df2",
   "metadata": {
    "slideshow": {
     "slide_type": "subslide"
    },
    "tags": []
   },
   "outputs": [
    {
     "name": "stdout",
     "output_type": "stream",
     "text": [
      "1\n"
     ]
    }
   ],
   "source": [
    "print(days_of_week.count(\"Monday\"))"
   ]
  },
  {
   "cell_type": "code",
   "execution_count": 28,
   "id": "718d57a5-f0dc-438a-aeff-be4e80bb5b5b",
   "metadata": {
    "slideshow": {
     "slide_type": "subslide"
    },
    "tags": []
   },
   "outputs": [
    {
     "name": "stdout",
     "output_type": "stream",
     "text": [
      "2\n"
     ]
    }
   ],
   "source": [
    "print(days_of_week.index(\"Wednesday\"))"
   ]
  },
  {
   "cell_type": "markdown",
   "id": "78b5cef4-c736-447e-928b-14aa43d5d486",
   "metadata": {
    "slideshow": {
     "slide_type": "slide"
    },
    "tags": []
   },
   "source": [
    "# Differences between Dictionaries and Tuples\n",
    "\n",
    "- Dictionaries and tuples are used for different purposes.\n",
    "- Dictionaries are used to map unique keys to values, while tuples are used to store collections of values.\n",
    "- Dictionaries are mutable, while tuples are immutable.\n",
    "- Dictionaries are unordered, while tuples are ordered."
   ]
  },
  {
   "cell_type": "markdown",
   "id": "3da1f88e-dd1c-4f4a-aa14-eb6821ef9129",
   "metadata": {
    "slideshow": {
     "slide_type": "slide"
    },
    "tags": []
   },
   "source": [
    "# More Example"
   ]
  },
  {
   "cell_type": "markdown",
   "id": "475d96af-d8db-4b3d-baa7-f0e98a06cca8",
   "metadata": {
    "slideshow": {
     "slide_type": "subslide"
    },
    "tags": []
   },
   "source": [
    "Storing information about a person, such as their name, address, and phone number:"
   ]
  },
  {
   "cell_type": "code",
   "execution_count": 29,
   "id": "646b670e-55a6-49a3-878c-2d5d937bae2b",
   "metadata": {},
   "outputs": [
    {
     "data": {
      "text/plain": [
       "{'name': 'Jane Doe', 'address': '123 Main St', 'phone': '555-1234'}"
      ]
     },
     "execution_count": 29,
     "metadata": {},
     "output_type": "execute_result"
    }
   ],
   "source": [
    "person = {\"name\": \"Jane Doe\", \"address\": \"123 Main St\", \"phone\": \"555-1234\"}\n",
    "person"
   ]
  },
  {
   "cell_type": "markdown",
   "id": "ea2455dd-3251-41f2-99dc-085bb93f89cc",
   "metadata": {},
   "source": [
    "Storing a dictionary of translations between different languages:"
   ]
  },
  {
   "cell_type": "code",
   "execution_count": 30,
   "id": "3c21b0f1-6117-4b4f-be79-0c7ecb7e7ba4",
   "metadata": {},
   "outputs": [
    {
     "data": {
      "text/plain": [
       "{'hello': {'spanish': 'hola', 'french': 'bonjour'}}"
      ]
     },
     "execution_count": 30,
     "metadata": {},
     "output_type": "execute_result"
    }
   ],
   "source": [
    "translations = {\"hello\": {\"spanish\": \"hola\", \"french\": \"bonjour\"}}\n",
    "translations"
   ]
  },
  {
   "cell_type": "markdown",
   "id": "c7b07135-6a8d-445d-b2a5-3db074bb6804",
   "metadata": {
    "slideshow": {
     "slide_type": "subslide"
    },
    "tags": []
   },
   "source": [
    "Representing a point in two-dimensional space:"
   ]
  },
  {
   "cell_type": "code",
   "execution_count": 31,
   "id": "ce0c3e38-7a9f-4bd3-b966-125c93462ff4",
   "metadata": {},
   "outputs": [
    {
     "data": {
      "text/plain": [
       "(3, 5)"
      ]
     },
     "execution_count": 31,
     "metadata": {},
     "output_type": "execute_result"
    }
   ],
   "source": [
    "point = (3, 5)\n",
    "point"
   ]
  },
  {
   "cell_type": "markdown",
   "id": "cb6fad39-a958-4a25-a5ae-a7af3da5f4cd",
   "metadata": {},
   "source": [
    "Storing the RGB color values for a particular color:"
   ]
  },
  {
   "cell_type": "code",
   "execution_count": 32,
   "id": "2b10bb8f-59bc-41dd-9571-aa5d44c81313",
   "metadata": {},
   "outputs": [],
   "source": [
    "color = (255, 128, 0)"
   ]
  }
 ],
 "metadata": {
  "author": "Ahmed Moustafa",
  "kernelspec": {
   "display_name": "Python 3 (ipykernel)",
   "language": "python",
   "name": "python3"
  },
  "language_info": {
   "codemirror_mode": {
    "name": "ipython",
    "version": 3
   },
   "file_extension": ".py",
   "mimetype": "text/x-python",
   "name": "python",
   "nbconvert_exporter": "python",
   "pygments_lexer": "ipython3",
   "version": "3.8.15"
  },
  "title": "Lecture 04: Control Flow in Python"
 },
 "nbformat": 4,
 "nbformat_minor": 5
}
