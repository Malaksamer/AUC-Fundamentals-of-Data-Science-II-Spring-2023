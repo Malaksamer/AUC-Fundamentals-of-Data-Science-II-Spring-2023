{
 "cells": [
  {
   "cell_type": "code",
   "execution_count": 1,
   "id": "6f72a4df-0214-469a-9e87-0ec372a7acff",
   "metadata": {
    "slideshow": {
     "slide_type": "slide"
    },
    "tags": [
     "hide_code"
    ]
   },
   "outputs": [
    {
     "data": {
      "image/png": "[encoded data removed]",
      "text/plain": [
       "<IPython.core.display.Image object>"
      ]
     },
     "metadata": {},
     "output_type": "display_data"
    }
   ],
   "source": [
    "from IPython.display import display, Image\n",
    "display(Image(filename=\"images/AUC.png\"))"
   ]
  },
  {
   "cell_type": "markdown",
   "id": "f0ba2ce4-8dcc-47c1-9d03-42d798c43ac7",
   "metadata": {
    "tags": []
   },
   "source": [
    "# Introduction to Python\n",
    "\n",
    "## Lists & Dictionaries & Tuples\n",
    "\n",
    "- Slides by [Ahmed Moustafa](https://github.com/ahmedmoustafa)\n",
    "- Content modified from [Pierian Data](https://github.com/Pierian-Data/Complete-Python-3-Bootcamp)"
   ]
  },
  {
   "cell_type": "markdown",
   "id": "375c4e60-78b8-423a-9cd1-b22abf3ec4d4",
   "metadata": {
    "slideshow": {
     "slide_type": "slide"
    },
    "tags": []
   },
   "source": [
    "# Python Lists\n",
    "\n",
    "Lists can be thought of the most general version of a sequence in Python. Unlike strings, they are **mutable**, i.e. elements inside a list can be changed!"
   ]
  },
  {
   "cell_type": "markdown",
   "id": "f234a4cb-f3ee-46cc-90a5-6df35e8aef08",
   "metadata": {
    "slideshow": {
     "slide_type": "slide"
    },
    "tags": []
   },
   "source": [
    "# Creating a list\n",
    "\n",
    "Lists are constructed with brackets `[ ]` and commas `,` separating every element in the list."
   ]
  },
  {
   "cell_type": "code",
   "execution_count": 2,
   "id": "701cc1e4-bd66-4eda-882f-47f426281bd3",
   "metadata": {},
   "outputs": [
    {
     "data": {
      "text/plain": [
       "[65.0, 70.5, 72.3, 68.0, 77.2]"
      ]
     },
     "execution_count": 2,
     "metadata": {},
     "output_type": "execute_result"
    }
   ],
   "source": [
    "weights = [65.0, 70.5, 72.3, 68.0, 77.2]\n",
    "weights"
   ]
  },
  {
   "cell_type": "code",
   "execution_count": 3,
   "id": "62191048-06f3-425c-874e-c22095db2aad",
   "metadata": {},
   "outputs": [
    {
     "data": {
      "text/plain": [
       "['London', 'Paris', 'New York', 'Tokyo', 'Berlin']"
      ]
     },
     "execution_count": 3,
     "metadata": {},
     "output_type": "execute_result"
    }
   ],
   "source": [
    "cities = [\"London\", \"Paris\", \"New York\", \"Tokyo\", \"Berlin\"]\n",
    "cities"
   ]
  },
  {
   "cell_type": "code",
   "execution_count": 4,
   "id": "4e1081a7-c239-400d-a837-c7c988c0abe9",
   "metadata": {},
   "outputs": [
    {
     "data": {
      "text/plain": [
       "5"
      ]
     },
     "execution_count": 4,
     "metadata": {},
     "output_type": "execute_result"
    }
   ],
   "source": [
    "len(cities)"
   ]
  },
  {
   "cell_type": "code",
   "execution_count": 5,
   "id": "5b2ad130-2dab-4b33-85be-f9ae213aa7d5",
   "metadata": {},
   "outputs": [
    {
     "data": {
      "text/plain": [
       "[1, 2.5, 'hello', 'world', 42, 'python']"
      ]
     },
     "execution_count": 5,
     "metadata": {},
     "output_type": "execute_result"
    }
   ],
   "source": [
    "my_list = [1, 2.5, \"hello\", \"world\", 42, \"python\"]\n",
    "my_list"
   ]
  },
  {
   "cell_type": "markdown",
   "id": "1defc639-8f89-47da-b316-e3b13b3e1b64",
   "metadata": {
    "slideshow": {
     "slide_type": "slide"
    },
    "tags": []
   },
   "source": [
    "# Indexing and Slicing\n",
    "\n",
    "Indexing and slicing work just like in strings:"
   ]
  },
  {
   "cell_type": "code",
   "execution_count": 6,
   "id": "84fba064-ebfe-4759-a5ee-43b9f42116fd",
   "metadata": {
    "tags": [
     "hide_code"
    ]
   },
   "outputs": [
    {
     "data": {
      "text/plain": [
       "'London'"
      ]
     },
     "execution_count": 6,
     "metadata": {},
     "output_type": "execute_result"
    }
   ],
   "source": [
    "cities[0]"
   ]
  },
  {
   "cell_type": "code",
   "execution_count": 7,
   "id": "82fcbe52-6bd8-458f-80cd-08c7d23991e9",
   "metadata": {},
   "outputs": [
    {
     "data": {
      "text/plain": [
       "['Paris', 'New York', 'Tokyo', 'Berlin']"
      ]
     },
     "execution_count": 7,
     "metadata": {},
     "output_type": "execute_result"
    }
   ],
   "source": [
    "cities[1:]"
   ]
  },
  {
   "cell_type": "code",
   "execution_count": 8,
   "id": "74f68760-6401-4068-9a14-f640b10d6e33",
   "metadata": {},
   "outputs": [
    {
     "data": {
      "text/plain": [
       "['London', 'Paris', 'New York', 'Tokyo', 'Berlin', 'Cairo', 'Alexandria']"
      ]
     },
     "execution_count": 8,
     "metadata": {},
     "output_type": "execute_result"
    }
   ],
   "source": [
    "cities + [\"Cairo\", \"Alexandria\"]"
   ]
  },
  {
   "cell_type": "markdown",
   "id": "f3e973ba-d820-4c76-a3ac-1ce3757a9e08",
   "metadata": {
    "slideshow": {
     "slide_type": "slide"
    },
    "tags": []
   },
   "source": [
    "# Indexing and Slicing"
   ]
  },
  {
   "cell_type": "code",
   "execution_count": 9,
   "id": "7797969b-58fd-4562-8e9b-7e2748a3696d",
   "metadata": {
    "tags": [
     "hide_code"
    ]
   },
   "outputs": [
    {
     "data": {
      "text/plain": [
       "['London', 'Paris', 'New York', 'Tokyo', 'Berlin']"
      ]
     },
     "execution_count": 9,
     "metadata": {},
     "output_type": "execute_result"
    }
   ],
   "source": [
    "cities"
   ]
  },
  {
   "cell_type": "code",
   "execution_count": 10,
   "id": "dbb574fe-16e4-408b-9c3d-fcdb10f04f11",
   "metadata": {},
   "outputs": [
    {
     "data": {
      "text/plain": [
       "['London', 'Paris', 'New York', 'Tokyo', 'Berlin', 'Cairo', 'Alexandria']"
      ]
     },
     "execution_count": 10,
     "metadata": {},
     "output_type": "execute_result"
    }
   ],
   "source": [
    "cities += [\"Cairo\", \"Alexandria\"]\n",
    "cities"
   ]
  },
  {
   "cell_type": "code",
   "execution_count": 11,
   "id": "8fbac60c-f512-4f0b-a487-ac06867806d0",
   "metadata": {},
   "outputs": [
    {
     "data": {
      "text/plain": [
       "['London',\n",
       " 'Paris',\n",
       " 'New York',\n",
       " 'Tokyo',\n",
       " 'Berlin',\n",
       " 'Cairo',\n",
       " 'Alexandria',\n",
       " 'London',\n",
       " 'Paris',\n",
       " 'New York',\n",
       " 'Tokyo',\n",
       " 'Berlin',\n",
       " 'Cairo',\n",
       " 'Alexandria']"
      ]
     },
     "execution_count": 11,
     "metadata": {},
     "output_type": "execute_result"
    }
   ],
   "source": [
    "cities * 2"
   ]
  },
  {
   "cell_type": "code",
   "execution_count": 12,
   "id": "a7a9d7cd-7f60-489a-b097-bf9630e847ba",
   "metadata": {},
   "outputs": [
    {
     "data": {
      "text/plain": [
       "7"
      ]
     },
     "execution_count": 12,
     "metadata": {},
     "output_type": "execute_result"
    }
   ],
   "source": [
    "len(cities)"
   ]
  },
  {
   "cell_type": "markdown",
   "id": "b7b1ceb7-ade0-4ee3-b375-3edcc1a104e3",
   "metadata": {
    "slideshow": {
     "slide_type": "slide"
    },
    "tags": []
   },
   "source": [
    "# First Things First\n",
    "\n",
    "As with any programming course, here is the `Hello World!` in Python."
   ]
  },
  {
   "cell_type": "code",
   "execution_count": 13,
   "id": "81651243-9e27-48a5-9d2c-53f6ae890e07",
   "metadata": {},
   "outputs": [
    {
     "name": "stdout",
     "output_type": "stream",
     "text": [
      "Hello World!\n"
     ]
    }
   ],
   "source": [
    "print (\"Hello World!\")"
   ]
  },
  {
   "cell_type": "code",
   "execution_count": 14,
   "id": "249d1dee-57e7-4e1e-8320-8fbcc8d71935",
   "metadata": {
    "tags": [
     "hide_code"
    ]
   },
   "outputs": [
    {
     "data": {
      "text/html": [
       "<img src=\"https://i.redd.it/zbqqkmy3kyqy.png\" width=\"400\"/>"
      ],
      "text/plain": [
       "<IPython.core.display.Image object>"
      ]
     },
     "metadata": {},
     "output_type": "display_data"
    }
   ],
   "source": [
    "display(Image(url=\"https://i.redd.it/zbqqkmy3kyqy.png\", width = 400))"
   ]
  },
  {
   "cell_type": "markdown",
   "id": "704cb65f-2633-449b-8187-22c5db029558",
   "metadata": {
    "slideshow": {
     "slide_type": "slide"
    },
    "tags": []
   },
   "source": [
    "# Variable\n",
    "\n",
    "A variable is a named storage location used to hold a value. The value of a variable can be changed and it can be used in expressions and operations"
   ]
  },
  {
   "cell_type": "markdown",
   "id": "4e33cffa-1e5c-425a-b766-6175839f72bf",
   "metadata": {
    "slideshow": {
     "slide_type": "slide"
    },
    "tags": []
   },
   "source": [
    "# Variable Assignment\n",
    "\n",
    "- names can not start with a number\n",
    "- names can not contain spaces, use _ intead\n",
    "- names can not contain any of these symbols: `'\",<>/?|\\!@#%^&*~-+`\n",
    "- accoding to Style Guide for Python Code ([PEP8](https://www.python.org/dev/peps/pep-0008/#function-and-variable-names)), it's considered best practice that names are lowercase with underscores\n",
    "- avoid using Python built-in keywords like `list` and `str`\n",
    "- avoid using the single characters `l` (lowercase letter el), `O` (uppercase letter oh) and `I` (uppercase letter eye) as they can be confused with 1 and 0"
   ]
  },
  {
   "cell_type": "markdown",
   "id": "72ddce51-e752-486e-ad29-5f598087dbae",
   "metadata": {
    "slideshow": {
     "slide_type": "slide"
    },
    "tags": []
   },
   "source": [
    "# Dynamic Typing\n",
    "\n",
    "Python uses *dynamic typing*, meaning you can reassign variables to different data types. This makes Python very flexible in assigning data types; it differs from other languages that are statically typed."
   ]
  },
  {
   "cell_type": "code",
   "execution_count": 15,
   "id": "6847f977-2251-41e9-b49a-8b9a17d781cf",
   "metadata": {},
   "outputs": [
    {
     "data": {
      "text/plain": [
       "2"
      ]
     },
     "execution_count": 15,
     "metadata": {},
     "output_type": "execute_result"
    }
   ],
   "source": [
    "my_cat = 2\n",
    "my_cat"
   ]
  },
  {
   "cell_type": "code",
   "execution_count": 16,
   "id": "85177ae4-a17a-4adf-8cb4-59a8f530a8bf",
   "metadata": {},
   "outputs": [
    {
     "data": {
      "text/plain": [
       "['Basbousa', 'Lucy']"
      ]
     },
     "execution_count": 16,
     "metadata": {},
     "output_type": "execute_result"
    }
   ],
   "source": [
    "my_cat = ['Basbousa', 'Lucy']\n",
    "my_cat"
   ]
  },
  {
   "cell_type": "markdown",
   "id": "adc3c1a6-e0f4-45ac-8231-2850bba38bc2",
   "metadata": {
    "slideshow": {
     "slide_type": "slide"
    },
    "tags": []
   },
   "source": [
    "# Pros and Cons of Dynamic Typing\n",
    "- Pros of Dynamic Typing\n",
    "    - very easy to work with\n",
    "    - faster development time\n",
    "- Cons of Dynamic Typing\n",
    "    - may result in unexpected bugs!"
   ]
  },
  {
   "cell_type": "markdown",
   "id": "a17857c5-169c-4998-848c-d71071041e8a",
   "metadata": {
    "slideshow": {
     "slide_type": "slide"
    },
    "tags": []
   },
   "source": [
    "# Assigning Variables\n",
    "Variable assignment follows `name = object`, where a single equals sign `=` is an assignment operator"
   ]
  },
  {
   "cell_type": "code",
   "execution_count": 17,
   "id": "cbb87457-e6f9-4a0c-9add-16b461fd8a97",
   "metadata": {},
   "outputs": [
    {
     "data": {
      "text/plain": [
       "5"
      ]
     },
     "execution_count": 17,
     "metadata": {},
     "output_type": "execute_result"
    }
   ],
   "source": [
    "a = 5\n",
    "a"
   ]
  },
  {
   "cell_type": "markdown",
   "id": "c21a45e3-b362-4bc3-93c3-36f3838eb5e2",
   "metadata": {
    "slideshow": {
     "slide_type": "slide"
    },
    "tags": []
   },
   "source": [
    "# Reassigning Variables\n",
    "Python lets you reassign variables with a reference to the same object."
   ]
  },
  {
   "cell_type": "code",
   "execution_count": 18,
   "id": "37c970c7-56c0-4d97-883a-093df042fb22",
   "metadata": {},
   "outputs": [
    {
     "data": {
      "text/plain": [
       "15"
      ]
     },
     "execution_count": 18,
     "metadata": {},
     "output_type": "execute_result"
    }
   ],
   "source": [
    "a = a + 10\n",
    "a"
   ]
  },
  {
   "cell_type": "markdown",
   "id": "cdb9803e-48e9-490a-87cf-3e8456a1311c",
   "metadata": {
    "slideshow": {
     "slide_type": "subslide"
    },
    "tags": []
   },
   "source": [
    "There's actually a shortcut for this. Python lets you add, subtract, multiply and divide numbers with reassignment using `+=`, `-=`, `*=`, and `/=`."
   ]
  },
  {
   "cell_type": "code",
   "execution_count": 19,
   "id": "7fda4f64-d40d-4e35-8d1f-e9a9a6609058",
   "metadata": {},
   "outputs": [
    {
     "data": {
      "text/plain": [
       "25"
      ]
     },
     "execution_count": 19,
     "metadata": {},
     "output_type": "execute_result"
    }
   ],
   "source": [
    "a += 10\n",
    "a"
   ]
  },
  {
   "cell_type": "code",
   "execution_count": 20,
   "id": "49108cba-402f-49aa-a190-733dd8c399dd",
   "metadata": {},
   "outputs": [
    {
     "data": {
      "text/plain": [
       "50"
      ]
     },
     "execution_count": 20,
     "metadata": {},
     "output_type": "execute_result"
    }
   ],
   "source": [
    "a *= 2\n",
    "a"
   ]
  },
  {
   "cell_type": "markdown",
   "id": "4a252602-7a7e-4548-b9f5-32a009c94cc9",
   "metadata": {
    "slideshow": {
     "slide_type": "slide"
    },
    "tags": []
   },
   "source": [
    "# Determining variable type with `type()`\n",
    "You can check what type of object is assigned to a variable using Python's built-in type() function. Common data types include:"
   ]
  },
  {
   "cell_type": "code",
   "execution_count": 21,
   "id": "2ddf472d-e341-4c47-9155-977d3d1bffbf",
   "metadata": {},
   "outputs": [
    {
     "data": {
      "text/plain": [
       "int"
      ]
     },
     "execution_count": 21,
     "metadata": {},
     "output_type": "execute_result"
    }
   ],
   "source": [
    "type(a)"
   ]
  },
  {
   "cell_type": "markdown",
   "id": "41f1bc77-70bf-40f8-8c24-97459704a9be",
   "metadata": {
    "slideshow": {
     "slide_type": "slide"
    },
    "tags": []
   },
   "source": [
    "# Numbers\n",
    "Basically there are two types of numbers:\n",
    "- 2 is interger `int`\n",
    "- 2.0 is floating point `float`\n",
    "\n",
    "| Example | Number Type |\n",
    "| - | - |\n",
    "| 1,2,-5,1000 | Integers |\n",
    "| 1.2,-0.5,2e2,3E2 | Floating point |"
   ]
  },
  {
   "cell_type": "code",
   "execution_count": 22,
   "id": "e8d0feee-ce1e-4394-b331-24c859bbce92",
   "metadata": {},
   "outputs": [
    {
     "data": {
      "text/plain": [
       "int"
      ]
     },
     "execution_count": 22,
     "metadata": {},
     "output_type": "execute_result"
    }
   ],
   "source": [
    "type(2)"
   ]
  },
  {
   "cell_type": "code",
   "execution_count": 23,
   "id": "2a88bae9-efe6-481d-a016-5ec959a1069a",
   "metadata": {},
   "outputs": [
    {
     "data": {
      "text/plain": [
       "float"
      ]
     },
     "execution_count": 23,
     "metadata": {},
     "output_type": "execute_result"
    }
   ],
   "source": [
    "type(2.0)"
   ]
  },
  {
   "cell_type": "markdown",
   "id": "d9b3d2e4-b3c4-4ea5-845e-e23a650a4192",
   "metadata": {
    "slideshow": {
     "slide_type": "slide"
    },
    "tags": []
   },
   "source": [
    "# Basic Arithmetic 1/2"
   ]
  },
  {
   "cell_type": "code",
   "execution_count": 24,
   "id": "0fbc2c6d-fb34-4579-9d99-7756ef7e7e49",
   "metadata": {},
   "outputs": [
    {
     "data": {
      "text/plain": [
       "3"
      ]
     },
     "execution_count": 24,
     "metadata": {},
     "output_type": "execute_result"
    }
   ],
   "source": [
    "2+1 # Addition"
   ]
  },
  {
   "cell_type": "code",
   "execution_count": 25,
   "id": "ae3a4424-c5c2-46a7-9e21-bfea05e42aca",
   "metadata": {},
   "outputs": [
    {
     "data": {
      "text/plain": [
       "1"
      ]
     },
     "execution_count": 25,
     "metadata": {},
     "output_type": "execute_result"
    }
   ],
   "source": [
    "2-1 # Subtraction"
   ]
  },
  {
   "cell_type": "code",
   "execution_count": 26,
   "id": "8a9f5a08-24af-45e3-b002-f487b6087589",
   "metadata": {},
   "outputs": [
    {
     "data": {
      "text/plain": [
       "4"
      ]
     },
     "execution_count": 26,
     "metadata": {},
     "output_type": "execute_result"
    }
   ],
   "source": [
    "2*2 # Multiplication"
   ]
  },
  {
   "cell_type": "code",
   "execution_count": 27,
   "id": "f41c59d4-6f39-461d-9abe-de281870e8c1",
   "metadata": {},
   "outputs": [
    {
     "data": {
      "text/plain": [
       "1.5"
      ]
     },
     "execution_count": 27,
     "metadata": {},
     "output_type": "execute_result"
    }
   ],
   "source": [
    "3/2 # Division"
   ]
  },
  {
   "cell_type": "markdown",
   "id": "2f3690fe-e5a7-45a5-a59e-3947b03a9d24",
   "metadata": {
    "slideshow": {
     "slide_type": "slide"
    },
    "tags": []
   },
   "source": [
    "# Basic Arithmetic 2/2"
   ]
  },
  {
   "cell_type": "code",
   "execution_count": 28,
   "id": "8c1645c8-2176-41e5-b5a5-86c3d5684184",
   "metadata": {},
   "outputs": [
    {
     "data": {
      "text/plain": [
       "1"
      ]
     },
     "execution_count": 28,
     "metadata": {},
     "output_type": "execute_result"
    }
   ],
   "source": [
    "3//2 # Floor division (It returns the result of division rounded down to the nearest integer)"
   ]
  },
  {
   "cell_type": "code",
   "execution_count": 29,
   "id": "9c48d98b-86e4-4a78-952d-33b012ae9dc1",
   "metadata": {},
   "outputs": [
    {
     "data": {
      "text/plain": [
       "8"
      ]
     },
     "execution_count": 29,
     "metadata": {},
     "output_type": "execute_result"
    }
   ],
   "source": [
    "2**3 # Powers"
   ]
  },
  {
   "cell_type": "markdown",
   "id": "d7c1857d-81c0-4a0c-bab5-fbf8796baeed",
   "metadata": {},
   "source": [
    "Question: how to calculate the sequare root of 16?"
   ]
  },
  {
   "cell_type": "markdown",
   "id": "c137fe2c-04cb-4b7d-9e2b-ab0c7c3e72a4",
   "metadata": {
    "slideshow": {
     "slide_type": "slide"
    },
    "tags": []
   },
   "source": [
    "# Order of Operations"
   ]
  },
  {
   "cell_type": "code",
   "execution_count": 30,
   "id": "0449e294-d43b-41f2-9166-174e2a73179b",
   "metadata": {
    "tags": [
     "hide-output"
    ]
   },
   "outputs": [
    {
     "data": {
      "text/plain": [
       "105"
      ]
     },
     "execution_count": 30,
     "metadata": {},
     "output_type": "execute_result"
    }
   ],
   "source": [
    "2 + 10 * 10 + 3"
   ]
  },
  {
   "cell_type": "code",
   "execution_count": 31,
   "id": "d4cac443-f79b-4952-ae0c-5e29613141a3",
   "metadata": {},
   "outputs": [
    {
     "data": {
      "text/plain": [
       "156"
      ]
     },
     "execution_count": 31,
     "metadata": {},
     "output_type": "execute_result"
    }
   ],
   "source": [
    "(2+10) * (10+3)"
   ]
  },
  {
   "cell_type": "markdown",
   "id": "4e22f996-8fe8-48d5-8b2a-ed8076d31a3b",
   "metadata": {
    "slideshow": {
     "slide_type": "slide"
    },
    "tags": []
   },
   "source": [
    "# Strings\n",
    "\n",
    "Strings in Python are **text**, such as names, stored as a sequence or a list of characters. For example, Python understands the string `'AUC'` to be a sequence of letters in a specific order. This means we will be able to use indexing to grab particular letters (like the first letter `A`, or the last letter `C`)."
   ]
  },
  {
   "cell_type": "markdown",
   "id": "e7000765-57a6-4e46-a6d3-d3c024bedafd",
   "metadata": {
    "slideshow": {
     "slide_type": "slide"
    },
    "tags": []
   },
   "source": [
    "# Creating a String\n",
    "\n",
    "To create a string in Python you need to use either single quotes `'` or double quotes `\"`."
   ]
  },
  {
   "cell_type": "code",
   "execution_count": 32,
   "id": "b39d9473-4e02-4107-8ed4-0b71a578c338",
   "metadata": {},
   "outputs": [
    {
     "data": {
      "text/plain": [
       "'Hello'"
      ]
     },
     "execution_count": 32,
     "metadata": {},
     "output_type": "execute_result"
    }
   ],
   "source": [
    "'Hello'"
   ]
  },
  {
   "cell_type": "code",
   "execution_count": 33,
   "id": "03ed1c52-dfde-46ba-bb4a-f94565975785",
   "metadata": {},
   "outputs": [
    {
     "data": {
      "text/plain": [
       "'Hello World!'"
      ]
     },
     "execution_count": 33,
     "metadata": {},
     "output_type": "execute_result"
    }
   ],
   "source": [
    "'Hello World!'"
   ]
  },
  {
   "cell_type": "code",
   "execution_count": 34,
   "id": "3c38a43e-79a9-4f02-b084-57ee11857967",
   "metadata": {},
   "outputs": [
    {
     "data": {
      "text/plain": [
       "'This is also a string'"
      ]
     },
     "execution_count": 34,
     "metadata": {},
     "output_type": "execute_result"
    }
   ],
   "source": [
    "\"This is also a string\""
   ]
  },
  {
   "cell_type": "code",
   "execution_count": 35,
   "id": "47fb2848-ad8b-4d9a-9cbc-fdca14a4f501",
   "metadata": {
    "slideshow": {
     "slide_type": "subslide"
    },
    "tags": []
   },
   "outputs": [
    {
     "ename": "SyntaxError",
     "evalue": "invalid syntax (3233800233.py, line 1)",
     "output_type": "error",
     "traceback": [
      "\u001b[0;36m  Cell \u001b[0;32mIn[35], line 1\u001b[0;36m\u001b[0m\n\u001b[0;31m    'I'm using single quotes, but this will create an error'\u001b[0m\n\u001b[0m       ^\u001b[0m\n\u001b[0;31mSyntaxError\u001b[0m\u001b[0;31m:\u001b[0m invalid syntax\n"
     ]
    }
   ],
   "source": [
    "'I'm using single quotes, but this will create an error'"
   ]
  },
  {
   "cell_type": "code",
   "execution_count": null,
   "id": "e2180fc3-d08e-4f01-a303-31341b61fc58",
   "metadata": {},
   "outputs": [],
   "source": [
    "'Now I\\'m ready to use the single quotes inside a string!' # Using escape character"
   ]
  },
  {
   "cell_type": "code",
   "execution_count": null,
   "id": "9b690673-ef79-4369-b7b1-3c583c40bcd5",
   "metadata": {},
   "outputs": [],
   "source": [
    "\"Now I'm ready to use the single quotes inside a string!\" # Using double quotes"
   ]
  },
  {
   "cell_type": "markdown",
   "id": "8155c8df-73f5-4b4d-a635-71221d29ecd2",
   "metadata": {
    "slideshow": {
     "slide_type": "slide"
    },
    "tags": []
   },
   "source": [
    "# Printing a String\n",
    "\n",
    "Using Jupyter notebook with just a string in a cell will automatically output strings, but the correct way to display strings in your output is by using a `print` function."
   ]
  },
  {
   "cell_type": "code",
   "execution_count": null,
   "id": "9283e7dc-621d-4e02-83fb-02594373612f",
   "metadata": {},
   "outputs": [],
   "source": [
    "'Hello World'"
   ]
  },
  {
   "cell_type": "code",
   "execution_count": null,
   "id": "b8b3e058-aae7-4d9e-aa2e-508fe2e6f652",
   "metadata": {},
   "outputs": [],
   "source": [
    "'Hello World 1'\n",
    "'Hello World 2'"
   ]
  },
  {
   "cell_type": "code",
   "execution_count": null,
   "id": "c3794c1a-200a-4ee0-9136-fa4a1e0fa56d",
   "metadata": {
    "slideshow": {
     "slide_type": "subslide"
    },
    "tags": []
   },
   "outputs": [],
   "source": [
    "print('Hello World 1')\n",
    "print('Hello World 2')"
   ]
  },
  {
   "cell_type": "code",
   "execution_count": null,
   "id": "1cabad57-bc9a-418d-9541-fc38cd1fcfce",
   "metadata": {},
   "outputs": [],
   "source": [
    "print('Hello World 1\\nHello World 2') # using \\n for new line"
   ]
  },
  {
   "cell_type": "markdown",
   "id": "129ce78d-f7ce-4dc3-ad97-28fc44d39eb5",
   "metadata": {
    "slideshow": {
     "slide_type": "slide"
    },
    "tags": []
   },
   "source": [
    "# String Indexing 1/3\n",
    "\n",
    "Since strings are a sequence, we can use brackets `[]` after an object to call its index. We should also note that indexing **starts at 0** for Python."
   ]
  },
  {
   "cell_type": "code",
   "execution_count": null,
   "id": "c10e9c13-e413-4e5e-86aa-3340c318b077",
   "metadata": {},
   "outputs": [],
   "source": [
    "name = 'Emma'\n",
    "name"
   ]
  },
  {
   "cell_type": "code",
   "execution_count": null,
   "id": "d5b35004-1244-4e45-b270-874091f7edce",
   "metadata": {},
   "outputs": [],
   "source": [
    "name[0]"
   ]
  },
  {
   "cell_type": "code",
   "execution_count": null,
   "id": "537f87bd-3c9f-415f-b13c-5c8e74d4e148",
   "metadata": {},
   "outputs": [],
   "source": [
    "name[1]"
   ]
  },
  {
   "cell_type": "code",
   "execution_count": null,
   "id": "22f0d391-282a-4b51-80dd-f904eaa8efea",
   "metadata": {},
   "outputs": [],
   "source": [
    "name[-1]"
   ]
  },
  {
   "cell_type": "markdown",
   "id": "a463f4eb-3437-48af-90fc-0e1c8344f1f0",
   "metadata": {
    "slideshow": {
     "slide_type": "slide"
    },
    "tags": []
   },
   "source": [
    "# String Indexing 2/3"
   ]
  },
  {
   "cell_type": "code",
   "execution_count": null,
   "id": "f725fccd-73cb-480c-b8b7-bad0f6543725",
   "metadata": {},
   "outputs": [],
   "source": [
    "name[:2]"
   ]
  },
  {
   "cell_type": "code",
   "execution_count": null,
   "id": "8c7dcd80-231c-4fc9-a5db-61f187bf8768",
   "metadata": {},
   "outputs": [],
   "source": [
    "name[2:]"
   ]
  },
  {
   "cell_type": "code",
   "execution_count": null,
   "id": "c849d93b-86b7-4449-9fcd-70eae5399074",
   "metadata": {},
   "outputs": [],
   "source": [
    "name[::1]"
   ]
  },
  {
   "cell_type": "markdown",
   "id": "c49ec0da-22bf-4e24-87c3-1adc01fc84e4",
   "metadata": {
    "slideshow": {
     "slide_type": "slide"
    },
    "tags": []
   },
   "source": [
    "# String Indexing 3/3"
   ]
  },
  {
   "cell_type": "code",
   "execution_count": null,
   "id": "37ff470d-009a-4ec9-8cd6-932553749bcc",
   "metadata": {},
   "outputs": [],
   "source": [
    "name[::2]"
   ]
  },
  {
   "cell_type": "markdown",
   "id": "0ed34619-e716-4e3c-8f9c-7525096930cc",
   "metadata": {},
   "source": [
    "What will be the ouptut of `name[::-1]`"
   ]
  },
  {
   "cell_type": "markdown",
   "id": "56df77b7-f4ef-47cc-a6fe-de348536e132",
   "metadata": {
    "slideshow": {
     "slide_type": "slide"
    },
    "tags": []
   },
   "source": [
    "# String Properties 1/3\n",
    "\n",
    "String in Python are **immutable** i.e., once a string is created, the elements within it can not be changed or replaced."
   ]
  },
  {
   "cell_type": "code",
   "execution_count": null,
   "id": "0dcb3e9e-9cda-4470-8ab2-a6afa8b62a52",
   "metadata": {},
   "outputs": [],
   "source": [
    "name"
   ]
  },
  {
   "cell_type": "code",
   "execution_count": null,
   "id": "6a15c42e-2eae-4bdb-9487-e48973fef90d",
   "metadata": {},
   "outputs": [],
   "source": [
    "name[0] = 'e'"
   ]
  },
  {
   "cell_type": "markdown",
   "id": "e1d8e7fa-1865-4591-9da5-e9999eb3cdff",
   "metadata": {
    "slideshow": {
     "slide_type": "slide"
    },
    "tags": []
   },
   "source": [
    "# String Properties 2/3\n",
    "\n",
    "So if we need to change the value of a string, we will need to **reassign** it the new value:"
   ]
  },
  {
   "cell_type": "code",
   "execution_count": null,
   "id": "49d7a9ab-858a-427f-9b99-05b3bb4be389",
   "metadata": {},
   "outputs": [],
   "source": [
    "name = name + \" Stone\"\n",
    "name"
   ]
  },
  {
   "cell_type": "code",
   "execution_count": null,
   "id": "b157c06b-173b-4fde-b89a-0ded3b9c3fea",
   "metadata": {
    "tags": [
     "hide_code"
    ]
   },
   "outputs": [],
   "source": [
    "display(Image(url=\"https://api.time.com/wp-content/uploads/2016/12/emma-stone-lalaland.jpg\", width = 400) )"
   ]
  },
  {
   "cell_type": "markdown",
   "id": "f9ee78e4-3eb7-4d8f-9954-9347e639175c",
   "metadata": {
    "slideshow": {
     "slide_type": "slide"
    },
    "tags": []
   },
   "source": [
    "# String Properties 3/3"
   ]
  },
  {
   "cell_type": "code",
   "execution_count": null,
   "id": "f9c902fd-d7b3-422b-9ee7-4cdfea4599e1",
   "metadata": {},
   "outputs": [],
   "source": [
    "name * 5"
   ]
  },
  {
   "cell_type": "markdown",
   "id": "4bc8b6a8-8c75-4042-b580-9c287e1fc5b9",
   "metadata": {
    "slideshow": {
     "slide_type": "slide"
    },
    "tags": []
   },
   "source": [
    "# Bulit-in String Method\n",
    "\n",
    "In Python, we can call objects' methods with a period and then the method name in the following form: `object.method(parameters)`. And here are some built-in methods in strings:"
   ]
  },
  {
   "cell_type": "code",
   "execution_count": null,
   "id": "c87172a6-8d31-4d0f-831f-f238383b2ec6",
   "metadata": {},
   "outputs": [],
   "source": [
    "name.upper() # Convert to upper case"
   ]
  },
  {
   "cell_type": "code",
   "execution_count": null,
   "id": "591908de-0b83-4e1d-a331-6604804c2c53",
   "metadata": {},
   "outputs": [],
   "source": [
    "name.lower() # Convert to lower case"
   ]
  },
  {
   "cell_type": "code",
   "execution_count": null,
   "id": "f0b74722-1c5a-4c22-bd5a-6a19f6b02862",
   "metadata": {},
   "outputs": [],
   "source": [
    "name.split()  # Split by a separator (the default are white spaces)"
   ]
  },
  {
   "cell_type": "code",
   "execution_count": null,
   "id": "8f73e1b7-c5a6-4b61-a1fa-58a8cad995d4",
   "metadata": {},
   "outputs": [],
   "source": [
    "name.replace(\"m\", \"M\")"
   ]
  },
  {
   "cell_type": "markdown",
   "id": "81973bae-f7ed-45b6-aa99-375dcb8e48ca",
   "metadata": {
    "slideshow": {
     "slide_type": "slide"
    },
    "tags": []
   },
   "source": [
    "# More Python String Methods\n",
    "\n",
    "A comprehensive list of string methods in Python can be found:\n",
    "\n",
    "- here: [Python String Functions at Digital Ocean](https://www.digitalocean.com/community/tutorials/python-string-functions), and\n",
    "- here: [Python String Methods at Geeks for Geeks](https://www.geeksforgeeks.org/python-string-methods/)\n",
    "\n",
    "BTW, both are excellent resources for additional documentation and examples."
   ]
  },
  {
   "cell_type": "markdown",
   "id": "e88d677f-095f-4392-b6d7-f763ee6d3b36",
   "metadata": {
    "slideshow": {
     "slide_type": "slide"
    },
    "tags": []
   },
   "source": [
    "# Summary\n",
    "- Python is awesome\n",
    "- Python uses **dynamic typing**\n",
    "- Parentheses `( )` are for calling **functions**\n",
    "- Square brackets `[ ]` are are indexing **lists**\n",
    "- Strings are **immutable** lists\n",
    "- Lists start indexing at **zero**"
   ]
  },
  {
   "cell_type": "code",
   "execution_count": null,
   "id": "185fdc0d-9714-4281-994d-241a9eab8649",
   "metadata": {
    "slideshow": {
     "slide_type": "slide"
    },
    "tags": []
   },
   "outputs": [],
   "source": [
    "print(\"Thank you!\")"
   ]
  },
  {
   "cell_type": "code",
   "execution_count": null,
   "id": "635ff995-d079-4844-bfb6-57f1edb1d4f7",
   "metadata": {
    "tags": [
     "hide_code"
    ]
   },
   "outputs": [],
   "source": [
    "display(Image(url=\"https://miro.medium.com/v2/resize:fit:800/format:webp/0*6GbsTL8b7L2EBvu1.jpg\", width = 300))"
   ]
  }
 ],
 "metadata": {
  "author": "Ahmed Moustafa",
  "kernelspec": {
   "display_name": "Python 3 (ipykernel)",
   "language": "python",
   "name": "python3"
  },
  "language_info": {
   "codemirror_mode": {
    "name": "ipython",
    "version": 3
   },
   "file_extension": ".py",
   "mimetype": "text/x-python",
   "name": "python",
   "nbconvert_exporter": "python",
   "pygments_lexer": "ipython3",
   "version": "3.8.15"
  },
  "title": "Lecture 01: Introduction to Python"
 },
 "nbformat": 4,
 "nbformat_minor": 5
}
