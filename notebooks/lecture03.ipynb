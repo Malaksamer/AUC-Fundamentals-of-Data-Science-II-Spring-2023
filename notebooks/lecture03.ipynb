{
 "cells": [
  {
   "cell_type": "code",
   "execution_count": 1,
   "id": "6f72a4df-0214-469a-9e87-0ec372a7acff",
   "metadata": {
    "slideshow": {
     "slide_type": "slide"
    },
    "tags": [
     "hide_code"
    ]
   },
   "outputs": [
    {
     "data": {
      "image/png": "[encoded data removed]",
      "text/plain": [
       "<IPython.core.display.Image object>"
      ]
     },
     "metadata": {},
     "output_type": "display_data"
    }
   ],
   "source": [
    "from IPython.display import display, Image\n",
    "display(Image(filename=\"images/AUC.png\"))"
   ]
  },
  {
   "cell_type": "markdown",
   "id": "f0ba2ce4-8dcc-47c1-9d03-42d798c43ac7",
   "metadata": {
    "tags": []
   },
   "source": [
    "# Introduction to Python\n",
    "\n",
    "## Lists & Dictionaries & Tuples\n",
    "\n",
    "- Slides by [Ahmed Moustafa](https://github.com/ahmedmoustafa)\n",
    "- Content modified from [Pierian Data](https://github.com/Pierian-Data/Complete-Python-3-Bootcamp)"
   ]
  },
  {
   "cell_type": "markdown",
   "id": "375c4e60-78b8-423a-9cd1-b22abf3ec4d4",
   "metadata": {
    "slideshow": {
     "slide_type": "slide"
    },
    "tags": []
   },
   "source": [
    "# Lists\n",
    "\n",
    "- Lists can be thought of the most general version of a sequence in Python.\n",
    "\n",
    "- Unlike strings, they are **mutable**, i.e. elements inside a list can be changed.\n",
    "\n",
    "- Lists are constructed with brackets `[ ]` and commas `,` separating every element in the list."
   ]
  },
  {
   "cell_type": "markdown",
   "id": "f234a4cb-f3ee-46cc-90a5-6df35e8aef08",
   "metadata": {
    "slideshow": {
     "slide_type": "slide"
    },
    "tags": []
   },
   "source": [
    "# Creating a List"
   ]
  },
  {
   "cell_type": "code",
   "execution_count": 2,
   "id": "701cc1e4-bd66-4eda-882f-47f426281bd3",
   "metadata": {},
   "outputs": [
    {
     "data": {
      "text/plain": [
       "[65.0, 70.5, 72.3, 68.0, 77.2]"
      ]
     },
     "execution_count": 2,
     "metadata": {},
     "output_type": "execute_result"
    }
   ],
   "source": [
    "weights = [65.0, 70.5, 72.3, 68.0, 77.2] # list of numbers\n",
    "weights"
   ]
  },
  {
   "cell_type": "code",
   "execution_count": 3,
   "id": "62191048-06f3-425c-874e-c22095db2aad",
   "metadata": {},
   "outputs": [
    {
     "data": {
      "text/plain": [
       "['London', 'Paris', 'New York', 'Tokyo', 'Berlin']"
      ]
     },
     "execution_count": 3,
     "metadata": {},
     "output_type": "execute_result"
    }
   ],
   "source": [
    "cities = [\"London\", \"Paris\", \"New York\", \"Tokyo\", \"Berlin\"] # list of strings\n",
    "cities"
   ]
  },
  {
   "cell_type": "code",
   "execution_count": 4,
   "id": "5b2ad130-2dab-4b33-85be-f9ae213aa7d5",
   "metadata": {},
   "outputs": [
    {
     "data": {
      "text/plain": [
       "[1, 2.5, 'hello', 'world', 42, 'python']"
      ]
     },
     "execution_count": 4,
     "metadata": {},
     "output_type": "execute_result"
    }
   ],
   "source": [
    "types = [1, 2.5, \"hello\", \"world\", 42, \"python\"] # list of different data types\n",
    "types"
   ]
  },
  {
   "cell_type": "markdown",
   "id": "ffb9807c-1404-4b70-813f-a9540072b932",
   "metadata": {
    "slideshow": {
     "slide_type": "slide"
    },
    "tags": []
   },
   "source": [
    "# List of Lists\n",
    "\n",
    "We can also create a list of lists. For example, combining the two list we just created, `cities` and `weights` into a new list `my_list`:"
   ]
  },
  {
   "cell_type": "code",
   "execution_count": 5,
   "id": "9ed13760-a094-48ef-aa98-d488cfe9e457",
   "metadata": {},
   "outputs": [
    {
     "data": {
      "text/plain": [
       "[['London', 'Paris', 'New York', 'Tokyo', 'Berlin'],\n",
       " [65.0, 70.5, 72.3, 68.0, 77.2]]"
      ]
     },
     "execution_count": 5,
     "metadata": {},
     "output_type": "execute_result"
    }
   ],
   "source": [
    "my_list = [cities, weights]\n",
    "my_list"
   ]
  },
  {
   "cell_type": "code",
   "execution_count": 6,
   "id": "9452d397-4c48-4cdc-910f-a4f54131b2e7",
   "metadata": {},
   "outputs": [
    {
     "data": {
      "text/plain": [
       "2"
      ]
     },
     "execution_count": 6,
     "metadata": {},
     "output_type": "execute_result"
    }
   ],
   "source": [
    "len(my_list)"
   ]
  },
  {
   "cell_type": "markdown",
   "id": "1defc639-8f89-47da-b316-e3b13b3e1b64",
   "metadata": {
    "slideshow": {
     "slide_type": "slide"
    },
    "tags": []
   },
   "source": [
    "# Indexing and Slicing 1/3\n",
    "\n",
    "Indexing and slicing work just like in strings:"
   ]
  },
  {
   "cell_type": "code",
   "execution_count": 7,
   "id": "84fba064-ebfe-4759-a5ee-43b9f42116fd",
   "metadata": {
    "tags": []
   },
   "outputs": [
    {
     "data": {
      "text/plain": [
       "'London'"
      ]
     },
     "execution_count": 7,
     "metadata": {},
     "output_type": "execute_result"
    }
   ],
   "source": [
    "cities[0]"
   ]
  },
  {
   "cell_type": "code",
   "execution_count": 8,
   "id": "82fcbe52-6bd8-458f-80cd-08c7d23991e9",
   "metadata": {},
   "outputs": [
    {
     "data": {
      "text/plain": [
       "['Paris', 'New York', 'Tokyo', 'Berlin']"
      ]
     },
     "execution_count": 8,
     "metadata": {},
     "output_type": "execute_result"
    }
   ],
   "source": [
    "cities[1:]"
   ]
  },
  {
   "cell_type": "code",
   "execution_count": 9,
   "id": "8735eafa-348b-42a8-bdc2-6fe03209fc76",
   "metadata": {},
   "outputs": [
    {
     "data": {
      "text/plain": [
       "['Berlin', 'Tokyo', 'New York', 'Paris', 'London']"
      ]
     },
     "execution_count": 9,
     "metadata": {},
     "output_type": "execute_result"
    }
   ],
   "source": [
    "cities[::-1]"
   ]
  },
  {
   "cell_type": "code",
   "execution_count": 10,
   "id": "74f68760-6401-4068-9a14-f640b10d6e33",
   "metadata": {},
   "outputs": [
    {
     "data": {
      "text/plain": [
       "['London', 'Paris', 'New York', 'Tokyo', 'Berlin', 'Cairo', 'Alexandria']"
      ]
     },
     "execution_count": 10,
     "metadata": {},
     "output_type": "execute_result"
    }
   ],
   "source": [
    "cities + [\"Cairo\", \"Alexandria\"]"
   ]
  },
  {
   "cell_type": "markdown",
   "id": "f3e973ba-d820-4c76-a3ac-1ce3757a9e08",
   "metadata": {
    "slideshow": {
     "slide_type": "slide"
    },
    "tags": []
   },
   "source": [
    "# Indexing and Slicing 2/3"
   ]
  },
  {
   "cell_type": "code",
   "execution_count": 11,
   "id": "7797969b-58fd-4562-8e9b-7e2748a3696d",
   "metadata": {
    "tags": []
   },
   "outputs": [
    {
     "data": {
      "text/plain": [
       "['London', 'Paris', 'New York', 'Tokyo', 'Berlin']"
      ]
     },
     "execution_count": 11,
     "metadata": {},
     "output_type": "execute_result"
    }
   ],
   "source": [
    "cities"
   ]
  },
  {
   "cell_type": "code",
   "execution_count": 12,
   "id": "dbb574fe-16e4-408b-9c3d-fcdb10f04f11",
   "metadata": {},
   "outputs": [
    {
     "data": {
      "text/plain": [
       "['London', 'Paris', 'New York', 'Tokyo', 'Berlin', 'Cairo', 'Alexandria']"
      ]
     },
     "execution_count": 12,
     "metadata": {},
     "output_type": "execute_result"
    }
   ],
   "source": [
    "cities += [\"Cairo\", \"Alexandria\"]\n",
    "cities"
   ]
  },
  {
   "cell_type": "code",
   "execution_count": 13,
   "id": "8fbac60c-f512-4f0b-a487-ac06867806d0",
   "metadata": {},
   "outputs": [
    {
     "data": {
      "text/plain": [
       "['London',\n",
       " 'Paris',\n",
       " 'New York',\n",
       " 'Tokyo',\n",
       " 'Berlin',\n",
       " 'Cairo',\n",
       " 'Alexandria',\n",
       " 'London',\n",
       " 'Paris',\n",
       " 'New York',\n",
       " 'Tokyo',\n",
       " 'Berlin',\n",
       " 'Cairo',\n",
       " 'Alexandria']"
      ]
     },
     "execution_count": 13,
     "metadata": {},
     "output_type": "execute_result"
    }
   ],
   "source": [
    "cities * 2"
   ]
  },
  {
   "cell_type": "markdown",
   "id": "9afca611-66c2-44eb-8666-3d7b07b49cdb",
   "metadata": {
    "slideshow": {
     "slide_type": "slide"
    },
    "tags": []
   },
   "source": [
    "# Indexing and Slicing 3/3"
   ]
  },
  {
   "cell_type": "code",
   "execution_count": 14,
   "id": "d5544f71-4b0b-4d45-b9cd-e5e01d472177",
   "metadata": {},
   "outputs": [
    {
     "data": {
      "text/plain": [
       "[['London', 'Paris', 'New York', 'Tokyo', 'Berlin', 'Cairo', 'Alexandria'],\n",
       " [65.0, 70.5, 72.3, 68.0, 77.2]]"
      ]
     },
     "execution_count": 14,
     "metadata": {},
     "output_type": "execute_result"
    }
   ],
   "source": [
    "my_list"
   ]
  },
  {
   "cell_type": "code",
   "execution_count": 15,
   "id": "dd685791-0d93-4de4-8a70-9c821191be4a",
   "metadata": {},
   "outputs": [
    {
     "data": {
      "text/plain": [
       "2"
      ]
     },
     "execution_count": 15,
     "metadata": {},
     "output_type": "execute_result"
    }
   ],
   "source": [
    "len(my_list)"
   ]
  },
  {
   "cell_type": "code",
   "execution_count": 16,
   "id": "8ef06d0c-1fc4-4997-a3d8-1d840864bf9c",
   "metadata": {},
   "outputs": [
    {
     "data": {
      "text/plain": [
       "['London', 'Paris', 'New York', 'Tokyo', 'Berlin', 'Cairo', 'Alexandria']"
      ]
     },
     "execution_count": 16,
     "metadata": {},
     "output_type": "execute_result"
    }
   ],
   "source": [
    "my_list[0]"
   ]
  },
  {
   "cell_type": "code",
   "execution_count": 17,
   "id": "0fa4d0e7-e4ce-4124-a560-bbf180851c7c",
   "metadata": {},
   "outputs": [
    {
     "data": {
      "text/plain": [
       "72.3"
      ]
     },
     "execution_count": 17,
     "metadata": {},
     "output_type": "execute_result"
    }
   ],
   "source": [
    "my_list[1][2]"
   ]
  }
 ],
 "metadata": {
  "author": "Ahmed Moustafa",
  "kernelspec": {
   "display_name": "Python 3 (ipykernel)",
   "language": "python",
   "name": "python3"
  },
  "language_info": {
   "codemirror_mode": {
    "name": "ipython",
    "version": 3
   },
   "file_extension": ".py",
   "mimetype": "text/x-python",
   "name": "python",
   "nbconvert_exporter": "python",
   "pygments_lexer": "ipython3",
   "version": "3.8.15"
  },
  "title": "Lists"
 },
 "nbformat": 4,
 "nbformat_minor": 5
}
