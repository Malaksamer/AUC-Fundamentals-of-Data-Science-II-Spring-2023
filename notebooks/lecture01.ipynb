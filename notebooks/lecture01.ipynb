{
 "cells": [
  {
   "cell_type": "markdown",
   "id": "f0ba2ce4-8dcc-47c1-9d03-42d798c43ac7",
   "metadata": {
    "slideshow": {
     "slide_type": "slide"
    },
    "tags": []
   },
   "source": [
    "# Introduction to Python"
   ]
  },
  {
   "cell_type": "markdown",
   "id": "375c4e60-78b8-423a-9cd1-b22abf3ec4d4",
   "metadata": {
    "slideshow": {
     "slide_type": "slide"
    },
    "tags": []
   },
   "source": [
    "# What is Python and why use it\n",
    "\n",
    "Python is a\n",
    "- **high-level**,\n",
    "- **interpreted**, \n",
    "- **general-purpose** programming language that is used for a wide range of applications.\n",
    "- It is easy to learn, powerful, and\n",
    "- has a large community of users."
   ]
  },
  {
   "cell_type": "markdown",
   "id": "f234a4cb-f3ee-46cc-90a5-6df35e8aef08",
   "metadata": {
    "slideshow": {
     "slide_type": "slide"
    },
    "tags": []
   },
   "source": [
    "# Why is it called Python?\n",
    "\n",
    "When he began implementing Python, Guido van Rossum was also reading the published scripts from “Monty Python's Flying Circus”, a BBC comedy series from the 1970s. Van Rossum thought he needed a name that was short, unique, and slightly mysterious, so he decided to call the language Python.\n",
    "\n",
    "<sub>--General Python FAQ</sub>"
   ]
  },
  {
   "cell_type": "code",
   "execution_count": 1,
   "id": "7f4f3a3e-bbc2-47e1-9d0e-297b041ccb2c",
   "metadata": {},
   "outputs": [
    {
     "name": "stdout",
     "output_type": "stream",
     "text": [
      "3\n"
     ]
    }
   ],
   "source": [
    "x = 1\n",
    "y = 2\n",
    "print (x + y)"
   ]
  }
 ],
 "metadata": {
  "author": "Ahmed Moustafa",
  "kernelspec": {
   "display_name": "Python 3 (ipykernel)",
   "language": "python",
   "name": "python3"
  },
  "language_info": {
   "codemirror_mode": {
    "name": "ipython",
    "version": 3
   },
   "file_extension": ".py",
   "mimetype": "text/x-python",
   "name": "python",
   "nbconvert_exporter": "python",
   "pygments_lexer": "ipython3",
   "version": "3.8.15"
  },
  "title": "Lecture 01: Introduction to Python"
 },
 "nbformat": 4,
 "nbformat_minor": 5
}
