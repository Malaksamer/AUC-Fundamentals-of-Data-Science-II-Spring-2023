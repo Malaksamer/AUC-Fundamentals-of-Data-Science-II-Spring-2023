{
 "cells": [
  {
   "cell_type": "markdown",
   "id": "f0ba2ce4-8dcc-47c1-9d03-42d798c43ac7",
   "metadata": {
    "slideshow": {
     "slide_type": "slide"
    },
    "tags": []
   },
   "source": [
    "# Introduction to Python\n",
    "\n",
    "Content adopted from [Pierian Data](https://github.com/Pierian-Data/Complete-Python-3-Bootcamp)"
   ]
  },
  {
   "cell_type": "markdown",
   "id": "375c4e60-78b8-423a-9cd1-b22abf3ec4d4",
   "metadata": {
    "slideshow": {
     "slide_type": "slide"
    },
    "tags": []
   },
   "source": [
    "# What is Python and why use it\n",
    "\n",
    "- **high-level**,\n",
    "- **interpreted**, \n",
    "- **general-purpose** programming language that is used for a wide range of applications.\n",
    "- It is easy to learn, powerful, and\n",
    "- has a large community of users."
   ]
  },
  {
   "cell_type": "markdown",
   "id": "f234a4cb-f3ee-46cc-90a5-6df35e8aef08",
   "metadata": {
    "slideshow": {
     "slide_type": "slide"
    },
    "tags": []
   },
   "source": [
    "# Why is it called Python?\n",
    "\n",
    "When he began implementing Python, Guido van Rossum was also reading the published scripts from “Monty Python's Flying Circus”, a BBC comedy series from the 1970s. Van Rossum thought he needed a name that was short, unique, and slightly mysterious, so he decided to call the language Python.\n",
    "\n",
    "<sub>--General Python FAQ</sub>"
   ]
  },
  {
   "cell_type": "markdown",
   "id": "704cb65f-2633-449b-8187-22c5db029558",
   "metadata": {
    "slideshow": {
     "slide_type": "slide"
    },
    "tags": []
   },
   "source": [
    "# Variable\n",
    "\n",
    "A variable is a named storage location used to hold a value. The value of a variable can be changed and it can be used in expressions and operations"
   ]
  },
  {
   "cell_type": "markdown",
   "id": "4e33cffa-1e5c-425a-b766-6175839f72bf",
   "metadata": {
    "slideshow": {
     "slide_type": "slide"
    },
    "tags": []
   },
   "source": [
    "# Variable Assignment\n",
    "\n",
    "- Rules for variable names\n",
    "- names can not start with a number\n",
    "- names can not contain spaces, use _ intead\n",
    "- names can not contain any of these symbols: `'\",<>/?|\\!@#%^&*~-+`\n",
    "- accoding to Style Guide for Python Code ([PEP8](https://www.python.org/dev/peps/pep-0008/#function-and-variable-names)), it's considered best practice that names are lowercase with underscores\n",
    "- avoid using Python built-in keywords like `list` and `str`\n",
    "- avoid using the single characters l (lowercase letter el), O (uppercase letter oh) and I (uppercase letter eye) as they can be confused with 1 and 0"
   ]
  },
  {
   "cell_type": "markdown",
   "id": "72ddce51-e752-486e-ad29-5f598087dbae",
   "metadata": {
    "slideshow": {
     "slide_type": "slide"
    },
    "tags": []
   },
   "source": [
    "# Dynamic Typing\n",
    "\n",
    "Python uses *dynamic typing*, meaning you can reassign variables to different data types. This makes Python very flexible in assigning data types; it differs from other languages that are statically typed."
   ]
  },
  {
   "cell_type": "code",
   "execution_count": 1,
   "id": "6847f977-2251-41e9-b49a-8b9a17d781cf",
   "metadata": {},
   "outputs": [
    {
     "data": {
      "text/plain": [
       "2"
      ]
     },
     "execution_count": 1,
     "metadata": {},
     "output_type": "execute_result"
    }
   ],
   "source": [
    "my_cat = 2\n",
    "my_cat"
   ]
  },
  {
   "cell_type": "code",
   "execution_count": 2,
   "id": "85177ae4-a17a-4adf-8cb4-59a8f530a8bf",
   "metadata": {},
   "outputs": [
    {
     "data": {
      "text/plain": [
       "['Basbousa', 'Lucy']"
      ]
     },
     "execution_count": 2,
     "metadata": {},
     "output_type": "execute_result"
    }
   ],
   "source": [
    "my_cat = ['Basbousa', 'Lucy']\n",
    "my_cat"
   ]
  },
  {
   "cell_type": "markdown",
   "id": "adc3c1a6-e0f4-45ac-8231-2850bba38bc2",
   "metadata": {
    "slideshow": {
     "slide_type": "slide"
    },
    "tags": []
   },
   "source": [
    "# Pros and Cons of Dynamic Typing\n",
    "- Pros of Dynamic Typing\n",
    "    - very easy to work with\n",
    "    - faster development time\n",
    "- Cons of Dynamic Typing\n",
    "    - may result in unexpected bugs!"
   ]
  },
  {
   "cell_type": "markdown",
   "id": "a17857c5-169c-4998-848c-d71071041e8a",
   "metadata": {
    "slideshow": {
     "slide_type": "slide"
    },
    "tags": []
   },
   "source": [
    "# Assigning Variables\n",
    "Variable assignment follows `name = object`, where a single equals sign `=` is an assignment operator"
   ]
  },
  {
   "cell_type": "code",
   "execution_count": 3,
   "id": "cbb87457-e6f9-4a0c-9add-16b461fd8a97",
   "metadata": {},
   "outputs": [
    {
     "data": {
      "text/plain": [
       "5"
      ]
     },
     "execution_count": 3,
     "metadata": {},
     "output_type": "execute_result"
    }
   ],
   "source": [
    "a = 5\n",
    "a"
   ]
  },
  {
   "cell_type": "markdown",
   "id": "c21a45e3-b362-4bc3-93c3-36f3838eb5e2",
   "metadata": {
    "slideshow": {
     "slide_type": "slide"
    },
    "tags": []
   },
   "source": [
    "# Reassigning Variables\n",
    "Python lets you reassign variables with a reference to the same object."
   ]
  },
  {
   "cell_type": "code",
   "execution_count": 4,
   "id": "37c970c7-56c0-4d97-883a-093df042fb22",
   "metadata": {},
   "outputs": [
    {
     "data": {
      "text/plain": [
       "15"
      ]
     },
     "execution_count": 4,
     "metadata": {},
     "output_type": "execute_result"
    }
   ],
   "source": [
    "a = a + 10\n",
    "a"
   ]
  },
  {
   "cell_type": "markdown",
   "id": "cdb9803e-48e9-490a-87cf-3e8456a1311c",
   "metadata": {
    "slideshow": {
     "slide_type": "subslide"
    },
    "tags": []
   },
   "source": [
    "There's actually a shortcut for this. Python lets you add, subtract, multiply and divide numbers with reassignment using `+=`, `-=`, `*=`, and `/=`."
   ]
  },
  {
   "cell_type": "code",
   "execution_count": 5,
   "id": "7fda4f64-d40d-4e35-8d1f-e9a9a6609058",
   "metadata": {},
   "outputs": [
    {
     "data": {
      "text/plain": [
       "25"
      ]
     },
     "execution_count": 5,
     "metadata": {},
     "output_type": "execute_result"
    }
   ],
   "source": [
    "a += 10\n",
    "a"
   ]
  },
  {
   "cell_type": "code",
   "execution_count": 6,
   "id": "49108cba-402f-49aa-a190-733dd8c399dd",
   "metadata": {},
   "outputs": [
    {
     "data": {
      "text/plain": [
       "50"
      ]
     },
     "execution_count": 6,
     "metadata": {},
     "output_type": "execute_result"
    }
   ],
   "source": [
    "a *= 2\n",
    "a"
   ]
  },
  {
   "cell_type": "markdown",
   "id": "4a252602-7a7e-4548-b9f5-32a009c94cc9",
   "metadata": {},
   "source": [
    "# Determining variable type with `type()`\n",
    "You can check what type of object is assigned to a variable using Python's built-in type() function. Common data types include:"
   ]
  },
  {
   "cell_type": "code",
   "execution_count": 7,
   "id": "2ddf472d-e341-4c47-9155-977d3d1bffbf",
   "metadata": {},
   "outputs": [
    {
     "data": {
      "text/plain": [
       "int"
      ]
     },
     "execution_count": 7,
     "metadata": {},
     "output_type": "execute_result"
    }
   ],
   "source": [
    "type(a)"
   ]
  },
  {
   "cell_type": "markdown",
   "id": "41f1bc77-70bf-40f8-8c24-97459704a9be",
   "metadata": {
    "slideshow": {
     "slide_type": "slide"
    },
    "tags": []
   },
   "source": [
    "# Numbers\n",
    "Basically there are two types of numbers:\n",
    "- 2 is interger `int`\n",
    "- 2.0 is floating point `float`\n",
    "\n",
    "| Example | Number Type |\n",
    "| - | - |\n",
    "| 1,2,-5,1000 | Integers |\n",
    "| 1.2,-0.5,2e2,3E2 | Floating point |"
   ]
  },
  {
   "cell_type": "code",
   "execution_count": 8,
   "id": "e8d0feee-ce1e-4394-b331-24c859bbce92",
   "metadata": {},
   "outputs": [
    {
     "data": {
      "text/plain": [
       "int"
      ]
     },
     "execution_count": 8,
     "metadata": {},
     "output_type": "execute_result"
    }
   ],
   "source": [
    "type(2)"
   ]
  },
  {
   "cell_type": "code",
   "execution_count": 9,
   "id": "2a88bae9-efe6-481d-a016-5ec959a1069a",
   "metadata": {},
   "outputs": [
    {
     "data": {
      "text/plain": [
       "float"
      ]
     },
     "execution_count": 9,
     "metadata": {},
     "output_type": "execute_result"
    }
   ],
   "source": [
    "type(2.0)"
   ]
  },
  {
   "cell_type": "markdown",
   "id": "d9b3d2e4-b3c4-4ea5-845e-e23a650a4192",
   "metadata": {
    "slideshow": {
     "slide_type": "slide"
    },
    "tags": []
   },
   "source": [
    "Basic Arithmetic 1/2"
   ]
  },
  {
   "cell_type": "code",
   "execution_count": 10,
   "id": "0fbc2c6d-fb34-4579-9d99-7756ef7e7e49",
   "metadata": {},
   "outputs": [
    {
     "data": {
      "text/plain": [
       "3"
      ]
     },
     "execution_count": 10,
     "metadata": {},
     "output_type": "execute_result"
    }
   ],
   "source": [
    "2+1 # Addition"
   ]
  },
  {
   "cell_type": "code",
   "execution_count": 11,
   "id": "ae3a4424-c5c2-46a7-9e21-bfea05e42aca",
   "metadata": {},
   "outputs": [
    {
     "data": {
      "text/plain": [
       "1"
      ]
     },
     "execution_count": 11,
     "metadata": {},
     "output_type": "execute_result"
    }
   ],
   "source": [
    "2-1 # Subtraction"
   ]
  },
  {
   "cell_type": "code",
   "execution_count": 12,
   "id": "8a9f5a08-24af-45e3-b002-f487b6087589",
   "metadata": {},
   "outputs": [
    {
     "data": {
      "text/plain": [
       "4"
      ]
     },
     "execution_count": 12,
     "metadata": {},
     "output_type": "execute_result"
    }
   ],
   "source": [
    "2*2 # Multiplication"
   ]
  },
  {
   "cell_type": "code",
   "execution_count": 13,
   "id": "f41c59d4-6f39-461d-9abe-de281870e8c1",
   "metadata": {},
   "outputs": [
    {
     "data": {
      "text/plain": [
       "1.5"
      ]
     },
     "execution_count": 13,
     "metadata": {},
     "output_type": "execute_result"
    }
   ],
   "source": [
    "3/2 # Division"
   ]
  },
  {
   "cell_type": "markdown",
   "id": "2f3690fe-e5a7-45a5-a59e-3947b03a9d24",
   "metadata": {
    "slideshow": {
     "slide_type": "slide"
    },
    "tags": []
   },
   "source": [
    "Basic Arithmetic 2/2"
   ]
  },
  {
   "cell_type": "code",
   "execution_count": 14,
   "id": "9c48d98b-86e4-4a78-952d-33b012ae9dc1",
   "metadata": {},
   "outputs": [
    {
     "data": {
      "text/plain": [
       "8"
      ]
     },
     "execution_count": 14,
     "metadata": {},
     "output_type": "execute_result"
    }
   ],
   "source": [
    "2**3 # Powers"
   ]
  },
  {
   "cell_type": "markdown",
   "id": "d7c1857d-81c0-4a0c-bab5-fbf8796baeed",
   "metadata": {},
   "source": [
    "Question: how to calculate the sequare root of 16?"
   ]
  },
  {
   "cell_type": "markdown",
   "id": "c137fe2c-04cb-4b7d-9e2b-ab0c7c3e72a4",
   "metadata": {
    "slideshow": {
     "slide_type": "slide"
    },
    "tags": []
   },
   "source": [
    "# Order of Operations"
   ]
  },
  {
   "cell_type": "code",
   "execution_count": 15,
   "id": "0449e294-d43b-41f2-9166-174e2a73179b",
   "metadata": {
    "tags": [
     "hide-output"
    ]
   },
   "outputs": [
    {
     "data": {
      "text/plain": [
       "105"
      ]
     },
     "execution_count": 15,
     "metadata": {},
     "output_type": "execute_result"
    }
   ],
   "source": [
    "2 + 10 * 10 + 3"
   ]
  },
  {
   "cell_type": "code",
   "execution_count": 16,
   "id": "d4cac443-f79b-4952-ae0c-5e29613141a3",
   "metadata": {},
   "outputs": [
    {
     "data": {
      "text/plain": [
       "156"
      ]
     },
     "execution_count": 16,
     "metadata": {},
     "output_type": "execute_result"
    }
   ],
   "source": [
    "(2+10) * (10+3)"
   ]
  },
  {
   "cell_type": "code",
   "execution_count": null,
   "id": "a7bee2cb-631b-46e6-abb4-f1fbadd68167",
   "metadata": {},
   "outputs": [],
   "source": []
  }
 ],
 "metadata": {
  "author": "Ahmed Moustafa",
  "kernelspec": {
   "display_name": "Python 3 (ipykernel)",
   "language": "python",
   "name": "python3"
  },
  "language_info": {
   "codemirror_mode": {
    "name": "ipython",
    "version": 3
   },
   "file_extension": ".py",
   "mimetype": "text/x-python",
   "name": "python",
   "nbconvert_exporter": "python",
   "pygments_lexer": "ipython3",
   "version": "3.8.15"
  },
  "title": "Lecture 01: Introduction to Python"
 },
 "nbformat": 4,
 "nbformat_minor": 5
}
