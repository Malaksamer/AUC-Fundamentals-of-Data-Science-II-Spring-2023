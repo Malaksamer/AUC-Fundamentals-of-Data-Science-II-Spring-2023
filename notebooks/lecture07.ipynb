{
 "cells": [
  {
   "cell_type": "code",
   "execution_count": 1,
   "id": "6f72a4df-0214-469a-9e87-0ec372a7acff",
   "metadata": {
    "slideshow": {
     "slide_type": "slide"
    },
    "tags": [
     "hide_code"
    ]
   },
   "outputs": [
    {
     "data": {
      "image/png": "[encoded data removed]",
      "text/plain": [
       "<IPython.core.display.Image object>"
      ]
     },
     "metadata": {},
     "output_type": "display_data"
    }
   ],
   "source": [
    "from IPython.display import display, Image\n",
    "display(Image(filename=\"images/AUC.png\"))"
   ]
  },
  {
   "cell_type": "markdown",
   "id": "f0ba2ce4-8dcc-47c1-9d03-42d798c43ac7",
   "metadata": {
    "tags": []
   },
   "source": [
    "# Functions in Python\n",
    "\n",
    "[Ahmed Moustafa](https://github.com/ahmedmoustafa)"
   ]
  },
  {
   "cell_type": "markdown",
   "id": "7aa2d3d5-f101-4068-8b41-157d18d190b0",
   "metadata": {
    "slideshow": {
     "slide_type": "slide"
    },
    "tags": []
   },
   "source": [
    "# Functions\n",
    "\n",
    "- Functions are **reusable** blocks of code that perform a specific task\n",
    "- They can take input parameters and return output values\n",
    "- Functions are essential in modular programming, as they help organize code and make it more readable"
   ]
  },
  {
   "cell_type": "markdown",
   "id": "b857657a-5499-40d6-ab8c-ab634794d3e4",
   "metadata": {
    "slideshow": {
     "slide_type": "slide"
    },
    "tags": []
   },
   "source": [
    "# Defining a Function\n",
    "\n",
    "- To define a function in Python, use the keyword `def` followed by the function name and input parameters in parentheses\n",
    "- The function body is **indented** below the header line\n",
    "- Use the keyword `return` to specify the output value(s) of the function"
   ]
  },
  {
   "cell_type": "code",
   "execution_count": 2,
   "id": "66aad96b-42f0-4e70-8d33-48b1e7cad75b",
   "metadata": {
    "tags": []
   },
   "outputs": [],
   "source": [
    "def add_numbers(x, y):\n",
    "    result = x + y\n",
    "    return result"
   ]
  },
  {
   "cell_type": "markdown",
   "id": "527061cd-86bc-4aae-b99f-395f397aa3b2",
   "metadata": {
    "slideshow": {
     "slide_type": "slide"
    },
    "tags": []
   },
   "source": [
    "# Calling a Function\n",
    "\n",
    "To call a function, use its name followed by input values in parentheses\n",
    "The function returns the output value(s), which can be stored in a variable or used directly"
   ]
  },
  {
   "cell_type": "code",
   "execution_count": 3,
   "id": "7d291841-38a1-4c54-839e-1c7b22b9951f",
   "metadata": {
    "tags": []
   },
   "outputs": [
    {
     "name": "stdout",
     "output_type": "stream",
     "text": [
      "5\n"
     ]
    }
   ],
   "source": [
    "sum = add_numbers(2, 3)\n",
    "print(sum)"
   ]
  },
  {
   "cell_type": "markdown",
   "id": "cf32bda2-2e8f-4588-8801-d51120865dd4",
   "metadata": {
    "slideshow": {
     "slide_type": "slide"
    },
    "tags": []
   },
   "source": [
    "# Default Parameter Values\n",
    "\n",
    "- Functions can have default values for input parameters, which are used when no value is provided\n",
    "- Default values are specified in the function header\n"
   ]
  },
  {
   "cell_type": "code",
   "execution_count": 4,
   "id": "dc8a6f4f-c0dd-4ee0-85f8-303eea3fea51",
   "metadata": {
    "tags": []
   },
   "outputs": [
    {
     "name": "stdout",
     "output_type": "stream",
     "text": [
      "Hello, Alice\n"
     ]
    }
   ],
   "source": [
    "def greet(name, greeting = \"Hello\"):\n",
    "    print(greeting + \", \" + name)\n",
    "\n",
    "greet(\"Alice\")"
   ]
  },
  {
   "cell_type": "code",
   "execution_count": 5,
   "id": "4eea5aea-c9bc-4b0f-8cef-15d02b4da574",
   "metadata": {
    "slideshow": {
     "slide_type": "subslide"
    },
    "tags": []
   },
   "outputs": [
    {
     "name": "stdout",
     "output_type": "stream",
     "text": [
      "Hi, Bob\n"
     ]
    }
   ],
   "source": [
    "greet(\"Bob\", \"Hi\")"
   ]
  },
  {
   "cell_type": "markdown",
   "id": "a1eb6fdb-ed98-4c6d-a443-215d8606a7a6",
   "metadata": {
    "slideshow": {
     "slide_type": "slide"
    },
    "tags": []
   },
   "source": [
    "# Variable-Length Arguments\n",
    "\n",
    "- Variable-length arguments allow a function to accept any number of input arguments\n",
    "- They are useful when the number of input arguments is unknown or can vary"
   ]
  },
  {
   "cell_type": "code",
   "execution_count": 6,
   "id": "d26a58f3-cbfa-40ec-bf73-27d7874e3071",
   "metadata": {},
   "outputs": [
    {
     "data": {
      "text/plain": [
       "<function __main__.add_numbers(*args)>"
      ]
     },
     "execution_count": 6,
     "metadata": {},
     "output_type": "execute_result"
    }
   ],
   "source": [
    "def add_numbers(*args):\n",
    "    result = 0\n",
    "    for num in args:\n",
    "        result += num\n",
    "    return result\n",
    "\n",
    "add_numbers"
   ]
  },
  {
   "cell_type": "code",
   "execution_count": 7,
   "id": "d36cabe1-05a5-46ea-bd72-c5fbc1407859",
   "metadata": {
    "slideshow": {
     "slide_type": "subslide"
    },
    "tags": []
   },
   "outputs": [
    {
     "data": {
      "text/plain": [
       "6"
      ]
     },
     "execution_count": 7,
     "metadata": {},
     "output_type": "execute_result"
    }
   ],
   "source": [
    "add_numbers(1, 2, 3)"
   ]
  },
  {
   "cell_type": "code",
   "execution_count": 8,
   "id": "3dd68bbd-5a3d-48ab-b81f-4f6fd85ccf5a",
   "metadata": {
    "slideshow": {
     "slide_type": "subslide"
    },
    "tags": []
   },
   "outputs": [
    {
     "data": {
      "text/plain": [
       "15"
      ]
     },
     "execution_count": 8,
     "metadata": {},
     "output_type": "execute_result"
    }
   ],
   "source": [
    "add_numbers(1, 2, 3, 4, 5)"
   ]
  },
  {
   "cell_type": "markdown",
   "id": "f5cb9f5f-3faf-453a-883a-7c06d194847c",
   "metadata": {
    "slideshow": {
     "slide_type": "slide"
    },
    "tags": []
   },
   "source": [
    "# Function Annotation"
   ]
  },
  {
   "cell_type": "code",
   "execution_count": 9,
   "id": "0b9f009c-5d0c-4d89-b703-aae174ad3a4b",
   "metadata": {
    "tags": []
   },
   "outputs": [
    {
     "name": "stdout",
     "output_type": "stream",
     "text": [
      "Help on function add_numbers in module __main__:\n",
      "\n",
      "add_numbers(*args)\n",
      "    Computes the sum of n numbers\n",
      "    \n",
      "    Parameters:\n",
      "    args: A tuple of numbers\n",
      "    \n",
      "    Returns:\n",
      "    int: The sum\n",
      "\n"
     ]
    }
   ],
   "source": [
    "def add_numbers(*args):\n",
    "    \n",
    "    \"\"\"\n",
    "    Computes the sum of n numbers\n",
    "    \n",
    "    Parameters:\n",
    "    args: A tuple of numbers\n",
    "    \n",
    "    Returns:\n",
    "    int: The sum\n",
    "    \"\"\"        \n",
    "    \n",
    "    result = 0\n",
    "    for num in args:\n",
    "        result += num\n",
    "    return result\n",
    "\n",
    "help(add_numbers)"
   ]
  },
  {
   "cell_type": "code",
   "execution_count": 10,
   "id": "be5909ab",
   "metadata": {
    "slideshow": {
     "slide_type": "subslide"
    },
    "tags": [
     "hide_code"
    ]
   },
   "outputs": [
    {
     "data": {
      "image/png": "[encoded data removed]",
      "text/plain": [
       "<IPython.core.display.Image object>"
      ]
     },
     "metadata": {
      "image/png": {
       "width": 500
      }
     },
     "output_type": "display_data"
    }
   ],
   "source": [
    "from IPython.display import display, Image\n",
    "display(Image(filename=\"images/function_add_numbers.png\", width = 500))"
   ]
  },
  {
   "cell_type": "markdown",
   "id": "1a18f8b9-8782-4a56-8bd5-47f4b171252f",
   "metadata": {
    "slideshow": {
     "slide_type": "slide"
    },
    "tags": []
   },
   "source": [
    "# Lambda Functions\n",
    "\n",
    "- Lambda functions are **anonymous** functions that can be defined inline and used immediately\n",
    "- They are useful for *simple* tasks that don't require a named function\n",
    "- Lambda functions can only have **one** expression"
   ]
  },
  {
   "cell_type": "code",
   "execution_count": 11,
   "id": "b224db5f-0d2b-4260-9bec-9c257c9b7c08",
   "metadata": {},
   "outputs": [
    {
     "name": "stdout",
     "output_type": "stream",
     "text": [
      "6\n"
     ]
    }
   ],
   "source": [
    "double = lambda x: x * 2\n",
    "print(double(3))"
   ]
  },
  {
   "cell_type": "markdown",
   "id": "faaf1dcf-fd69-4bd7-b530-862f3a91b9f8",
   "metadata": {
    "slideshow": {
     "slide_type": "slide"
    },
    "tags": []
   },
   "source": [
    "# Recursion\n",
    "\n",
    "- Recursion is a technique where a function calls itself\n",
    "- It is useful for solving problems that can be broken down into smaller subproblems"
   ]
  },
  {
   "cell_type": "code",
   "execution_count": 12,
   "id": "11a75046-ff8b-4d60-9d17-49e6ca72050b",
   "metadata": {},
   "outputs": [
    {
     "name": "stdout",
     "output_type": "stream",
     "text": [
      "120\n"
     ]
    }
   ],
   "source": [
    "def factorial(n):\n",
    "    if n == 0:\n",
    "        return 1\n",
    "    else:\n",
    "        return n * factorial(n-1)\n",
    "\n",
    "print(factorial(5))"
   ]
  },
  {
   "cell_type": "markdown",
   "id": "66596bcf-e8ed-4b9a-987e-dcde7d00a7f9",
   "metadata": {
    "slideshow": {
     "slide_type": "slide"
    },
    "tags": []
   },
   "source": [
    "# Global vs Local Variables\n",
    "\n",
    "- Global variables are defined outside of any function and can be accessed from anywhere in the program\n",
    "- Local variables are defined inside a function and can only be accessed within that function"
   ]
  },
  {
   "cell_type": "code",
   "execution_count": 13,
   "id": "c7a76936-ca3a-4483-91a8-08604207ab4d",
   "metadata": {},
   "outputs": [
    {
     "name": "stdout",
     "output_type": "stream",
     "text": [
      "10\n",
      "20\n"
     ]
    }
   ],
   "source": [
    "global_var = 10\n",
    "\n",
    "def my_func():\n",
    "    local_var = 20\n",
    "    print(global_var)\n",
    "    print(local_var)\n",
    "\n",
    "my_func()"
   ]
  },
  {
   "cell_type": "code",
   "execution_count": 14,
   "id": "dd25d257-5f86-4214-a87c-77193b611472",
   "metadata": {
    "slideshow": {
     "slide_type": "subslide"
    },
    "tags": []
   },
   "outputs": [
    {
     "name": "stdout",
     "output_type": "stream",
     "text": [
      "10\n"
     ]
    }
   ],
   "source": [
    "print(global_var)"
   ]
  },
  {
   "cell_type": "code",
   "execution_count": 15,
   "id": "6c58d539-784d-45af-9f0a-b038ce544f57",
   "metadata": {
    "tags": []
   },
   "outputs": [
    {
     "ename": "NameError",
     "evalue": "name 'local_var' is not defined",
     "output_type": "error",
     "traceback": [
      "\u001b[0;31m---------------------------------------------------------------------------\u001b[0m",
      "\u001b[0;31mNameError\u001b[0m                                 Traceback (most recent call last)",
      "Cell \u001b[0;32mIn[15], line 1\u001b[0m\n\u001b[0;32m----> 1\u001b[0m \u001b[38;5;28mprint\u001b[39m(\u001b[43mlocal_var\u001b[49m)\n",
      "\u001b[0;31mNameError\u001b[0m: name 'local_var' is not defined"
     ]
    }
   ],
   "source": [
    "print(local_var)"
   ]
  },
  {
   "cell_type": "markdown",
   "id": "cd258a23-05aa-4d90-b9ab-7bc6d1d7fe5f",
   "metadata": {
    "slideshow": {
     "slide_type": "slide"
    },
    "tags": []
   },
   "source": [
    "# Error Handling\n",
    "\n",
    "- Error handling is the process of detecting and responding to errors in a program\n",
    "- Python has a try-except block for handling exceptions that might occur in a function"
   ]
  },
  {
   "cell_type": "code",
   "execution_count": 16,
   "id": "889beeab-4f33-4f6f-b4e9-2ef5a905f291",
   "metadata": {},
   "outputs": [
    {
     "name": "stdout",
     "output_type": "stream",
     "text": [
      "2.0\n"
     ]
    }
   ],
   "source": [
    "def divide(x, y):\n",
    "    try:\n",
    "        result = x / y\n",
    "    except ZeroDivisionError:\n",
    "        print(\"Error: division by zero\")\n",
    "    else:\n",
    "        return result\n",
    "\n",
    "print(divide(10, 5))"
   ]
  },
  {
   "cell_type": "code",
   "execution_count": 17,
   "id": "d517d1c4-1b8c-4006-8a51-6b21198aa54a",
   "metadata": {
    "slideshow": {
     "slide_type": "subslide"
    },
    "tags": []
   },
   "outputs": [
    {
     "name": "stdout",
     "output_type": "stream",
     "text": [
      "Error: division by zero\n",
      "None\n"
     ]
    }
   ],
   "source": [
    "print(divide(10, 0))"
   ]
  },
  {
   "cell_type": "markdown",
   "id": "7ec28046-f5cc-400c-90c4-3e3e40370fe8",
   "metadata": {
    "slideshow": {
     "slide_type": "slide"
    },
    "tags": []
   },
   "source": [
    "# Conclusion\n",
    "\n",
    "- Functions are a fundamental concept in Python programming\n",
    "- They help to modularize code, making it more organized and easier to maintain\n",
    "- There are many types of functions and techniques for working with them\n",
    "- Understanding these concepts can help to write more efficient, flexible, and readable code"
   ]
  }
 ],
 "metadata": {
  "author": "Ahmed Moustafa",
  "kernelspec": {
   "display_name": "Python 3 (ipykernel)",
   "language": "python",
   "name": "python3"
  },
  "language_info": {
   "codemirror_mode": {
    "name": "ipython",
    "version": 3
   },
   "file_extension": ".py",
   "mimetype": "text/x-python",
   "name": "python",
   "nbconvert_exporter": "python",
   "pygments_lexer": "ipython3",
   "version": "3.8.15"
  },
  "title": "Lecture 07: Functions"
 },
 "nbformat": 4,
 "nbformat_minor": 5
}
