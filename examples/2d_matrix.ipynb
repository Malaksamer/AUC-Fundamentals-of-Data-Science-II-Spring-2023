{
  "nbformat": 4,
  "nbformat_minor": 0,
  "metadata": {
    "colab": {
      "provenance": [],
      "authorship_tag": "ABX9TyNi3XXPH98KxtOodfx7ydab",
      "include_colab_link": true
    },
    "kernelspec": {
      "name": "python3",
      "display_name": "Python 3"
    },
    "language_info": {
      "name": "python"
    }
  },
  "cells": [
    {
      "cell_type": "markdown",
      "metadata": {
        "id": "view-in-github",
        "colab_type": "text"
      },
      "source": [
        "<a href=\"https://colab.research.google.com/github/ahmedmoustafa/AUC-Fundamentals-of-Data-Science-II-Spring-2023/blob/main/examples/2d_matrix.ipynb\" target=\"_parent\"><img src=\"https://colab.research.google.com/assets/colab-badge.svg\" alt=\"Open In Colab\"/></a>"
      ]
    },
    {
      "cell_type": "markdown",
      "source": [
        "# 2D Matrix"
      ],
      "metadata": {
        "id": "IrxrMNUT3pqr"
      }
    },
    {
      "cell_type": "markdown",
      "source": [
        "## Q1.\n",
        "\n",
        "Write the Python code to create the following 3 × 3 two-dimensional  matrix:\n",
        "\n",
        "\\begin{equation}\n",
        "\\begin{pmatrix}\n",
        "1 & 2 & 3 \\\\\n",
        "4 & 5 & 6 \\\\\n",
        "7 & 8 & 9 \\\\\n",
        "\\end{pmatrix}\n",
        "\\end{equation}\n",
        "\n",
        "**Hint:** The above matrix can be considered a list of lists."
      ],
      "metadata": {
        "id": "91KNohfM2YaT"
      }
    },
    {
      "cell_type": "markdown",
      "source": [
        "### Answer"
      ],
      "metadata": {
        "id": "xDqNxYmUD4aM"
      }
    },
    {
      "cell_type": "markdown",
      "source": [
        "#### Method 1"
      ],
      "metadata": {
        "id": "0i-6UAIv_hrm"
      }
    },
    {
      "cell_type": "code",
      "source": [
        "m = [[1,2,3], [4,5,6], [7,8,9]]\n",
        "m"
      ],
      "metadata": {
        "id": "NX-oLdV43dVP",
        "colab": {
          "base_uri": "https://localhost:8080/"
        },
        "outputId": "fbe73bd4-ede4-4880-ba13-12d2c84f8b1e"
      },
      "execution_count": 1,
      "outputs": [
        {
          "output_type": "execute_result",
          "data": {
            "text/plain": [
              "[[1, 2, 3], [4, 5, 6], [7, 8, 9]]"
            ]
          },
          "metadata": {},
          "execution_count": 1
        }
      ]
    },
    {
      "cell_type": "markdown",
      "source": [
        "#### Method 2"
      ],
      "metadata": {
        "id": "ixPYAMPG_kHk"
      }
    },
    {
      "cell_type": "code",
      "source": [
        "m = [] # create an empty list (the rows)\n",
        "for i in range(3):\n",
        "  n = [] # create an empty list (a column)\n",
        "  for j in range(3):\n",
        "    n.append(i + j +1) # add the columns one by one\n",
        "  m.append(n) # after adding all columns for a row, add the row to the list rows\n",
        "m"
      ],
      "metadata": {
        "colab": {
          "base_uri": "https://localhost:8080/"
        },
        "id": "TbGpgdbR_o_R",
        "outputId": "cb71b68f-d773-4fb4-a763-ab11931d98b0"
      },
      "execution_count": 2,
      "outputs": [
        {
          "output_type": "execute_result",
          "data": {
            "text/plain": [
              "[[1, 2, 3], [2, 3, 4], [3, 4, 5]]"
            ]
          },
          "metadata": {},
          "execution_count": 2
        }
      ]
    },
    {
      "cell_type": "markdown",
      "source": [
        "## Q2\n",
        "\n",
        "Write the code to retrieve the value of the element located in the first row, and second column and show the output"
      ],
      "metadata": {
        "id": "VNSlD-zI4OfQ"
      }
    },
    {
      "cell_type": "markdown",
      "source": [
        "### Answer"
      ],
      "metadata": {
        "id": "K6j7yK9sEBFK"
      }
    },
    {
      "cell_type": "code",
      "source": [
        "m[0][1]"
      ],
      "metadata": {
        "colab": {
          "base_uri": "https://localhost:8080/"
        },
        "id": "zdVecU2F51Qf",
        "outputId": "788332aa-a87e-4575-de7c-687b46126fab"
      },
      "execution_count": 3,
      "outputs": [
        {
          "output_type": "execute_result",
          "data": {
            "text/plain": [
              "2"
            ]
          },
          "metadata": {},
          "execution_count": 3
        }
      ]
    },
    {
      "cell_type": "markdown",
      "source": [
        "## Q3.\n",
        "\n",
        "Write the code to display the entire matrix again"
      ],
      "metadata": {
        "id": "BCCBgmbF4dyP"
      }
    },
    {
      "cell_type": "markdown",
      "source": [
        "### Answer"
      ],
      "metadata": {
        "id": "uno_vYYmEDei"
      }
    },
    {
      "cell_type": "markdown",
      "source": [
        "#### Method 1\n",
        "\n",
        "Print the matrix as it is using a single `print` statement"
      ],
      "metadata": {
        "id": "aupkYchU40h8"
      }
    },
    {
      "cell_type": "code",
      "source": [
        "print(m)"
      ],
      "metadata": {
        "colab": {
          "base_uri": "https://localhost:8080/"
        },
        "id": "4YNxShfE6Oej",
        "outputId": "55273899-98d1-459c-e3c1-07351bcfad74"
      },
      "execution_count": 4,
      "outputs": [
        {
          "output_type": "stream",
          "name": "stdout",
          "text": [
            "[[1, 2, 3], [2, 3, 4], [3, 4, 5]]\n"
          ]
        }
      ]
    },
    {
      "cell_type": "markdown",
      "source": [
        "#### Method 2\n",
        "\n",
        "Print the matrix, row by row using three `print` statments"
      ],
      "metadata": {
        "id": "ATDjSZeU5E1t"
      }
    },
    {
      "cell_type": "code",
      "source": [
        "print(m[0], \"\\n\", m[1], \"\\n\", m[2])"
      ],
      "metadata": {
        "colab": {
          "base_uri": "https://localhost:8080/"
        },
        "id": "veyh2ie-6bbt",
        "outputId": "5fba5c7f-c271-405c-c5a1-ece2befddbec"
      },
      "execution_count": 5,
      "outputs": [
        {
          "output_type": "stream",
          "name": "stdout",
          "text": [
            "[1, 2, 3] \n",
            " [2, 3, 4] \n",
            " [3, 4, 5]\n"
          ]
        }
      ]
    },
    {
      "cell_type": "markdown",
      "source": [
        "#### Method 3\n",
        "\n",
        "Using two nested `for`-loops to print the matrix element by element. The outer `for`-loop (the loop with `i` below) goes over the rows while the inner `for`-loop (the loop with `j` below) goes the columns.\n",
        "\n",
        "In the [`print()`](https://www.geeksforgeeks.org/python-output-using-print-function/) function, instead of ending with the *default* `newline`, let's end it with a `tab` (i.e., `end = \"\\t\"`) to stay on the same line for the row."
      ],
      "metadata": {
        "id": "jSxmyf935J90"
      }
    },
    {
      "cell_type": "code",
      "source": [
        "for i in range(3):\n",
        "  for j in range(3):\n",
        "    print(m[i][j], end = \"\\t\")\n",
        "  print(\"\")"
      ],
      "metadata": {
        "id": "lqTqkHmK6klL",
        "colab": {
          "base_uri": "https://localhost:8080/"
        },
        "outputId": "69a923cf-1cc6-44eb-bbcb-aa2145045b51"
      },
      "execution_count": 6,
      "outputs": [
        {
          "output_type": "stream",
          "name": "stdout",
          "text": [
            "1\t2\t3\t\n",
            "2\t3\t4\t\n",
            "3\t4\t5\t\n"
          ]
        }
      ]
    }
  ]
}