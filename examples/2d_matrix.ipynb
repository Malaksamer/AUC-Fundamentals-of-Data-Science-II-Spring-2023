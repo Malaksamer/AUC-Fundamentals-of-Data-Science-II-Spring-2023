{
  "nbformat": 4,
  "nbformat_minor": 0,
  "metadata": {
    "colab": {
      "provenance": [],
      "authorship_tag": "ABX9TyMxhM4h4hhAQYVGBslofpbE",
      "include_colab_link": true
    },
    "kernelspec": {
      "name": "python3",
      "display_name": "Python 3"
    },
    "language_info": {
      "name": "python"
    }
  },
  "cells": [
    {
      "cell_type": "markdown",
      "metadata": {
        "id": "view-in-github",
        "colab_type": "text"
      },
      "source": [
        "<a href=\"https://colab.research.google.com/github/ahmedmoustafa/AUC-Fundamentals-of-Data-Science-II-Spring-2023/blob/main/examples/2d_matrix.ipynb\" target=\"_parent\"><img src=\"https://colab.research.google.com/assets/colab-badge.svg\" alt=\"Open In Colab\"/></a>"
      ]
    },
    {
      "cell_type": "markdown",
      "source": [
        "# 2D Matrix"
      ],
      "metadata": {
        "id": "IrxrMNUT3pqr"
      }
    },
    {
      "cell_type": "markdown",
      "source": [
        "## Q1.\n",
        "\n",
        "Write the Python code to create the following 3 × 3 two-dimensional  matrix:\n",
        "\n",
        "\\begin{equation}\n",
        "\\begin{pmatrix}\n",
        "1 & 2 & 3 \\\\\n",
        "4 & 5 & 6 \\\\\n",
        "7 & 8 & 9 \\\\\n",
        "\\end{pmatrix}\n",
        "\\end{equation}\n",
        "\n",
        "**Hint:** The above matrix can be considered a list of lists."
      ],
      "metadata": {
        "id": "91KNohfM2YaT"
      }
    },
    {
      "cell_type": "code",
      "source": [
        "m = [[1,2,3], [4,5,6], [7,8,9]]\n",
        "m"
      ],
      "metadata": {
        "id": "NX-oLdV43dVP",
        "colab": {
          "base_uri": "https://localhost:8080/"
        },
        "outputId": "e2a75ab2-6f12-406b-b306-55a6c81cfa17"
      },
      "execution_count": 1,
      "outputs": [
        {
          "output_type": "execute_result",
          "data": {
            "text/plain": [
              "[[1, 2, 3], [4, 5, 6], [7, 8, 9]]"
            ]
          },
          "metadata": {},
          "execution_count": 1
        }
      ]
    },
    {
      "cell_type": "markdown",
      "source": [
        "## Q2\n",
        "\n",
        "Write the code to retrieve the value of the element located in the first row, and second column and show the output"
      ],
      "metadata": {
        "id": "VNSlD-zI4OfQ"
      }
    },
    {
      "cell_type": "code",
      "source": [
        "m[0][1]"
      ],
      "metadata": {
        "colab": {
          "base_uri": "https://localhost:8080/"
        },
        "id": "zdVecU2F51Qf",
        "outputId": "eb0a5436-af32-45f2-e5ee-d003a22c6593"
      },
      "execution_count": 2,
      "outputs": [
        {
          "output_type": "execute_result",
          "data": {
            "text/plain": [
              "2"
            ]
          },
          "metadata": {},
          "execution_count": 2
        }
      ]
    },
    {
      "cell_type": "markdown",
      "source": [
        "## Q3.\n",
        "\n",
        "Write the code to display the entire matrix again"
      ],
      "metadata": {
        "id": "BCCBgmbF4dyP"
      }
    },
    {
      "cell_type": "markdown",
      "source": [
        "### Method 1\n",
        "\n",
        "Print the matrix as it is using a single `print` statement"
      ],
      "metadata": {
        "id": "aupkYchU40h8"
      }
    },
    {
      "cell_type": "code",
      "source": [
        "print(m)"
      ],
      "metadata": {
        "colab": {
          "base_uri": "https://localhost:8080/"
        },
        "id": "4YNxShfE6Oej",
        "outputId": "4bfd030d-9e37-475d-b225-acfd441abf0a"
      },
      "execution_count": 3,
      "outputs": [
        {
          "output_type": "stream",
          "name": "stdout",
          "text": [
            "[[1, 2, 3], [4, 5, 6], [7, 8, 9]]\n"
          ]
        }
      ]
    },
    {
      "cell_type": "markdown",
      "source": [
        "### Method 2\n",
        "\n",
        "Print the matrix, row by row using three `print` statments"
      ],
      "metadata": {
        "id": "ATDjSZeU5E1t"
      }
    },
    {
      "cell_type": "code",
      "source": [
        "print(m[0], \"\\n\", m[1], \"\\n\", m[2])"
      ],
      "metadata": {
        "colab": {
          "base_uri": "https://localhost:8080/"
        },
        "id": "veyh2ie-6bbt",
        "outputId": "acfb8658-7075-44a9-cb66-3995f3a779a0"
      },
      "execution_count": 4,
      "outputs": [
        {
          "output_type": "stream",
          "name": "stdout",
          "text": [
            "[1, 2, 3] \n",
            " [4, 5, 6] \n",
            " [7, 8, 9]\n"
          ]
        }
      ]
    },
    {
      "cell_type": "markdown",
      "source": [
        "### Method 3\n",
        "\n",
        "Using two nested `for`-loops to print the matrix element by element. The outer `for`-loop (the loop with `i` below) goes over the rows while the inner `for`-loop (the loop with `j` below) goes the columns.\n",
        "\n",
        "In the [`print()`](https://www.geeksforgeeks.org/python-output-using-print-function/) function, instead of ending with the *default* `newline`, let's end it with a `tab` (i.e., `end = \"\\t\"`) to stay on the same line for the row."
      ],
      "metadata": {
        "id": "jSxmyf935J90"
      }
    },
    {
      "cell_type": "code",
      "source": [
        "for i in range(3):\n",
        "  for j in range(3):\n",
        "    print(m[i][j], end = \"\\t\")\n",
        "  print(\"\")"
      ],
      "metadata": {
        "id": "lqTqkHmK6klL",
        "colab": {
          "base_uri": "https://localhost:8080/"
        },
        "outputId": "3de3e2d3-9309-4155-f6bc-5e1bc849d6a1"
      },
      "execution_count": 5,
      "outputs": [
        {
          "output_type": "stream",
          "name": "stdout",
          "text": [
            "1\t2\t3\t\n",
            "4\t5\t6\t\n",
            "7\t8\t9\t\n"
          ]
        }
      ]
    }
  ]
}