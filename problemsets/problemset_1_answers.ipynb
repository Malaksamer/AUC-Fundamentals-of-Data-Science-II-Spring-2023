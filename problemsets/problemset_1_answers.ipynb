{
  "cells": [
    {
      "cell_type": "markdown",
      "metadata": {
        "colab_type": "text",
        "id": "view-in-github"
      },
      "source": [
        "<a href=\"https://colab.research.google.com/github/ahmedmoustafa/AUC-Fundamentals-of-Data-Science-II-Spring-2023/blob/main/problemsets/problemset_1_answers.ipynb\" target=\"_parent\"><img src=\"https://colab.research.google.com/assets/colab-badge.svg\" alt=\"Open In Colab\"/></a>"
      ]
    },
    {
      "cell_type": "markdown",
      "metadata": {
        "id": "iDwh0QTgxS4g"
      },
      "source": [
        "# Python Programming Problem Set #1 - Answers"
      ]
    },
    {
      "cell_type": "markdown",
      "metadata": {
        "id": "GW5CnmyCdgxh"
      },
      "source": [
        "## Q1. Prime numbers\n",
        "Write a program that prints out all prime numbers between 1 and 100.\n"
      ]
    },
    {
      "cell_type": "code",
      "execution_count": 1,
      "metadata": {
        "colab": {
          "base_uri": "https://localhost:8080/"
        },
        "id": "__j4h_sv55N5",
        "outputId": "c3700e4d-aa4d-411c-db72-41f1b8f6c40b"
      },
      "outputs": [
        {
          "name": "stdout",
          "output_type": "stream",
          "text": [
            "2\n",
            "3\n",
            "5\n",
            "7\n",
            "11\n",
            "13\n",
            "17\n",
            "19\n",
            "23\n",
            "29\n",
            "31\n",
            "37\n",
            "41\n",
            "43\n",
            "47\n",
            "53\n",
            "59\n",
            "61\n",
            "67\n",
            "71\n",
            "73\n",
            "79\n",
            "83\n",
            "89\n",
            "97\n"
          ]
        }
      ],
      "source": [
        "for x in range (2, 101):\n",
        "  is_prime = True # a boolean flag to set whether the number of prime or not\n",
        "  for y in range (2, x):\n",
        "    if x % y == 0:\n",
        "      is_prime = False # if x is divisible by x then x is not prime\n",
        "      break # stop here because is no need to continue testing\n",
        "  \n",
        "  if is_prime:\n",
        "    print (x)"
      ]
    },
    {
      "cell_type": "markdown",
      "metadata": {
        "id": "xgi2gd9hdmen"
      },
      "source": [
        "## Q2. Square roots\n",
        "\n",
        "Write a program that calculates the square root of the numbers 1 to 10 and stores the results in a dictionary, where the keys are the numbers and the values are their square roots.\n",
        "\n",
        "**Hint**: to calculate the square root of a number in Python, you may raise to the power of 0.5 or use the [`math.sqrt()`](https://www.geeksforgeeks.org/python-math-function-sqrt/) method.\n",
        "\n",
        "**Example**:"
      ]
    },
    {
      "cell_type": "code",
      "execution_count": 2,
      "metadata": {
        "colab": {
          "base_uri": "https://localhost:8080/"
        },
        "id": "yILfz_PNePEV",
        "outputId": "1d24e043-0c84-4653-c37b-02df3c6c7e2c"
      },
      "outputs": [
        {
          "name": "stdout",
          "output_type": "stream",
          "text": [
            "4.0\n"
          ]
        }
      ],
      "source": [
        "num = 16\n",
        "print (num ** 0.5)"
      ]
    },
    {
      "cell_type": "code",
      "execution_count": 3,
      "metadata": {
        "colab": {
          "base_uri": "https://localhost:8080/"
        },
        "id": "D56j5eH3ed0h",
        "outputId": "5e7d83bf-af32-49c5-c191-531e656c5756"
      },
      "outputs": [
        {
          "name": "stdout",
          "output_type": "stream",
          "text": [
            "4.0\n"
          ]
        }
      ],
      "source": [
        "import math\n",
        "print (math.sqrt(num))"
      ]
    },
    {
      "cell_type": "code",
      "execution_count": 4,
      "metadata": {
        "colab": {
          "base_uri": "https://localhost:8080/"
        },
        "id": "9Af1hHp28mph",
        "outputId": "20b2fe6c-ea21-455a-a13e-b495f0bc3e39"
      },
      "outputs": [
        {
          "name": "stdout",
          "output_type": "stream",
          "text": [
            "{1: 1.0, 2: 1.414, 3: 1.732, 4: 2.0, 5: 2.236, 6: 2.449, 7: 2.646, 8: 2.828, 9: 3.0, 10: 3.162}\n"
          ]
        }
      ],
      "source": [
        "dict = {}\n",
        "\n",
        "for num in range (1, 11):\n",
        "  dict[num] = round(num ** 0.5, 3)\n",
        "\n",
        "print(dict)"
      ]
    },
    {
      "cell_type": "markdown",
      "metadata": {
        "id": "U2p9H93eexFW"
      },
      "source": [
        "## Q3. Reversing a list\n",
        "\n",
        "Write a program that takes a list of numbers and reverses it without using the [`reverse()`](https://www.geeksforgeeks.org/python-list-reverse/) method"
      ]
    },
    {
      "cell_type": "code",
      "execution_count": 5,
      "metadata": {
        "colab": {
          "base_uri": "https://localhost:8080/"
        },
        "id": "SmmTglyOgLSg",
        "outputId": "ab5bcc39-f911-4ba2-9399-ce8948c0506c"
      },
      "outputs": [
        {
          "data": {
            "text/plain": [
              "[1, 2, 3, 4, 5]"
            ]
          },
          "execution_count": 5,
          "metadata": {},
          "output_type": "execute_result"
        }
      ],
      "source": [
        "lst = [1, 2, 3, 4, 5]\n",
        "lst"
      ]
    },
    {
      "cell_type": "markdown",
      "metadata": {
        "id": "Nt-6lcLRfMEl"
      },
      "source": [
        "## Q4. Palindrome checker\n",
        "\n",
        "A palindrome is a word, phrase, number, or other sequence of characters that reads the same forward and backward. Write a program that checks if a given string is a palindrome.\n"
      ]
    },
    {
      "cell_type": "code",
      "execution_count": 6,
      "metadata": {
        "colab": {
          "base_uri": "https://localhost:8080/",
          "height": 35
        },
        "id": "Xf-5t5pWemZI",
        "outputId": "03dea5be-c2ba-475f-de7b-6227fa687565"
      },
      "outputs": [
        {
          "data": {
            "text/plain": [
              "'racecar'"
            ]
          },
          "execution_count": 6,
          "metadata": {},
          "output_type": "execute_result"
        }
      ],
      "source": [
        "word = \"racecar\"\n",
        "word"
      ]
    },
    {
      "cell_type": "markdown",
      "metadata": {
        "id": "FwKudp-BfdZe"
      },
      "source": [
        "## Q5. Sum of squares\n",
        "\n",
        "Write a program that calculates the sum of the squares of the first 10 positive integers."
      ]
    },
    {
      "cell_type": "code",
      "execution_count": 7,
      "metadata": {
        "colab": {
          "base_uri": "https://localhost:8080/"
        },
        "id": "_sItA4AN_uEt",
        "outputId": "5b40adae-f1d8-42f0-d722-aae00d6a3010"
      },
      "outputs": [
        {
          "name": "stdout",
          "output_type": "stream",
          "text": [
            "1 1\n",
            "2 5\n",
            "3 14\n",
            "4 30\n",
            "5 55\n",
            "6 91\n",
            "7 140\n",
            "8 204\n",
            "9 285\n",
            "10 385\n",
            "\n",
            "Sum of Sqaures: 385\n"
          ]
        }
      ],
      "source": [
        "sum_of_sqaures = 0\n",
        "for i in range(1, 11):\n",
        "  sum_of_sqaures += i ** 2\n",
        "  print (i, sum_of_sqaures)\n",
        "print ()\n",
        "print (\"Sum of Sqaures:\", sum_of_sqaures)"
      ]
    },
    {
      "cell_type": "markdown",
      "metadata": {
        "id": "hAo0pg7uf7vl"
      },
      "source": [
        "## Q6. Average of numbers\n",
        "\n",
        "Write a program that calculates the average of a list of numbers."
      ]
    },
    {
      "cell_type": "code",
      "execution_count": 8,
      "metadata": {
        "colab": {
          "base_uri": "https://localhost:8080/"
        },
        "id": "AgnWKt5dgEkJ",
        "outputId": "221b7a87-986d-415b-f493-47c17e27ed66"
      },
      "outputs": [
        {
          "data": {
            "text/plain": [
              "[1, 2, 3, 4, 5]"
            ]
          },
          "execution_count": 8,
          "metadata": {},
          "output_type": "execute_result"
        }
      ],
      "source": [
        "numbers = [1, 2, 3, 4, 5]\n",
        "numbers"
      ]
    },
    {
      "cell_type": "markdown",
      "metadata": {
        "id": "2Bwt7jA0gh46"
      },
      "source": [
        "## Q7. Median of a list\n",
        "\n",
        "Write a program that calculates the median of a list of numbers. The median is the middle value in a list. If the list has an odd number of values, the median is the middle value. If the list has an even number of values, the median is the average of the middle two values.\n",
        "\n",
        "**Hint:** You will need to sort the list first."
      ]
    },
    {
      "cell_type": "code",
      "execution_count": 9,
      "metadata": {
        "colab": {
          "base_uri": "https://localhost:8080/"
        },
        "id": "Oi4xS5ILf64u",
        "outputId": "8c962ca5-f3f0-46ce-e10e-3e6e292932c6"
      },
      "outputs": [
        {
          "data": {
            "text/plain": [
              "[8, 4, 2, 6, 10]"
            ]
          },
          "execution_count": 9,
          "metadata": {},
          "output_type": "execute_result"
        }
      ],
      "source": [
        "numbers = [8, 4, 2, 6, 10]\n",
        "numbers"
      ]
    },
    {
      "cell_type": "code",
      "execution_count": 10,
      "metadata": {
        "colab": {
          "base_uri": "https://localhost:8080/"
        },
        "id": "-e3aNkfRhmz-",
        "outputId": "6c3d0bf3-0625-401e-d814-c20ca517749d"
      },
      "outputs": [
        {
          "data": {
            "text/plain": [
              "[2, 4, 6, 8, 10]"
            ]
          },
          "execution_count": 10,
          "metadata": {},
          "output_type": "execute_result"
        }
      ],
      "source": [
        "numbers.sort() # to sort the list ascendingly\n",
        "numbers"
      ]
    },
    {
      "cell_type": "markdown",
      "metadata": {
        "id": "rqdKAZCHiFo8"
      },
      "source": [
        "## Q8. FizzBuzz\n",
        "\n",
        "Write a program that prints the numbers from 1 to 100. But for multiples of three, print `Fizz` instead of the number, and for multiples of five, print `Buzz`. For numbers that are multiples of both three and five, print `FizzBuzz`.\n",
        "\n",
        "**Hint:**. You may use the [modulus](https://www.khanacademy.org/computing/computer-science/cryptography/modarithmetic/a/what-is-modular-arithmetic) operator [`%`](https://www.geeksforgeeks.org/python-operators/).\n",
        "\n",
        "**Example:**"
      ]
    },
    {
      "cell_type": "code",
      "execution_count": 11,
      "metadata": {
        "colab": {
          "base_uri": "https://localhost:8080/"
        },
        "id": "a-hAMMEJifwo",
        "outputId": "bd966c71-dd5d-4686-87b6-3ca95bc54265"
      },
      "outputs": [
        {
          "data": {
            "text/plain": [
              "0"
            ]
          },
          "execution_count": 11,
          "metadata": {},
          "output_type": "execute_result"
        }
      ],
      "source": [
        "9 % 3"
      ]
    },
    {
      "cell_type": "code",
      "execution_count": 12,
      "metadata": {
        "colab": {
          "base_uri": "https://localhost:8080/"
        },
        "id": "qAlj_D9KlTML",
        "outputId": "25df789c-0d88-47c3-845e-2b212554f3c7"
      },
      "outputs": [
        {
          "data": {
            "text/plain": [
              "1"
            ]
          },
          "execution_count": 12,
          "metadata": {},
          "output_type": "execute_result"
        }
      ],
      "source": [
        "10 % 3"
      ]
    },
    {
      "cell_type": "markdown",
      "metadata": {
        "id": "ZGh9YVHfwNvh"
      },
      "source": [
        "## Q9. Count occurrences in a tuple\n",
        "\n",
        "Write a program that takes a tuple of numbers and counts the number of occurrences of a specific number, 5 in the list below."
      ]
    },
    {
      "cell_type": "code",
      "execution_count": 13,
      "metadata": {
        "colab": {
          "base_uri": "https://localhost:8080/"
        },
        "id": "tyaTwfkWIsHY",
        "outputId": "468226d3-2c92-4d58-fd7a-342535e12900"
      },
      "outputs": [
        {
          "data": {
            "text/plain": [
              "(1, 2, 3, 4, 5, 6, 5, 8, 5, 10)"
            ]
          },
          "execution_count": 13,
          "metadata": {},
          "output_type": "execute_result"
        }
      ],
      "source": [
        "numbers = (1, 2, 3, 4, 5, 6, 5, 8, 5, 10)\n",
        "numbers"
      ]
    },
    {
      "cell_type": "code",
      "execution_count": 14,
      "metadata": {
        "colab": {
          "base_uri": "https://localhost:8080/"
        },
        "id": "gKE1Vxt1cduu",
        "outputId": "73f2779e-334b-4c00-8aef-ea8b25d3dee8"
      },
      "outputs": [
        {
          "data": {
            "text/plain": [
              "5"
            ]
          },
          "execution_count": 14,
          "metadata": {},
          "output_type": "execute_result"
        }
      ],
      "source": [
        "target = 5\n",
        "target"
      ]
    },
    {
      "cell_type": "code",
      "execution_count": 15,
      "metadata": {
        "colab": {
          "base_uri": "https://localhost:8080/"
        },
        "id": "AX9YRXkpI9vj",
        "outputId": "5308c02f-6999-4da2-f6c2-7733471e91bb"
      },
      "outputs": [
        {
          "name": "stdout",
          "output_type": "stream",
          "text": [
            "Number of occurrences of 5 is 3\n"
          ]
        }
      ],
      "source": [
        "count = 0\n",
        "\n",
        "for num in numbers:\n",
        "  if num == target:\n",
        "    count += 1\n",
        "\n",
        "print (\"Number of occurrences of\", target, \"is\", count)"
      ]
    },
    {
      "cell_type": "markdown",
      "metadata": {
        "id": "gcLTYBTjwnLr"
      },
      "source": [
        "## Q10. Merge dictionaries\n",
        "\n",
        "Write a program that merges two dictionaries (`dict1` and `dict2`) together into in a new dictionary (`merged_dict`). If a key exists in both dictionaries, the value in the second dictionary should overwrite the value in the first dictionary."
      ]
    },
    {
      "cell_type": "code",
      "execution_count": 16,
      "metadata": {
        "colab": {
          "base_uri": "https://localhost:8080/"
        },
        "id": "AeX70rgYlUk9",
        "outputId": "83e78018-6bd1-427f-829b-f0f14bf73059"
      },
      "outputs": [
        {
          "data": {
            "text/plain": [
              "(1, 2, 3, 4, 5, 6, 7, 8, 9, 10)"
            ]
          },
          "execution_count": 16,
          "metadata": {},
          "output_type": "execute_result"
        }
      ],
      "source": [
        "numbers = (1, 2, 3, 4, 5, 6, 7, 8, 9, 10)\n",
        "numbers"
      ]
    },
    {
      "cell_type": "code",
      "execution_count": 17,
      "metadata": {
        "colab": {
          "base_uri": "https://localhost:8080/"
        },
        "id": "-K8U35Y3wb9h",
        "outputId": "b08961e5-c8d1-4fc1-987b-ac3e1ec658b7"
      },
      "outputs": [
        {
          "name": "stdout",
          "output_type": "stream",
          "text": [
            "{'a': 1, 'b': 2, 'c': 3}\n"
          ]
        }
      ],
      "source": [
        "dict1 = {\"a\": 1, \"b\": 2, \"c\": 3}\n",
        "print(dict1)"
      ]
    },
    {
      "cell_type": "code",
      "execution_count": 18,
      "metadata": {
        "colab": {
          "base_uri": "https://localhost:8080/"
        },
        "id": "whzW4BGJwuG2",
        "outputId": "8bd60db8-13ef-446f-9353-82d3af97fdd8"
      },
      "outputs": [
        {
          "name": "stdout",
          "output_type": "stream",
          "text": [
            "{'b': 4, 'c': 5, 'd': 6}\n"
          ]
        }
      ],
      "source": [
        "dict2 = {\"b\": 4, \"c\": 5, \"d\": 6}\n",
        "print(dict2)"
      ]
    },
    {
      "cell_type": "markdown",
      "metadata": {
        "id": "zMcyu_Uhcr2Z"
      },
      "source": [
        "### Method #1"
      ]
    },
    {
      "cell_type": "code",
      "execution_count": 19,
      "metadata": {
        "colab": {
          "base_uri": "https://localhost:8080/"
        },
        "id": "USfkoHC0BNsx",
        "outputId": "d5ffcb56-7136-4810-f915-45cba88bcba8"
      },
      "outputs": [
        {
          "data": {
            "text/plain": [
              "{'a': 1, 'b': 2, 'c': 3}"
            ]
          },
          "execution_count": 19,
          "metadata": {},
          "output_type": "execute_result"
        }
      ],
      "source": [
        "merged_dict = dict1.copy()\n",
        "merged_dict"
      ]
    },
    {
      "cell_type": "code",
      "execution_count": 20,
      "metadata": {
        "colab": {
          "base_uri": "https://localhost:8080/"
        },
        "id": "sVliPyJECVVn",
        "outputId": "108b84c4-cb46-4ae3-cbbd-e1e08d7e37fb"
      },
      "outputs": [
        {
          "data": {
            "text/plain": [
              "{'a': 1, 'b': 4, 'c': 5, 'd': 6}"
            ]
          },
          "execution_count": 20,
          "metadata": {},
          "output_type": "execute_result"
        }
      ],
      "source": [
        "merged_dict.update(dict2)\n",
        "merged_dict"
      ]
    },
    {
      "cell_type": "markdown",
      "metadata": {
        "id": "4lRJWInkcxoJ"
      },
      "source": [
        "### Method #2"
      ]
    },
    {
      "cell_type": "code",
      "execution_count": 21,
      "metadata": {
        "colab": {
          "base_uri": "https://localhost:8080/"
        },
        "id": "4DMOnIZMDQOF",
        "outputId": "6a4c5632-5583-4c7d-d13f-e42ac55f4075"
      },
      "outputs": [
        {
          "data": {
            "text/plain": [
              "{'a': 1, 'b': 2, 'c': 3}"
            ]
          },
          "execution_count": 21,
          "metadata": {},
          "output_type": "execute_result"
        }
      ],
      "source": [
        "merged_dict2 = {}\n",
        "for key in dict1.keys():\n",
        "  merged_dict2[key] = dict1[key]\n",
        "merged_dict2"
      ]
    },
    {
      "cell_type": "code",
      "execution_count": 22,
      "metadata": {
        "colab": {
          "base_uri": "https://localhost:8080/"
        },
        "id": "icJyMGaiEJfC",
        "outputId": "b8bb33c2-56c8-41fa-85b4-b2d7eb914499"
      },
      "outputs": [
        {
          "data": {
            "text/plain": [
              "{'a': 1, 'b': 4, 'c': 5, 'd': 6}"
            ]
          },
          "execution_count": 22,
          "metadata": {},
          "output_type": "execute_result"
        }
      ],
      "source": [
        "for key in dict2.keys():\n",
        "  merged_dict2[key] = dict2[key]\n",
        "merged_dict2"
      ]
    },
    {
      "cell_type": "markdown",
      "metadata": {
        "id": "AqLvoqkZxyDh"
      },
      "source": [
        "## Q11. Remove duplicates\n",
        "\n",
        "Write a program that takes a list of numbers and removes any duplicates, keeping only the first occurrence of each number.\n",
        "\n",
        "**Hint:** You may consider using the [membership operator](https://www.geeksforgeeks.org/python-membership-identity-operators-not-not/) (`in`).\n",
        "\n",
        "**Example:**"
      ]
    },
    {
      "cell_type": "code",
      "execution_count": 23,
      "metadata": {
        "colab": {
          "base_uri": "https://localhost:8080/"
        },
        "id": "strUc6AMxwmS",
        "outputId": "f314e343-8863-4625-bac0-d09c180dd5ac"
      },
      "outputs": [
        {
          "data": {
            "text/plain": [
              "['apple', 'organge', 'mango', 'banana']"
            ]
          },
          "execution_count": 23,
          "metadata": {},
          "output_type": "execute_result"
        }
      ],
      "source": [
        "fruits = [\"apple\", \"organge\", \"mango\", \"banana\"]\n",
        "fruits"
      ]
    },
    {
      "cell_type": "code",
      "execution_count": 24,
      "metadata": {
        "colab": {
          "base_uri": "https://localhost:8080/"
        },
        "id": "z6srEo6FzX7F",
        "outputId": "fcf7997f-6883-4cde-db54-50253b79df99"
      },
      "outputs": [
        {
          "data": {
            "text/plain": [
              "True"
            ]
          },
          "execution_count": 24,
          "metadata": {},
          "output_type": "execute_result"
        }
      ],
      "source": [
        "\"mango\" in fruits # checks whether \"mango\" belong the list of above list of fruits and returns boolean true"
      ]
    },
    {
      "cell_type": "code",
      "execution_count": 25,
      "metadata": {
        "colab": {
          "base_uri": "https://localhost:8080/"
        },
        "id": "J8E1NxJKzgdl",
        "outputId": "2664a501-e4da-4402-8fbe-b1ba19d51716"
      },
      "outputs": [
        {
          "data": {
            "text/plain": [
              "False"
            ]
          },
          "execution_count": 25,
          "metadata": {},
          "output_type": "execute_result"
        }
      ],
      "source": [
        "\"grape\" in fruits # checks whether \"graps\" belong the list of above list of fruits and returns boolean false"
      ]
    },
    {
      "cell_type": "code",
      "execution_count": 26,
      "metadata": {
        "colab": {
          "base_uri": "https://localhost:8080/"
        },
        "id": "w-9r3bkpzlcv",
        "outputId": "c197e229-ffdb-489d-be0e-c9161327fdf8"
      },
      "outputs": [
        {
          "data": {
            "text/plain": [
              "[1, 2, 3, 4, 3, 2, 5, 6, 1]"
            ]
          },
          "execution_count": 26,
          "metadata": {},
          "output_type": "execute_result"
        }
      ],
      "source": [
        "numbers = [1, 2, 3, 4, 3, 2, 5, 6, 1] # list with duplicates\n",
        "numbers"
      ]
    },
    {
      "cell_type": "code",
      "execution_count": 27,
      "metadata": {
        "colab": {
          "base_uri": "https://localhost:8080/"
        },
        "id": "dInFtjxMz8dk",
        "outputId": "1da751c3-1f2a-4f05-ac00-592c9a03da82"
      },
      "outputs": [
        {
          "data": {
            "text/plain": [
              "[]"
            ]
          },
          "execution_count": 27,
          "metadata": {},
          "output_type": "execute_result"
        }
      ],
      "source": [
        "unique_numbers = [] # list with only unique values (no duplicates)\n",
        "unique_numbers"
      ]
    },
    {
      "cell_type": "code",
      "execution_count": 28,
      "metadata": {
        "colab": {
          "base_uri": "https://localhost:8080/"
        },
        "id": "9WxYK2wxGhDK",
        "outputId": "d97cd52d-d9c1-404e-dccd-5207e941a3aa"
      },
      "outputs": [
        {
          "name": "stdout",
          "output_type": "stream",
          "text": [
            "[1]\n",
            "[1, 2]\n",
            "[1, 2, 3]\n",
            "[1, 2, 3, 4]\n",
            "[1, 2, 3, 4, 5]\n",
            "[1, 2, 3, 4, 5, 6]\n",
            "\n",
            "Original: [1, 2, 3, 4, 3, 2, 5, 6, 1]\n",
            "Unique: [1, 2, 3, 4, 5, 6]\n"
          ]
        }
      ],
      "source": [
        "for num in numbers:\n",
        "  if num not in unique_numbers:\n",
        "    unique_numbers.append (num)\n",
        "    print(unique_numbers)\n",
        "\n",
        "print ()\n",
        "print (\"Original:\", numbers)\n",
        "print (\"Unique:\", unique_numbers)"
      ]
    },
    {
      "cell_type": "markdown",
      "metadata": {
        "id": "qf_nxHhz38DJ"
      },
      "source": [
        "## Q12. Sum\n",
        "\n",
        "Write a program to calculate the sum of all items in a list"
      ]
    },
    {
      "cell_type": "code",
      "execution_count": 29,
      "metadata": {
        "colab": {
          "base_uri": "https://localhost:8080/"
        },
        "id": "z5MB34D538DJ",
        "outputId": "aaf5d968-c573-4476-9dbb-332cf5d2f3f4"
      },
      "outputs": [
        {
          "data": {
            "text/plain": [
              "[1, 2, 3, 4, 5]"
            ]
          },
          "execution_count": 29,
          "metadata": {},
          "output_type": "execute_result"
        }
      ],
      "source": [
        "numbers = [1, 2, 3, 4, 5]\n",
        "numbers"
      ]
    },
    {
      "cell_type": "code",
      "execution_count": 30,
      "metadata": {
        "colab": {
          "base_uri": "https://localhost:8080/"
        },
        "id": "_76ZuTG338DK",
        "outputId": "eab60b3b-3e51-4de3-8b36-5c175f686ff3"
      },
      "outputs": [
        {
          "name": "stdout",
          "output_type": "stream",
          "text": [
            "1\n",
            "3\n",
            "6\n",
            "10\n",
            "15\n",
            "\n",
            "Sum: 15\n"
          ]
        }
      ],
      "source": [
        "sum = 0\n",
        "\n",
        "for num in numbers:\n",
        "  sum += num\n",
        "  print(sum)\n",
        "\n",
        "print ()\n",
        "print (\"Sum:\", sum)"
      ]
    },
    {
      "cell_type": "markdown",
      "metadata": {
        "id": "eCh__gc5Jlck"
      },
      "source": [
        "## Q13. Frequency\n",
        "Write a program to calculate the frequency of each element in a list by storing the frequencies in a dictionary. Then, print the dictionary with the frequencies."
      ]
    },
    {
      "cell_type": "code",
      "execution_count": 31,
      "metadata": {
        "colab": {
          "base_uri": "https://localhost:8080/"
        },
        "id": "vu8MwrFmIBC9",
        "outputId": "c30b03cc-8c8e-4929-fed1-74d17cece1ab"
      },
      "outputs": [
        {
          "data": {
            "text/plain": [
              "[1, 2, 3, 2, 3, 1, 0, 5, 4, 2, 6]"
            ]
          },
          "execution_count": 31,
          "metadata": {},
          "output_type": "execute_result"
        }
      ],
      "source": [
        "numbers = [1, 2, 3, 2, 3, 1, 0, 5, 4, 2, 6]\n",
        "numbers"
      ]
    },
    {
      "cell_type": "markdown",
      "metadata": {
        "id": "WyAcdAD3bXZG"
      },
      "source": [
        "### Method #1"
      ]
    },
    {
      "cell_type": "code",
      "execution_count": 32,
      "metadata": {
        "colab": {
          "base_uri": "https://localhost:8080/"
        },
        "id": "9TPs7wVSJ6RY",
        "outputId": "98c004aa-5adb-4559-9e14-f0f43c7c96c2"
      },
      "outputs": [
        {
          "data": {
            "text/plain": [
              "{}"
            ]
          },
          "execution_count": 32,
          "metadata": {},
          "output_type": "execute_result"
        }
      ],
      "source": [
        "freq = {}\n",
        "freq"
      ]
    },
    {
      "cell_type": "code",
      "execution_count": 33,
      "metadata": {
        "colab": {
          "base_uri": "https://localhost:8080/"
        },
        "id": "tYtW7hvoKH4X",
        "outputId": "b8da4963-1dd9-42c8-85ab-caa3b9f25c78"
      },
      "outputs": [
        {
          "data": {
            "text/plain": [
              "{1: 0, 2: 0, 3: 0, 0: 0, 5: 0, 4: 0, 6: 0}"
            ]
          },
          "execution_count": 33,
          "metadata": {},
          "output_type": "execute_result"
        }
      ],
      "source": [
        "for num in numbers:\n",
        "  freq[num] = 0\n",
        "freq"
      ]
    },
    {
      "cell_type": "code",
      "execution_count": 34,
      "metadata": {
        "colab": {
          "base_uri": "https://localhost:8080/"
        },
        "id": "dPPzJcijKXWl",
        "outputId": "d9a32620-9495-46a6-ab68-3443a2b01759"
      },
      "outputs": [
        {
          "name": "stdout",
          "output_type": "stream",
          "text": [
            "{1: 1, 2: 0, 3: 0, 0: 0, 5: 0, 4: 0, 6: 0}\n",
            "{1: 1, 2: 1, 3: 0, 0: 0, 5: 0, 4: 0, 6: 0}\n",
            "{1: 1, 2: 1, 3: 1, 0: 0, 5: 0, 4: 0, 6: 0}\n",
            "{1: 1, 2: 2, 3: 1, 0: 0, 5: 0, 4: 0, 6: 0}\n",
            "{1: 1, 2: 2, 3: 2, 0: 0, 5: 0, 4: 0, 6: 0}\n",
            "{1: 2, 2: 2, 3: 2, 0: 0, 5: 0, 4: 0, 6: 0}\n",
            "{1: 2, 2: 2, 3: 2, 0: 1, 5: 0, 4: 0, 6: 0}\n",
            "{1: 2, 2: 2, 3: 2, 0: 1, 5: 1, 4: 0, 6: 0}\n",
            "{1: 2, 2: 2, 3: 2, 0: 1, 5: 1, 4: 1, 6: 0}\n",
            "{1: 2, 2: 3, 3: 2, 0: 1, 5: 1, 4: 1, 6: 0}\n",
            "{1: 2, 2: 3, 3: 2, 0: 1, 5: 1, 4: 1, 6: 1}\n",
            "\n",
            "{1: 2, 2: 3, 3: 2, 0: 1, 5: 1, 4: 1, 6: 1}\n"
          ]
        }
      ],
      "source": [
        "for num in numbers:\n",
        "  freq[num] += 1\n",
        "  print(freq)\n",
        "\n",
        "print()\n",
        "print(freq)"
      ]
    },
    {
      "cell_type": "markdown",
      "metadata": {
        "id": "GyjwZ7s7bcep"
      },
      "source": [
        "### Method #2"
      ]
    },
    {
      "cell_type": "code",
      "execution_count": 35,
      "metadata": {
        "colab": {
          "base_uri": "https://localhost:8080/"
        },
        "id": "u6why0rwKwwW",
        "outputId": "49df6177-7275-4494-9e3f-7bc3ea91bc30"
      },
      "outputs": [
        {
          "data": {
            "text/plain": [
              "{}"
            ]
          },
          "execution_count": 35,
          "metadata": {},
          "output_type": "execute_result"
        }
      ],
      "source": [
        "freq2 = {}\n",
        "freq2"
      ]
    },
    {
      "cell_type": "code",
      "execution_count": 36,
      "metadata": {
        "colab": {
          "base_uri": "https://localhost:8080/"
        },
        "id": "4veNAo0VMkHB",
        "outputId": "397311d3-169d-4bc8-efe8-067e450794d7"
      },
      "outputs": [
        {
          "name": "stdout",
          "output_type": "stream",
          "text": [
            "{1: 1}\n",
            "{1: 1, 2: 1}\n",
            "{1: 1, 2: 1, 3: 1}\n",
            "{1: 1, 2: 2, 3: 1}\n",
            "{1: 1, 2: 2, 3: 2}\n",
            "{1: 2, 2: 2, 3: 2}\n",
            "{1: 2, 2: 2, 3: 2, 0: 1}\n",
            "{1: 2, 2: 2, 3: 2, 0: 1, 5: 1}\n",
            "{1: 2, 2: 2, 3: 2, 0: 1, 5: 1, 4: 1}\n",
            "{1: 2, 2: 3, 3: 2, 0: 1, 5: 1, 4: 1}\n",
            "{1: 2, 2: 3, 3: 2, 0: 1, 5: 1, 4: 1, 6: 1}\n",
            "\n",
            "{1: 2, 2: 3, 3: 2, 0: 1, 5: 1, 4: 1, 6: 1}\n"
          ]
        }
      ],
      "source": [
        "for num in numbers:\n",
        "  if freq2.get(num):\n",
        "    freq2[num] += 1\n",
        "  else:\n",
        "    freq2[num] = 1\n",
        "  print(freq2)\n",
        "\n",
        "print()\n",
        "print(freq2)"
      ]
    },
    {
      "attachments": {},
      "cell_type": "markdown",
      "metadata": {},
      "source": [
        "### Method #3\n",
        "\n",
        "To begin, we will make a list of the **unique** numbers in the list. Then, using the list's [`count()`](https://www.geeksforgeeks.org/python-list-count-method/) method, we will go through the **unique** list and *count* the occurrences in the **original** list."
      ]
    },
    {
      "cell_type": "code",
      "execution_count": 37,
      "metadata": {},
      "outputs": [
        {
          "name": "stdout",
          "output_type": "stream",
          "text": [
            "[1, 2, 3, 0, 5, 4, 6]\n"
          ]
        }
      ],
      "source": [
        "unique_numbers = []\n",
        "\n",
        "for num in numbers:\n",
        "    if num not in unique_numbers:\n",
        "        unique_numbers.append(num) # adding items to the unique list\n",
        "\n",
        "print(unique_numbers)"
      ]
    },
    {
      "cell_type": "code",
      "execution_count": 38,
      "metadata": {},
      "outputs": [
        {
          "name": "stdout",
          "output_type": "stream",
          "text": [
            "{1: 2}\n",
            "{1: 2, 2: 3}\n",
            "{1: 2, 2: 3, 3: 2}\n",
            "{1: 2, 2: 3, 3: 2, 0: 1}\n",
            "{1: 2, 2: 3, 3: 2, 0: 1, 5: 1}\n",
            "{1: 2, 2: 3, 3: 2, 0: 1, 5: 1, 4: 1}\n",
            "{1: 2, 2: 3, 3: 2, 0: 1, 5: 1, 4: 1, 6: 1}\n",
            "\n",
            "{1: 2, 2: 3, 3: 2, 0: 1, 5: 1, 4: 1, 6: 1}\n"
          ]
        }
      ],
      "source": [
        "freq3 = {}\n",
        "\n",
        "for num in unique_numbers:\n",
        "    freq3[num] = numbers.count(num) # counting the occurrences in the orignial list and storing in the dictrionary\n",
        "    print(freq3)\n",
        "\n",
        "print ()\n",
        "print (freq3)"
      ]
    }
  ],
  "metadata": {
    "colab": {
      "include_colab_link": true,
      "provenance": []
    },
    "kernelspec": {
      "display_name": "Python 3",
      "language": "python",
      "name": "python3"
    },
    "language_info": {
      "codemirror_mode": {
        "name": "ipython",
        "version": 3
      },
      "file_extension": ".py",
      "mimetype": "text/x-python",
      "name": "python",
      "nbconvert_exporter": "python",
      "pygments_lexer": "ipython3",
      "version": "3.9.7"
    },
    "vscode": {
      "interpreter": {
        "hash": "aee8b7b246df8f9039afb4144a1f6fd8d2ca17a180786b69acc140d282b71a49"
      }
    }
  },
  "nbformat": 4,
  "nbformat_minor": 0
}
