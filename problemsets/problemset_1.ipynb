{
  "nbformat": 4,
  "nbformat_minor": 0,
  "metadata": {
    "colab": {
      "provenance": [],
      "authorship_tag": "ABX9TyMifZJqxxWMlkaJtKy/jCGb",
      "include_colab_link": true
    },
    "kernelspec": {
      "name": "python3",
      "display_name": "Python 3"
    },
    "language_info": {
      "name": "python"
    }
  },
  "cells": [
    {
      "cell_type": "markdown",
      "metadata": {
        "id": "view-in-github",
        "colab_type": "text"
      },
      "source": [
        "<a href=\"https://colab.research.google.com/github/ahmedmoustafa/AUC-Fundamentals-of-Data-Science-II-Spring-2023/blob/main/problemsets/problemset_1.ipynb\" target=\"_parent\"><img src=\"https://colab.research.google.com/assets/colab-badge.svg\" alt=\"Open In Colab\"/></a>"
      ]
    },
    {
      "cell_type": "markdown",
      "source": [
        "# Python Programming Problem Set #1"
      ],
      "metadata": {
        "id": "iDwh0QTgxS4g"
      }
    },
    {
      "cell_type": "markdown",
      "source": [
        "## Q1. Prime numbers\n",
        "Write a program that prints out all prime numbers between 1 and 100.\n"
      ],
      "metadata": {
        "id": "GW5CnmyCdgxh"
      }
    },
    {
      "cell_type": "markdown",
      "source": [
        "## Q2. Square roots\n",
        "\n",
        "Write a program that calculates the square root of the numbers 1 to 10 and stores the results in a dictionary, where the keys are the numbers and the values are their square roots.\n",
        "\n",
        "**Hint**: to calculate the square root of a number in Python, you may raise to the power of 0.5 or use the [`math.sqrt()`](https://www.geeksforgeeks.org/python-math-function-sqrt/) method.\n",
        "\n",
        "**Example**:"
      ],
      "metadata": {
        "id": "xgi2gd9hdmen"
      }
    },
    {
      "cell_type": "code",
      "source": [
        "num = 16\n",
        "print (num ** 0.5)"
      ],
      "metadata": {
        "colab": {
          "base_uri": "https://localhost:8080/"
        },
        "id": "yILfz_PNePEV",
        "outputId": "29185dfb-79d4-4785-fe12-164bc419b03d"
      },
      "execution_count": 1,
      "outputs": [
        {
          "output_type": "stream",
          "name": "stdout",
          "text": [
            "4.0\n"
          ]
        }
      ]
    },
    {
      "cell_type": "code",
      "source": [
        "import math\n",
        "print (math.sqrt(num))"
      ],
      "metadata": {
        "colab": {
          "base_uri": "https://localhost:8080/"
        },
        "id": "D56j5eH3ed0h",
        "outputId": "385e50cf-088a-4c76-b130-6019f0b1bbe4"
      },
      "execution_count": 2,
      "outputs": [
        {
          "output_type": "stream",
          "name": "stdout",
          "text": [
            "4.0\n"
          ]
        }
      ]
    },
    {
      "cell_type": "markdown",
      "source": [
        "## Q3. Reversing a list\n",
        "\n",
        "Write a program that takes a list of numbers and reverses it without using the [`reverse()`](https://www.geeksforgeeks.org/python-list-reverse/) method"
      ],
      "metadata": {
        "id": "U2p9H93eexFW"
      }
    },
    {
      "cell_type": "code",
      "source": [
        "lst = [1, 2, 3, 4, 5]\n",
        "lst"
      ],
      "metadata": {
        "colab": {
          "base_uri": "https://localhost:8080/"
        },
        "id": "SmmTglyOgLSg",
        "outputId": "fb393472-9cd7-4fcd-f10b-7907d063dcd0"
      },
      "execution_count": 3,
      "outputs": [
        {
          "output_type": "execute_result",
          "data": {
            "text/plain": [
              "[1, 2, 3, 4, 5]"
            ]
          },
          "metadata": {},
          "execution_count": 3
        }
      ]
    },
    {
      "cell_type": "markdown",
      "source": [
        "## Q4. Palindrome checker\n",
        "\n",
        "A palindrome is a word, phrase, number, or other sequence of characters that reads the same forward and backward. Write a program that checks if a given string is a palindrome.\n"
      ],
      "metadata": {
        "id": "Nt-6lcLRfMEl"
      }
    },
    {
      "cell_type": "code",
      "source": [
        "word = \"racecar\"\n",
        "word"
      ],
      "metadata": {
        "colab": {
          "base_uri": "https://localhost:8080/",
          "height": 35
        },
        "id": "Xf-5t5pWemZI",
        "outputId": "d6629a54-8834-4341-f21a-fd66da219535"
      },
      "execution_count": 4,
      "outputs": [
        {
          "output_type": "execute_result",
          "data": {
            "text/plain": [
              "'racecar'"
            ],
            "application/vnd.google.colaboratory.intrinsic+json": {
              "type": "string"
            }
          },
          "metadata": {},
          "execution_count": 4
        }
      ]
    },
    {
      "cell_type": "markdown",
      "source": [
        "## Q5. Sum of squares\n",
        "\n",
        "Write a program that calculates the sum of the squares of the first 10 positive integers."
      ],
      "metadata": {
        "id": "FwKudp-BfdZe"
      }
    },
    {
      "cell_type": "markdown",
      "source": [
        "## Q6. Average of numbers\n",
        "\n",
        "Write a program that calculates the average of a list of numbers."
      ],
      "metadata": {
        "id": "hAo0pg7uf7vl"
      }
    },
    {
      "cell_type": "code",
      "source": [
        "numbers = [1, 2, 3, 4, 5]\n",
        "numbers"
      ],
      "metadata": {
        "colab": {
          "base_uri": "https://localhost:8080/"
        },
        "id": "AgnWKt5dgEkJ",
        "outputId": "b0837f06-1793-478e-bf11-9f54a320190d"
      },
      "execution_count": 5,
      "outputs": [
        {
          "output_type": "execute_result",
          "data": {
            "text/plain": [
              "[1, 2, 3, 4, 5]"
            ]
          },
          "metadata": {},
          "execution_count": 5
        }
      ]
    },
    {
      "cell_type": "markdown",
      "source": [
        "## Q7. Median of a list\n",
        "\n",
        "Write a program that calculates the median of a list of numbers. The median is the middle value in a list. If the list has an odd number of values, the median is the middle value. If the list has an even number of values, the median is the average of the middle two values.\n",
        "\n",
        "**Hint:** You will need to sort the list first."
      ],
      "metadata": {
        "id": "2Bwt7jA0gh46"
      }
    },
    {
      "cell_type": "code",
      "source": [
        "numbers = [8, 4, 2, 6, 10]\n",
        "numbers"
      ],
      "metadata": {
        "colab": {
          "base_uri": "https://localhost:8080/"
        },
        "id": "Oi4xS5ILf64u",
        "outputId": "37b821c3-6d4d-4572-fa90-9579888a5db0"
      },
      "execution_count": 6,
      "outputs": [
        {
          "output_type": "execute_result",
          "data": {
            "text/plain": [
              "[8, 4, 2, 6, 10]"
            ]
          },
          "metadata": {},
          "execution_count": 6
        }
      ]
    },
    {
      "cell_type": "code",
      "source": [
        "numbers.sort() # to sort the list ascendingly\n",
        "numbers"
      ],
      "metadata": {
        "colab": {
          "base_uri": "https://localhost:8080/"
        },
        "id": "-e3aNkfRhmz-",
        "outputId": "c5efeb3b-9a5d-45d3-d1f6-324431227e8c"
      },
      "execution_count": 7,
      "outputs": [
        {
          "output_type": "execute_result",
          "data": {
            "text/plain": [
              "[2, 4, 6, 8, 10]"
            ]
          },
          "metadata": {},
          "execution_count": 7
        }
      ]
    },
    {
      "cell_type": "markdown",
      "source": [
        "## Q8. FizzBuzz\n",
        "\n",
        "Write a program that prints the numbers from 1 to 100. But for multiples of three, print `Fizz` instead of the number, and for multiples of five, print `Buzz`. For numbers that are multiples of both three and five, print `FizzBuzz`.\n",
        "\n",
        "**Hint:**. You may use the [modulus](https://www.khanacademy.org/computing/computer-science/cryptography/modarithmetic/a/what-is-modular-arithmetic) operator [`%`](https://www.geeksforgeeks.org/python-operators/).\n",
        "\n",
        "**Example:**"
      ],
      "metadata": {
        "id": "rqdKAZCHiFo8"
      }
    },
    {
      "cell_type": "code",
      "source": [
        "9 % 3"
      ],
      "metadata": {
        "colab": {
          "base_uri": "https://localhost:8080/"
        },
        "id": "a-hAMMEJifwo",
        "outputId": "4e0afe6d-680c-4661-d143-af257ee89252"
      },
      "execution_count": 8,
      "outputs": [
        {
          "output_type": "execute_result",
          "data": {
            "text/plain": [
              "0"
            ]
          },
          "metadata": {},
          "execution_count": 8
        }
      ]
    },
    {
      "cell_type": "code",
      "source": [
        "10 % 3"
      ],
      "metadata": {
        "colab": {
          "base_uri": "https://localhost:8080/"
        },
        "id": "qAlj_D9KlTML",
        "outputId": "b4828cf8-623f-4c5c-e673-b57e7776eb66"
      },
      "execution_count": 9,
      "outputs": [
        {
          "output_type": "execute_result",
          "data": {
            "text/plain": [
              "1"
            ]
          },
          "metadata": {},
          "execution_count": 9
        }
      ]
    },
    {
      "cell_type": "markdown",
      "source": [
        "## Q9. Count occurrences in a tuple\n",
        "\n",
        "Write a program that takes a tuple of numbers and counts the number of occurrences of a specific number, 5 in the list below."
      ],
      "metadata": {
        "id": "ZGh9YVHfwNvh"
      }
    },
    {
      "cell_type": "code",
      "source": [
        "numbers = (1, 2, 3, 4, 5, 6, 7, 8, 9, 10)\n",
        "numbers"
      ],
      "metadata": {
        "colab": {
          "base_uri": "https://localhost:8080/"
        },
        "id": "AeX70rgYlUk9",
        "outputId": "00019620-37e7-4031-a8c0-27db100660e1"
      },
      "execution_count": 10,
      "outputs": [
        {
          "output_type": "execute_result",
          "data": {
            "text/plain": [
              "(1, 2, 3, 4, 5, 6, 7, 8, 9, 10)"
            ]
          },
          "metadata": {},
          "execution_count": 10
        }
      ]
    },
    {
      "cell_type": "markdown",
      "source": [
        "## Q10. Merge dictionaries\n",
        "\n",
        "Write a program that merges two dictionaries (`dict1` and `dict2`) together into in a new dictionary (`merged_dict`). If a key exists in both dictionaries, the value in the second dictionary should overwrite the value in the first dictionary."
      ],
      "metadata": {
        "id": "gcLTYBTjwnLr"
      }
    },
    {
      "cell_type": "code",
      "source": [
        "dict1 = {\"a\": 1, \"b\": 2, \"c\": 3}\n",
        "print(dict1)"
      ],
      "metadata": {
        "colab": {
          "base_uri": "https://localhost:8080/"
        },
        "id": "-K8U35Y3wb9h",
        "outputId": "1e89a6a4-f444-45f0-f422-41bb5b97e75d"
      },
      "execution_count": 11,
      "outputs": [
        {
          "output_type": "stream",
          "name": "stdout",
          "text": [
            "{'a': 1, 'b': 2, 'c': 3}\n"
          ]
        }
      ]
    },
    {
      "cell_type": "code",
      "source": [
        "dict2 = {\"b\": 4, \"c\": 5, \"d\": 6}\n",
        "print(dict2)"
      ],
      "metadata": {
        "colab": {
          "base_uri": "https://localhost:8080/"
        },
        "id": "whzW4BGJwuG2",
        "outputId": "5d67e03b-7462-4fbc-ea08-45082264ed54"
      },
      "execution_count": 12,
      "outputs": [
        {
          "output_type": "stream",
          "name": "stdout",
          "text": [
            "{'b': 4, 'c': 5, 'd': 6}\n"
          ]
        }
      ]
    },
    {
      "cell_type": "markdown",
      "source": [
        "##Q11. Remove duplicates\n",
        "\n",
        "Write a program that takes a list of numbers and removes any duplicates, keeping only the first occurrence of each number.\n",
        "\n",
        "**Hint:** You may consider using the [membership operator](https://www.geeksforgeeks.org/python-membership-identity-operators-not-not/) (`in`).\n",
        "\n",
        "**Example:**"
      ],
      "metadata": {
        "id": "AqLvoqkZxyDh"
      }
    },
    {
      "cell_type": "code",
      "source": [
        "fruits = [\"apple\", \"organge\", \"mango\", \"banana\"]\n",
        "fruits"
      ],
      "metadata": {
        "colab": {
          "base_uri": "https://localhost:8080/"
        },
        "id": "strUc6AMxwmS",
        "outputId": "0931bbc4-ce02-4671-835b-60c9c718c667"
      },
      "execution_count": 13,
      "outputs": [
        {
          "output_type": "execute_result",
          "data": {
            "text/plain": [
              "['apple', 'organge', 'mango', 'banana']"
            ]
          },
          "metadata": {},
          "execution_count": 13
        }
      ]
    },
    {
      "cell_type": "code",
      "source": [
        "\"mango\" in fruits # checks whether \"mango\" belong the list of above list of fruits and returns boolean true"
      ],
      "metadata": {
        "colab": {
          "base_uri": "https://localhost:8080/"
        },
        "id": "z6srEo6FzX7F",
        "outputId": "dd533ea7-13ca-4cfd-f2f4-478c9fda187d"
      },
      "execution_count": 14,
      "outputs": [
        {
          "output_type": "execute_result",
          "data": {
            "text/plain": [
              "True"
            ]
          },
          "metadata": {},
          "execution_count": 14
        }
      ]
    },
    {
      "cell_type": "code",
      "source": [
        "\"grape\" in fruits # checks whether \"graps\" belong the list of above list of fruits and returns boolean false"
      ],
      "metadata": {
        "colab": {
          "base_uri": "https://localhost:8080/"
        },
        "id": "J8E1NxJKzgdl",
        "outputId": "d9bb6c52-ab9d-4b02-b757-e528bed96794"
      },
      "execution_count": 15,
      "outputs": [
        {
          "output_type": "execute_result",
          "data": {
            "text/plain": [
              "False"
            ]
          },
          "metadata": {},
          "execution_count": 15
        }
      ]
    },
    {
      "cell_type": "code",
      "source": [
        "numbers = [1, 2, 3, 4, 3, 2, 5, 6, 1] # list with duplicates\n",
        "numbers"
      ],
      "metadata": {
        "colab": {
          "base_uri": "https://localhost:8080/"
        },
        "id": "w-9r3bkpzlcv",
        "outputId": "e6fcb84e-9224-41dc-a9d2-c792be9d6090"
      },
      "execution_count": 16,
      "outputs": [
        {
          "output_type": "execute_result",
          "data": {
            "text/plain": [
              "[1, 2, 3, 4, 3, 2, 5, 6, 1]"
            ]
          },
          "metadata": {},
          "execution_count": 16
        }
      ]
    },
    {
      "cell_type": "code",
      "source": [
        "unique_numbers = [] # list with only unique values (no duplicates)\n",
        "unique_numbers"
      ],
      "metadata": {
        "colab": {
          "base_uri": "https://localhost:8080/"
        },
        "id": "dInFtjxMz8dk",
        "outputId": "110bc40f-df5d-4021-f6e6-50701e79c2be"
      },
      "execution_count": 17,
      "outputs": [
        {
          "output_type": "execute_result",
          "data": {
            "text/plain": [
              "[]"
            ]
          },
          "metadata": {},
          "execution_count": 17
        }
      ]
    }
  ]
}