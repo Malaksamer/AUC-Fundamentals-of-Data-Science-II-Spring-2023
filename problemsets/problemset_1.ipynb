{
  "nbformat": 4,
  "nbformat_minor": 0,
  "metadata": {
    "colab": {
      "provenance": [],
      "authorship_tag": "ABX9TyPoAEtw9AvXWTtBrjUZ//TV",
      "include_colab_link": true
    },
    "kernelspec": {
      "name": "python3",
      "display_name": "Python 3"
    },
    "language_info": {
      "name": "python"
    }
  },
  "cells": [
    {
      "cell_type": "markdown",
      "metadata": {
        "id": "view-in-github",
        "colab_type": "text"
      },
      "source": [
        "<a href=\"https://colab.research.google.com/github/ahmedmoustafa/AUC-Fundamentals-of-Data-Science-II-Spring-2023/blob/main/problemsets/problemset_1.ipynb\" target=\"_parent\"><img src=\"https://colab.research.google.com/assets/colab-badge.svg\" alt=\"Open In Colab\"/></a>"
      ]
    },
    {
      "cell_type": "markdown",
      "source": [
        "# Python Programming Problem Set #1"
      ],
      "metadata": {
        "id": "iDwh0QTgxS4g"
      }
    },
    {
      "cell_type": "markdown",
      "source": [
        "## Q1. Prime numbers\n",
        "Write a program that prints out all prime numbers between 1 and 100.\n"
      ],
      "metadata": {
        "id": "GW5CnmyCdgxh"
      }
    },
    {
      "cell_type": "markdown",
      "source": [
        "## Q2. Square roots\n",
        "\n",
        "Write a program that calculates the square root of the numbers 1 to 10 and stores the results in a dictionary, where the keys are the numbers and the values are their square roots.\n",
        "\n",
        "**Hint**: to calculate the square root of a number in Python, you may raise to the power of 0.5 or use the [`math.sqrt()`](https://www.geeksforgeeks.org/python-math-function-sqrt/) method.\n",
        "\n",
        "**Example**:"
      ],
      "metadata": {
        "id": "xgi2gd9hdmen"
      }
    },
    {
      "cell_type": "code",
      "source": [
        "num = 16\n",
        "print (num ** 0.5)"
      ],
      "metadata": {
        "colab": {
          "base_uri": "https://localhost:8080/"
        },
        "id": "yILfz_PNePEV",
        "outputId": "b4b60429-4665-4947-8f98-3322ab1477ae"
      },
      "execution_count": 1,
      "outputs": [
        {
          "output_type": "stream",
          "name": "stdout",
          "text": [
            "4.0\n"
          ]
        }
      ]
    },
    {
      "cell_type": "code",
      "source": [
        "import math\n",
        "print (math.sqrt(num))"
      ],
      "metadata": {
        "colab": {
          "base_uri": "https://localhost:8080/"
        },
        "id": "D56j5eH3ed0h",
        "outputId": "a5d8b195-db7c-40c3-afbd-046e551fb84c"
      },
      "execution_count": 2,
      "outputs": [
        {
          "output_type": "stream",
          "name": "stdout",
          "text": [
            "4.0\n"
          ]
        }
      ]
    },
    {
      "cell_type": "markdown",
      "source": [
        "## Q3. Reversing a list\n",
        "\n",
        "Write a program that takes a list of numbers and reverses it without using the [`reverse()`](https://www.geeksforgeeks.org/python-list-reverse/) method"
      ],
      "metadata": {
        "id": "U2p9H93eexFW"
      }
    },
    {
      "cell_type": "code",
      "source": [
        "lst = [1, 2, 3, 4, 5]\n",
        "lst"
      ],
      "metadata": {
        "colab": {
          "base_uri": "https://localhost:8080/"
        },
        "id": "SmmTglyOgLSg",
        "outputId": "83d9b087-7a5d-4b4d-98fb-35d97c11b18d"
      },
      "execution_count": 3,
      "outputs": [
        {
          "output_type": "execute_result",
          "data": {
            "text/plain": [
              "[1, 2, 3, 4, 5]"
            ]
          },
          "metadata": {},
          "execution_count": 3
        }
      ]
    },
    {
      "cell_type": "markdown",
      "source": [
        "## Q4. Palindrome checker\n",
        "\n",
        "A palindrome is a word, phrase, number, or other sequence of characters that reads the same forward and backward. Write a program that checks if a given string is a palindrome.\n"
      ],
      "metadata": {
        "id": "Nt-6lcLRfMEl"
      }
    },
    {
      "cell_type": "code",
      "source": [
        "word = \"racecar\"\n",
        "word"
      ],
      "metadata": {
        "colab": {
          "base_uri": "https://localhost:8080/",
          "height": 35
        },
        "id": "Xf-5t5pWemZI",
        "outputId": "e3ec0cd1-8c9f-4a28-c050-e8a8e6e0831c"
      },
      "execution_count": 4,
      "outputs": [
        {
          "output_type": "execute_result",
          "data": {
            "text/plain": [
              "'racecar'"
            ],
            "application/vnd.google.colaboratory.intrinsic+json": {
              "type": "string"
            }
          },
          "metadata": {},
          "execution_count": 4
        }
      ]
    },
    {
      "cell_type": "markdown",
      "source": [
        "## Q5. Sum of squares\n",
        "\n",
        "Write a program that calculates the sum of the squares of the first 10 positive integers."
      ],
      "metadata": {
        "id": "FwKudp-BfdZe"
      }
    },
    {
      "cell_type": "markdown",
      "source": [
        "## Q6. Average of numbers\n",
        "\n",
        "Write a program that calculates the average of a list of numbers."
      ],
      "metadata": {
        "id": "hAo0pg7uf7vl"
      }
    },
    {
      "cell_type": "code",
      "source": [
        "numbers = [1, 2, 3, 4, 5]\n",
        "numbers"
      ],
      "metadata": {
        "colab": {
          "base_uri": "https://localhost:8080/"
        },
        "id": "AgnWKt5dgEkJ",
        "outputId": "d3d0bfdd-b82d-4d88-d096-517c915a755d"
      },
      "execution_count": 5,
      "outputs": [
        {
          "output_type": "execute_result",
          "data": {
            "text/plain": [
              "[1, 2, 3, 4, 5]"
            ]
          },
          "metadata": {},
          "execution_count": 5
        }
      ]
    },
    {
      "cell_type": "markdown",
      "source": [
        "## Q7. Median of a list\n",
        "\n",
        "Write a program that calculates the median of a list of numbers. The median is the middle value in a list. If the list has an odd number of values, the median is the middle value. If the list has an even number of values, the median is the average of the middle two values.\n",
        "\n",
        "**Hint:** You will need to sort the list first."
      ],
      "metadata": {
        "id": "2Bwt7jA0gh46"
      }
    },
    {
      "cell_type": "code",
      "source": [
        "numbers = [8, 4, 2, 6, 10]\n",
        "numbers"
      ],
      "metadata": {
        "colab": {
          "base_uri": "https://localhost:8080/"
        },
        "id": "Oi4xS5ILf64u",
        "outputId": "0abdaf4e-3c80-4266-a3b3-6858af950c57"
      },
      "execution_count": 6,
      "outputs": [
        {
          "output_type": "execute_result",
          "data": {
            "text/plain": [
              "[8, 4, 2, 6, 10]"
            ]
          },
          "metadata": {},
          "execution_count": 6
        }
      ]
    },
    {
      "cell_type": "code",
      "source": [
        "numbers.sort() # to sort the list ascendingly\n",
        "numbers"
      ],
      "metadata": {
        "colab": {
          "base_uri": "https://localhost:8080/"
        },
        "id": "-e3aNkfRhmz-",
        "outputId": "0ced8be2-5542-4810-e59f-2bad2410f4d7"
      },
      "execution_count": 7,
      "outputs": [
        {
          "output_type": "execute_result",
          "data": {
            "text/plain": [
              "[2, 4, 6, 8, 10]"
            ]
          },
          "metadata": {},
          "execution_count": 7
        }
      ]
    },
    {
      "cell_type": "markdown",
      "source": [
        "## Q8. FizzBuzz\n",
        "\n",
        "Write a program that prints the numbers from 1 to 100. But for multiples of three, print `Fizz` instead of the number, and for multiples of five, print `Buzz`. For numbers that are multiples of both three and five, print `FizzBuzz`.\n",
        "\n",
        "**Hint:**. You may use the remainder operator `%`.\n",
        "**Example:**"
      ],
      "metadata": {
        "id": "rqdKAZCHiFo8"
      }
    },
    {
      "cell_type": "code",
      "source": [
        "9 % 3"
      ],
      "metadata": {
        "colab": {
          "base_uri": "https://localhost:8080/"
        },
        "id": "a-hAMMEJifwo",
        "outputId": "300d0418-d95c-4c9d-bc96-ca40228c1806"
      },
      "execution_count": 8,
      "outputs": [
        {
          "output_type": "execute_result",
          "data": {
            "text/plain": [
              "0"
            ]
          },
          "metadata": {},
          "execution_count": 8
        }
      ]
    },
    {
      "cell_type": "code",
      "source": [
        "10 % 3"
      ],
      "metadata": {
        "colab": {
          "base_uri": "https://localhost:8080/"
        },
        "id": "qAlj_D9KlTML",
        "outputId": "9b1a0e4f-4141-4e03-b451-91c5bc42a1a7"
      },
      "execution_count": 9,
      "outputs": [
        {
          "output_type": "execute_result",
          "data": {
            "text/plain": [
              "1"
            ]
          },
          "metadata": {},
          "execution_count": 9
        }
      ]
    },
    {
      "cell_type": "markdown",
      "source": [
        "## Q9. Count occurrences in a tuple\n",
        "\n",
        "Write a program that takes a tuple of numbers and counts the number of occurrences of a specific number, 5 in the list below."
      ],
      "metadata": {
        "id": "ZGh9YVHfwNvh"
      }
    },
    {
      "cell_type": "code",
      "source": [
        "numbers = (1, 2, 3, 4, 5, 6, 7, 8, 9, 10)\n",
        "numbers"
      ],
      "metadata": {
        "colab": {
          "base_uri": "https://localhost:8080/"
        },
        "id": "AeX70rgYlUk9",
        "outputId": "7a4051a1-1ce5-4a17-c3f6-fb1d53e636ad"
      },
      "execution_count": 10,
      "outputs": [
        {
          "output_type": "execute_result",
          "data": {
            "text/plain": [
              "(1, 2, 3, 4, 5, 6, 7, 8, 9, 10)"
            ]
          },
          "metadata": {},
          "execution_count": 10
        }
      ]
    },
    {
      "cell_type": "markdown",
      "source": [
        "## Q10. Merge dictionaries\n",
        "\n",
        "Write a program that merges two dictionaries (`dict1` and `dict2`) together into in a new dictionary (`merged_dict`). If a key exists in both dictionaries, the value in the second dictionary should overwrite the value in the first dictionary."
      ],
      "metadata": {
        "id": "gcLTYBTjwnLr"
      }
    },
    {
      "cell_type": "code",
      "source": [
        "dict1 = {\"a\": 1, \"b\": 2, \"c\": 3}\n",
        "print(dict1)"
      ],
      "metadata": {
        "colab": {
          "base_uri": "https://localhost:8080/"
        },
        "id": "-K8U35Y3wb9h",
        "outputId": "68ea4872-4aee-49b0-9601-200c56dc089d"
      },
      "execution_count": 11,
      "outputs": [
        {
          "output_type": "stream",
          "name": "stdout",
          "text": [
            "{'a': 1, 'b': 2, 'c': 3}\n"
          ]
        }
      ]
    },
    {
      "cell_type": "code",
      "source": [
        "dict2 = {\"b\": 4, \"c\": 5, \"d\": 6}\n",
        "print(dict2)"
      ],
      "metadata": {
        "colab": {
          "base_uri": "https://localhost:8080/"
        },
        "id": "whzW4BGJwuG2",
        "outputId": "1f0d3139-eb93-4b7f-b4b3-701ea1841de3"
      },
      "execution_count": 12,
      "outputs": [
        {
          "output_type": "stream",
          "name": "stdout",
          "text": [
            "{'b': 4, 'c': 5, 'd': 6}\n"
          ]
        }
      ]
    }
  ]
}