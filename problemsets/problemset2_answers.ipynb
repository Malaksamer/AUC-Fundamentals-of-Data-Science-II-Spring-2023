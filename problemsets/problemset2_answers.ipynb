{
  "nbformat": 4,
  "nbformat_minor": 0,
  "metadata": {
    "colab": {
      "provenance": [],
      "authorship_tag": "ABX9TyM3a+IMAeEZdeFaIKpnaqQd",
      "include_colab_link": true
    },
    "kernelspec": {
      "name": "python3",
      "display_name": "Python 3"
    },
    "language_info": {
      "name": "python"
    }
  },
  "cells": [
    {
      "cell_type": "markdown",
      "metadata": {
        "id": "view-in-github",
        "colab_type": "text"
      },
      "source": [
        "<a href=\"https://colab.research.google.com/github/ahmedmoustafa/AUC-Fundamentals-of-Data-Science-II-Spring-2023/blob/main/problemsets/problemset2_answers.ipynb\" target=\"_parent\"><img src=\"https://colab.research.google.com/assets/colab-badge.svg\" alt=\"Open In Colab\"/></a>"
      ]
    },
    {
      "cell_type": "markdown",
      "source": [
        "# Python Programming Problem Set #2 - Answers"
      ],
      "metadata": {
        "id": "IVnKTRR1_V2o"
      }
    },
    {
      "cell_type": "markdown",
      "source": [
        "**Q1.** Python function that takes a list of numbers and returns their product."
      ],
      "metadata": {
        "id": "VTzIAXJHCfnr"
      }
    },
    {
      "cell_type": "code",
      "source": [
        "def multiply_numbers(numbers):\n",
        "  product = 1\n",
        "  for num in numbers:\n",
        "    product *= num\n",
        "  return product"
      ],
      "metadata": {
        "id": "Fx-MH559Cwxb"
      },
      "execution_count": 1,
      "outputs": []
    },
    {
      "cell_type": "code",
      "source": [
        "multiply_numbers([2, 3, 4])"
      ],
      "metadata": {
        "colab": {
          "base_uri": "https://localhost:8080/"
        },
        "id": "36iEMigSCzNq",
        "outputId": "025e864c-4c6a-4179-facb-13bcd322e93a"
      },
      "execution_count": 2,
      "outputs": [
        {
          "output_type": "execute_result",
          "data": {
            "text/plain": [
              "24"
            ]
          },
          "metadata": {},
          "execution_count": 2
        }
      ]
    },
    {
      "cell_type": "markdown",
      "source": [
        "Alternatively using _variable_ length parameters:"
      ],
      "metadata": {
        "id": "yOAIltJ3xDzI"
      }
    },
    {
      "cell_type": "code",
      "source": [
        "def multiply_numbers(*numbers):\n",
        "  product = 1\n",
        "  for num in numbers:\n",
        "    product *= num\n",
        "  return product"
      ],
      "metadata": {
        "id": "oCIZaB4dxQc3"
      },
      "execution_count": 3,
      "outputs": []
    },
    {
      "cell_type": "code",
      "source": [
        "multiply_numbers(2, 3, 4)"
      ],
      "metadata": {
        "colab": {
          "base_uri": "https://localhost:8080/"
        },
        "id": "8rmCYoNaxSD3",
        "outputId": "d497e8af-4f5b-4179-83ac-966af45c32fa"
      },
      "execution_count": 4,
      "outputs": [
        {
          "output_type": "execute_result",
          "data": {
            "text/plain": [
              "24"
            ]
          },
          "metadata": {},
          "execution_count": 4
        }
      ]
    },
    {
      "cell_type": "markdown",
      "source": [
        "**Q2.** Write a Python function to find the maximum and minimum numbers in a list."
      ],
      "metadata": {
        "id": "uD_eXeyU_cJP"
      }
    },
    {
      "cell_type": "code",
      "source": [
        "def find_min_max(numbers):\n",
        "  min_num = numbers[0] # Set the min to the first number in the list\n",
        "  max_num = numbers[0] # Set the max to the first number in the list\n",
        "  for num in numbers:\n",
        "    if num > max_num:\n",
        "      max_num = num\n",
        "    elif num < min_num:\n",
        "      min_num = num\n",
        "  return (min_num, max_num)"
      ],
      "metadata": {
        "id": "BFSB4TERC8j5"
      },
      "execution_count": 5,
      "outputs": []
    },
    {
      "cell_type": "code",
      "source": [
        "find_min_max ([2, 3, 4])"
      ],
      "metadata": {
        "colab": {
          "base_uri": "https://localhost:8080/"
        },
        "id": "gGgxQaQxoNNK",
        "outputId": "d5f81f36-46f5-46e9-e3b3-0a5a854bf3ab"
      },
      "execution_count": 6,
      "outputs": [
        {
          "output_type": "execute_result",
          "data": {
            "text/plain": [
              "(2, 4)"
            ]
          },
          "metadata": {},
          "execution_count": 6
        }
      ]
    },
    {
      "cell_type": "markdown",
      "source": [
        "**Q3.** Write a Python function that takes a list of strings and returns the longest string.\n"
      ],
      "metadata": {
        "id": "OLhK2JGxBZKn"
      }
    },
    {
      "cell_type": "code",
      "source": [
        "def find_longest_string(strings):\n",
        "  # Set the longest string to first string in the list\n",
        "  longest_string = strings[0]\n",
        "  for string in strings:\n",
        "    # Compare the length of the current string to the longest string so far\n",
        "    if len(string) > len(longest_string):\n",
        "      longest_string = string\n",
        "  return longest_string"
      ],
      "metadata": {
        "id": "We_X45m9DRkT"
      },
      "execution_count": 7,
      "outputs": []
    },
    {
      "cell_type": "code",
      "source": [
        "find_longest_string([\"Vicky\", \"Cristina\", \"Barcelona\"])"
      ],
      "metadata": {
        "colab": {
          "base_uri": "https://localhost:8080/",
          "height": 35
        },
        "id": "YRcA0yVnoQZP",
        "outputId": "2b6b475e-d69b-48e5-c73e-01a180590df7"
      },
      "execution_count": 8,
      "outputs": [
        {
          "output_type": "execute_result",
          "data": {
            "text/plain": [
              "'Barcelona'"
            ],
            "application/vnd.google.colaboratory.intrinsic+json": {
              "type": "string"
            }
          },
          "metadata": {},
          "execution_count": 8
        }
      ]
    },
    {
      "cell_type": "markdown",
      "source": [
        "**Q4.** Write a Python function that takes a list of numbers and returns a new list containing only the even numbers."
      ],
      "metadata": {
        "id": "TlcbzDLvEieZ"
      }
    },
    {
      "cell_type": "code",
      "source": [
        "def filter_even_numbers(numbers):\n",
        "  even_numbers = [] # create an empty list for the even numbers\n",
        "  for num in numbers:\n",
        "    if num % 2 == 0: # if the number is divisable by 2 then it is even\n",
        "      even_numbers.append (num) # if so, add it to the list of even numbers\n",
        "  return even_numbers"
      ],
      "metadata": {
        "id": "G30-5Y5Q_YY6"
      },
      "execution_count": 9,
      "outputs": []
    },
    {
      "cell_type": "code",
      "source": [
        "filter_even_numbers([1, 2, 3, 4])"
      ],
      "metadata": {
        "colab": {
          "base_uri": "https://localhost:8080/"
        },
        "id": "3GmznIJtpRTC",
        "outputId": "76a382af-f20e-4320-af42-55395373994a"
      },
      "execution_count": 10,
      "outputs": [
        {
          "output_type": "execute_result",
          "data": {
            "text/plain": [
              "[2, 4]"
            ]
          },
          "metadata": {},
          "execution_count": 10
        }
      ]
    },
    {
      "cell_type": "markdown",
      "source": [
        "**Q5.** Write a Python function that takes a number and returns \"Fizz\" if the number is divisible by 3, \"Buzz\" if the number is divisible by 5, and \"FizzBuzz\" if the number is divisible by both 3 and 5. Otherwise, return the number."
      ],
      "metadata": {
        "id": "QiBtikRXFJGv"
      }
    },
    {
      "cell_type": "code",
      "source": [
        "def fizzbuzz(number):\n",
        "  if number % 3 == 0 and number % 5 == 0:\n",
        "    return \"FizzBuzz\"\n",
        "  elif number % 3 == 0:\n",
        "    return \"Fizz\"\n",
        "  elif number % 5 == 0:\n",
        "    return \"Buzz\"\n",
        "  else:\n",
        "    return number"
      ],
      "metadata": {
        "id": "gj57X9XoEqz8"
      },
      "execution_count": 11,
      "outputs": []
    },
    {
      "cell_type": "code",
      "source": [
        "fizzbuzz(15)"
      ],
      "metadata": {
        "colab": {
          "base_uri": "https://localhost:8080/",
          "height": 35
        },
        "id": "_eVLBSWathg5",
        "outputId": "ace0536c-8fac-4921-aa5d-3a30e06ff62c"
      },
      "execution_count": 12,
      "outputs": [
        {
          "output_type": "execute_result",
          "data": {
            "text/plain": [
              "'FizzBuzz'"
            ],
            "application/vnd.google.colaboratory.intrinsic+json": {
              "type": "string"
            }
          },
          "metadata": {},
          "execution_count": 12
        }
      ]
    },
    {
      "cell_type": "code",
      "source": [
        "fizzbuzz(5)"
      ],
      "metadata": {
        "colab": {
          "base_uri": "https://localhost:8080/",
          "height": 35
        },
        "id": "EUlt9GR5tmYZ",
        "outputId": "a220fde9-b1d6-44d2-8422-77d7b48d7516"
      },
      "execution_count": 13,
      "outputs": [
        {
          "output_type": "execute_result",
          "data": {
            "text/plain": [
              "'Buzz'"
            ],
            "application/vnd.google.colaboratory.intrinsic+json": {
              "type": "string"
            }
          },
          "metadata": {},
          "execution_count": 13
        }
      ]
    },
    {
      "cell_type": "code",
      "source": [
        "fizzbuzz(3)"
      ],
      "metadata": {
        "colab": {
          "base_uri": "https://localhost:8080/",
          "height": 35
        },
        "id": "mJpWFXFmtoS_",
        "outputId": "bf89bf07-46b2-4784-8ab2-ddeee54999ac"
      },
      "execution_count": 14,
      "outputs": [
        {
          "output_type": "execute_result",
          "data": {
            "text/plain": [
              "'Fizz'"
            ],
            "application/vnd.google.colaboratory.intrinsic+json": {
              "type": "string"
            }
          },
          "metadata": {},
          "execution_count": 14
        }
      ]
    },
    {
      "cell_type": "code",
      "source": [
        "fizzbuzz(1)"
      ],
      "metadata": {
        "colab": {
          "base_uri": "https://localhost:8080/"
        },
        "id": "DobR_gj4tnaZ",
        "outputId": "945ee7e1-deab-450a-92d4-e3fd9c04de1c"
      },
      "execution_count": 15,
      "outputs": [
        {
          "output_type": "execute_result",
          "data": {
            "text/plain": [
              "1"
            ]
          },
          "metadata": {},
          "execution_count": 15
        }
      ]
    },
    {
      "cell_type": "markdown",
      "source": [
        "**Q6.** Write a Python function that takes a list of positive numbers and returns the second largest number in the list _without_ sorting the list.\n"
      ],
      "metadata": {
        "id": "JuM3C2OkFmng"
      }
    },
    {
      "cell_type": "code",
      "source": [
        "def find_second_largest(numbers):\n",
        "  largest = -1\n",
        "  second_largest = -1\n",
        "  for num in numbers:\n",
        "    if num > largest:\n",
        "      second_largest = largest\n",
        "      largest = num\n",
        "    elif num > second_largest:\n",
        "      second_largest = num\n",
        "  return second_largest"
      ],
      "metadata": {
        "id": "pMZwETxqFP8A"
      },
      "execution_count": 16,
      "outputs": []
    },
    {
      "cell_type": "code",
      "source": [
        "numbers = [2, 5, 7, 1, 8, 3, 9]\n",
        "find_second_largest(numbers)"
      ],
      "metadata": {
        "colab": {
          "base_uri": "https://localhost:8080/"
        },
        "id": "051aX3bcppIA",
        "outputId": "9f40ac72-3a2c-4382-804f-f1004f614bb9"
      },
      "execution_count": 17,
      "outputs": [
        {
          "output_type": "execute_result",
          "data": {
            "text/plain": [
              "8"
            ]
          },
          "metadata": {},
          "execution_count": 17
        }
      ]
    },
    {
      "cell_type": "markdown",
      "source": [
        "**Q7.** Write a Python function that takes a string and returns the most common letter in the string."
      ],
      "metadata": {
        "id": "u1Uq1YCfQg6M"
      }
    },
    {
      "cell_type": "code",
      "source": [
        "def find_most_common_letter(string):\n",
        "  letter_counts = {} # empty dictionary of the characters and their counts\n",
        "  for letter in string.upper(): # for each character in the string (upper case)\n",
        "    if letter in letter_counts: # if the char in the dictionary\n",
        "      letter_counts[letter] += 1 # increase the count by 1\n",
        "    else:\n",
        "      letter_counts[letter] = 1 # otherwise, set the count to 1\n",
        "  \n",
        "  # Now let's find the largest count\n",
        "  max_count = -1 # set the max count to -1\n",
        "  max_letter = '' # set the letter with the max count to ''\n",
        "  for letter in letter_counts:\n",
        "    if letter_counts[letter] > max_count:\n",
        "      max_count = letter_counts[letter]\n",
        "      max_letter = letter\n",
        "  \n",
        "  return (max_letter)"
      ],
      "metadata": {
        "id": "d0qOgoXgGAZ4"
      },
      "execution_count": 18,
      "outputs": []
    },
    {
      "cell_type": "code",
      "source": [
        "find_most_common_letter(\"Hello, World!\")"
      ],
      "metadata": {
        "colab": {
          "base_uri": "https://localhost:8080/",
          "height": 35
        },
        "id": "KxK0OENppuJC",
        "outputId": "a493c910-6ce8-4434-f5d6-330cae4ef42c"
      },
      "execution_count": 19,
      "outputs": [
        {
          "output_type": "execute_result",
          "data": {
            "text/plain": [
              "'L'"
            ],
            "application/vnd.google.colaboratory.intrinsic+json": {
              "type": "string"
            }
          },
          "metadata": {},
          "execution_count": 19
        }
      ]
    },
    {
      "cell_type": "markdown",
      "source": [
        "**Q8.** Write a recursive Python function that generate Fibonacci series."
      ],
      "metadata": {
        "id": "WNcsNwVuS-tE"
      }
    },
    {
      "cell_type": "code",
      "source": [
        "def fibonacci(n):\n",
        "  if n == 0:\n",
        "    return 0\n",
        "  elif n == 1:\n",
        "    return 1\n",
        "  else:\n",
        "    return fibonacci(n - 1) + fibonacci(n - 2)"
      ],
      "metadata": {
        "id": "u-4e0Vb0RAuX"
      },
      "execution_count": 20,
      "outputs": []
    },
    {
      "cell_type": "code",
      "source": [
        "fibonacci (6)"
      ],
      "metadata": {
        "colab": {
          "base_uri": "https://localhost:8080/"
        },
        "id": "LFHjr0Axp3bw",
        "outputId": "4f6b0f9a-8a51-446d-aecf-a6c17b25c532"
      },
      "execution_count": 21,
      "outputs": [
        {
          "output_type": "execute_result",
          "data": {
            "text/plain": [
              "8"
            ]
          },
          "metadata": {},
          "execution_count": 21
        }
      ]
    },
    {
      "cell_type": "code",
      "source": [
        "for i in range(10):\n",
        "  print (i, fibonacci(i))"
      ],
      "metadata": {
        "colab": {
          "base_uri": "https://localhost:8080/"
        },
        "id": "Kv8AmypOTwPS",
        "outputId": "5c0b8c19-e7e8-4d4a-ec4a-90ff0290c305"
      },
      "execution_count": 22,
      "outputs": [
        {
          "output_type": "stream",
          "name": "stdout",
          "text": [
            "0 0\n",
            "1 1\n",
            "2 1\n",
            "3 2\n",
            "4 3\n",
            "5 5\n",
            "6 8\n",
            "7 13\n",
            "8 21\n",
            "9 34\n"
          ]
        }
      ]
    },
    {
      "cell_type": "markdown",
      "source": [
        "**Q9.** Write a recursive Python function that takes a list of integers and returns the sum of all the numbers in the list."
      ],
      "metadata": {
        "id": "GwxlwbzVYhog"
      }
    },
    {
      "cell_type": "code",
      "source": [
        "def recursive_sum(numbers):\n",
        "  if not numbers: # if the list of numbers of empty\n",
        "    return 0 # return zero\n",
        "  else: # otherwise\n",
        "    # return sum the first num in the list and \n",
        "    # the sum of the remaining items in the list\n",
        "    return numbers[0] + recursive_sum(numbers[1:])"
      ],
      "metadata": {
        "id": "Qd-NGHllVI45"
      },
      "execution_count": 23,
      "outputs": []
    },
    {
      "cell_type": "code",
      "source": [
        "recursive_sum([1, 2, 3, 4, 5])"
      ],
      "metadata": {
        "colab": {
          "base_uri": "https://localhost:8080/"
        },
        "id": "U1mijfsgqBXN",
        "outputId": "f6225eab-755a-4c95-b76b-063f89a9ac8a"
      },
      "execution_count": 24,
      "outputs": [
        {
          "output_type": "execute_result",
          "data": {
            "text/plain": [
              "15"
            ]
          },
          "metadata": {},
          "execution_count": 24
        }
      ]
    },
    {
      "cell_type": "markdown",
      "source": [
        "**Q10.** Write a Python function that takes a list of strings and returns the number of unique words in the list."
      ],
      "metadata": {
        "id": "PhO-PQuqZgPR"
      }
    },
    {
      "cell_type": "code",
      "source": [
        "def count_unique_words(words):\n",
        "  unique_words = [] # create an empty list to store the unique words\n",
        "  for word in words: # for each word in the original list of words\n",
        "    if word not in unique_words: # if the word is not the unique list\n",
        "      unique_words.append(word) # add that word to the unique list\n",
        "  return len(unique_words) # return the length of the list of the unique words"
      ],
      "metadata": {
        "id": "5aF7hRvUYonj"
      },
      "execution_count": 25,
      "outputs": []
    },
    {
      "cell_type": "code",
      "source": [
        "words = ['apple', 'banana', 'apple', 'cherry', 'banana', 'date']\n",
        "count_unique_words(words)"
      ],
      "metadata": {
        "colab": {
          "base_uri": "https://localhost:8080/"
        },
        "id": "1HOSe4MgrK4E",
        "outputId": "b43a1567-eb78-497d-f335-a13caebd705f"
      },
      "execution_count": 26,
      "outputs": [
        {
          "output_type": "execute_result",
          "data": {
            "text/plain": [
              "4"
            ]
          },
          "metadata": {},
          "execution_count": 26
        }
      ]
    }
  ]
}