{
  "nbformat": 4,
  "nbformat_minor": 0,
  "metadata": {
    "colab": {
      "provenance": [],
      "authorship_tag": "ABX9TyMLOtIxz+zqjll2loo106+m",
      "include_colab_link": true
    },
    "kernelspec": {
      "name": "python3",
      "display_name": "Python 3"
    },
    "language_info": {
      "name": "python"
    }
  },
  "cells": [
    {
      "cell_type": "markdown",
      "metadata": {
        "id": "view-in-github",
        "colab_type": "text"
      },
      "source": [
        "<a href=\"https://colab.research.google.com/github/ahmedmoustafa/AUC-Fundamentals-of-Data-Science-II-Spring-2023/blob/main/problemsets/problemset2_answers.ipynb\" target=\"_parent\"><img src=\"https://colab.research.google.com/assets/colab-badge.svg\" alt=\"Open In Colab\"/></a>"
      ]
    },
    {
      "cell_type": "markdown",
      "source": [
        "# Python Programming Problem Set #2 - Answers"
      ],
      "metadata": {
        "id": "IVnKTRR1_V2o"
      }
    },
    {
      "cell_type": "markdown",
      "source": [
        "**Q1.** Python function that takes a list of numbers and returns their product."
      ],
      "metadata": {
        "id": "VTzIAXJHCfnr"
      }
    },
    {
      "cell_type": "code",
      "source": [
        "def multiply_numbers(numbers):\n",
        "  product = 1\n",
        "  for num in numbers:\n",
        "    product *= num\n",
        "  return product"
      ],
      "metadata": {
        "id": "Fx-MH559Cwxb"
      },
      "execution_count": 1,
      "outputs": []
    },
    {
      "cell_type": "code",
      "source": [
        "multiply_numbers([2, 3, 4])"
      ],
      "metadata": {
        "colab": {
          "base_uri": "https://localhost:8080/"
        },
        "id": "36iEMigSCzNq",
        "outputId": "1a7931b5-39b3-46f8-8f47-6cdb46b05a05"
      },
      "execution_count": 2,
      "outputs": [
        {
          "output_type": "execute_result",
          "data": {
            "text/plain": [
              "24"
            ]
          },
          "metadata": {},
          "execution_count": 2
        }
      ]
    },
    {
      "cell_type": "markdown",
      "source": [
        "Alternatively using _variable_ length parameters:"
      ],
      "metadata": {
        "id": "yOAIltJ3xDzI"
      }
    },
    {
      "cell_type": "code",
      "source": [
        "def multiply_numbers(*numbers):\n",
        "  product = 1\n",
        "  for num in numbers:\n",
        "    product *= num\n",
        "  return product"
      ],
      "metadata": {
        "id": "oCIZaB4dxQc3"
      },
      "execution_count": 3,
      "outputs": []
    },
    {
      "cell_type": "code",
      "source": [
        "multiply_numbers(2, 3, 4)"
      ],
      "metadata": {
        "colab": {
          "base_uri": "https://localhost:8080/"
        },
        "id": "8rmCYoNaxSD3",
        "outputId": "35d3c58e-1076-4dea-defd-90b7d34c3729"
      },
      "execution_count": 4,
      "outputs": [
        {
          "output_type": "execute_result",
          "data": {
            "text/plain": [
              "24"
            ]
          },
          "metadata": {},
          "execution_count": 4
        }
      ]
    },
    {
      "cell_type": "markdown",
      "source": [
        "**Q2.** Write a Python function to find the maximum and minimum numbers in a list."
      ],
      "metadata": {
        "id": "uD_eXeyU_cJP"
      }
    },
    {
      "cell_type": "code",
      "source": [
        "def find_min_max(numbers):\n",
        "  min_num = numbers[0] # Set the min to the first number in the list\n",
        "  max_num = numbers[0] # Set the max to the first number in the list\n",
        "  for num in numbers:\n",
        "    if num > max_num:\n",
        "      max_num = num\n",
        "    elif num < min_num:\n",
        "      min_num = num\n",
        "  return (min_num, max_num)"
      ],
      "metadata": {
        "id": "BFSB4TERC8j5"
      },
      "execution_count": 5,
      "outputs": []
    },
    {
      "cell_type": "code",
      "source": [
        "find_min_max ([2, 3, 4])"
      ],
      "metadata": {
        "colab": {
          "base_uri": "https://localhost:8080/"
        },
        "id": "gGgxQaQxoNNK",
        "outputId": "aa822e42-42b0-4e79-d682-7217a6a8cc5e"
      },
      "execution_count": 6,
      "outputs": [
        {
          "output_type": "execute_result",
          "data": {
            "text/plain": [
              "(2, 4)"
            ]
          },
          "metadata": {},
          "execution_count": 6
        }
      ]
    },
    {
      "cell_type": "markdown",
      "source": [
        "**Q3.** Write a Python function that takes a list of strings and returns the longest string.\n"
      ],
      "metadata": {
        "id": "OLhK2JGxBZKn"
      }
    },
    {
      "cell_type": "code",
      "source": [
        "def find_longest_string(strings):\n",
        "  # Set the longest string to first string in the list\n",
        "  longest_string = strings[0]\n",
        "  for string in strings:\n",
        "    # Compare the length of the current string to the longest string so far\n",
        "    if len(string) > len(longest_string):\n",
        "      longest_string = string\n",
        "  return longest_string"
      ],
      "metadata": {
        "id": "We_X45m9DRkT"
      },
      "execution_count": 7,
      "outputs": []
    },
    {
      "cell_type": "code",
      "source": [
        "find_longest_string([\"Vicky\", \"Cristina\", \"Barcelona\"])"
      ],
      "metadata": {
        "colab": {
          "base_uri": "https://localhost:8080/",
          "height": 35
        },
        "id": "YRcA0yVnoQZP",
        "outputId": "04275f57-9b3b-47f6-a092-179e985b2f1a"
      },
      "execution_count": 8,
      "outputs": [
        {
          "output_type": "execute_result",
          "data": {
            "text/plain": [
              "'Barcelona'"
            ],
            "application/vnd.google.colaboratory.intrinsic+json": {
              "type": "string"
            }
          },
          "metadata": {},
          "execution_count": 8
        }
      ]
    },
    {
      "cell_type": "markdown",
      "source": [
        "**Q4.** Write a Python function that takes a list of numbers and returns a new list containing only the even numbers."
      ],
      "metadata": {
        "id": "TlcbzDLvEieZ"
      }
    },
    {
      "cell_type": "code",
      "source": [
        "def filter_even_numbers(numbers):\n",
        "  even_numbers = [] # create an empty list for the even numbers\n",
        "  for num in numbers:\n",
        "    if num % 2 == 0: # if the number is divisable by 2 then it is even\n",
        "      even_numbers.append (num) # if so, add it to the list of even numbers\n",
        "  return even_numbers"
      ],
      "metadata": {
        "id": "G30-5Y5Q_YY6"
      },
      "execution_count": 9,
      "outputs": []
    },
    {
      "cell_type": "code",
      "source": [
        "filter_even_numbers([1, 2, 3, 4])"
      ],
      "metadata": {
        "colab": {
          "base_uri": "https://localhost:8080/"
        },
        "id": "3GmznIJtpRTC",
        "outputId": "a27de390-1a3c-4061-897a-77beb5d5e523"
      },
      "execution_count": 10,
      "outputs": [
        {
          "output_type": "execute_result",
          "data": {
            "text/plain": [
              "[2, 4]"
            ]
          },
          "metadata": {},
          "execution_count": 10
        }
      ]
    },
    {
      "cell_type": "markdown",
      "source": [
        "**Q5.** Write a Python function that takes a number and returns \"Fizz\" if the number is divisible by 3, \"Buzz\" if the number is divisible by 5, and \"FizzBuzz\" if the number is divisible by both 3 and 5. Otherwise, return the number."
      ],
      "metadata": {
        "id": "QiBtikRXFJGv"
      }
    },
    {
      "cell_type": "code",
      "source": [
        "def fizzbuzz(number):\n",
        "  if number % 3 == 0 and number % 5 == 0:\n",
        "    return \"FizzBuzz\"\n",
        "  elif number % 3 == 0:\n",
        "    return \"Fizz\"\n",
        "  elif number % 5 == 0:\n",
        "    return \"Buzz\"\n",
        "  else:\n",
        "    return number"
      ],
      "metadata": {
        "id": "gj57X9XoEqz8"
      },
      "execution_count": 11,
      "outputs": []
    },
    {
      "cell_type": "code",
      "source": [
        "fizzbuzz(15)"
      ],
      "metadata": {
        "colab": {
          "base_uri": "https://localhost:8080/",
          "height": 35
        },
        "id": "_eVLBSWathg5",
        "outputId": "bf659fce-04cc-4d2f-d998-f8722b219d78"
      },
      "execution_count": 12,
      "outputs": [
        {
          "output_type": "execute_result",
          "data": {
            "text/plain": [
              "'FizzBuzz'"
            ],
            "application/vnd.google.colaboratory.intrinsic+json": {
              "type": "string"
            }
          },
          "metadata": {},
          "execution_count": 12
        }
      ]
    },
    {
      "cell_type": "code",
      "source": [
        "fizzbuzz(5)"
      ],
      "metadata": {
        "colab": {
          "base_uri": "https://localhost:8080/",
          "height": 35
        },
        "id": "EUlt9GR5tmYZ",
        "outputId": "ae9aa098-9a3a-472a-a55c-4a1122bc54bc"
      },
      "execution_count": 13,
      "outputs": [
        {
          "output_type": "execute_result",
          "data": {
            "text/plain": [
              "'Buzz'"
            ],
            "application/vnd.google.colaboratory.intrinsic+json": {
              "type": "string"
            }
          },
          "metadata": {},
          "execution_count": 13
        }
      ]
    },
    {
      "cell_type": "code",
      "source": [
        "fizzbuzz(3)"
      ],
      "metadata": {
        "colab": {
          "base_uri": "https://localhost:8080/",
          "height": 35
        },
        "id": "mJpWFXFmtoS_",
        "outputId": "13703a37-e304-4cf7-d1f5-8e490bba4927"
      },
      "execution_count": 14,
      "outputs": [
        {
          "output_type": "execute_result",
          "data": {
            "text/plain": [
              "'Fizz'"
            ],
            "application/vnd.google.colaboratory.intrinsic+json": {
              "type": "string"
            }
          },
          "metadata": {},
          "execution_count": 14
        }
      ]
    },
    {
      "cell_type": "code",
      "source": [
        "fizzbuzz(2)"
      ],
      "metadata": {
        "colab": {
          "base_uri": "https://localhost:8080/"
        },
        "id": "DobR_gj4tnaZ",
        "outputId": "5d1d89db-dc79-4e93-cafd-dd294ed382c4"
      },
      "execution_count": 15,
      "outputs": [
        {
          "output_type": "execute_result",
          "data": {
            "text/plain": [
              "2"
            ]
          },
          "metadata": {},
          "execution_count": 15
        }
      ]
    },
    {
      "cell_type": "markdown",
      "source": [
        "**Q6.** Write a Python function that takes a list of positive numbers and returns the second largest number in the list _without_ sorting the list.\n"
      ],
      "metadata": {
        "id": "JuM3C2OkFmng"
      }
    },
    {
      "cell_type": "code",
      "source": [
        "def find_second_largest(numbers):\n",
        "  largest = -1\n",
        "  second_largest = -1\n",
        "  for num in numbers:\n",
        "    if num > largest:\n",
        "      second_largest = largest\n",
        "      largest = num\n",
        "    elif num > second_largest:\n",
        "      second_largest = num\n",
        "  return second_largest"
      ],
      "metadata": {
        "id": "pMZwETxqFP8A"
      },
      "execution_count": 16,
      "outputs": []
    },
    {
      "cell_type": "code",
      "source": [
        "numbers = [2, 5, 7, 1, 8, 3, 9]\n",
        "find_second_largest(numbers)"
      ],
      "metadata": {
        "colab": {
          "base_uri": "https://localhost:8080/"
        },
        "id": "051aX3bcppIA",
        "outputId": "654a69c3-dd80-441f-f87b-a42a3881279a"
      },
      "execution_count": 17,
      "outputs": [
        {
          "output_type": "execute_result",
          "data": {
            "text/plain": [
              "8"
            ]
          },
          "metadata": {},
          "execution_count": 17
        }
      ]
    },
    {
      "cell_type": "markdown",
      "source": [
        "**Q7.** Write a Python function that takes a string and returns the most common letter in the string."
      ],
      "metadata": {
        "id": "u1Uq1YCfQg6M"
      }
    },
    {
      "cell_type": "code",
      "source": [
        "def find_most_common_letter(string):\n",
        "  letter_counts = {}\n",
        "  for char in string.upper(): # convert everything to upper case\n",
        "    if char in letter_counts:\n",
        "      letter_counts[char] += 1\n",
        "    else:\n",
        "      letter_counts[char] = 1\n",
        "    \n",
        "  max_count = -1\n",
        "  max_letter = ''\n",
        "  for key in letter_counts.keys():\n",
        "    if letter_counts[key] > max_count:\n",
        "      max_count = letter_counts[key]\n",
        "      max_letter = key\n",
        "  \n",
        "  return (max_letter)"
      ],
      "metadata": {
        "id": "d0qOgoXgGAZ4"
      },
      "execution_count": 18,
      "outputs": []
    },
    {
      "cell_type": "code",
      "source": [
        "find_most_common_letter(\"Hello, World!\")"
      ],
      "metadata": {
        "colab": {
          "base_uri": "https://localhost:8080/",
          "height": 35
        },
        "id": "KxK0OENppuJC",
        "outputId": "0ec5c3ce-4b47-4125-a5a1-ef0ec270aa87"
      },
      "execution_count": 19,
      "outputs": [
        {
          "output_type": "execute_result",
          "data": {
            "text/plain": [
              "'L'"
            ],
            "application/vnd.google.colaboratory.intrinsic+json": {
              "type": "string"
            }
          },
          "metadata": {},
          "execution_count": 19
        }
      ]
    },
    {
      "cell_type": "markdown",
      "source": [
        "**Q8.** Write a recursive Python function that generate Fibonacci series."
      ],
      "metadata": {
        "id": "WNcsNwVuS-tE"
      }
    },
    {
      "cell_type": "code",
      "source": [
        "def fibonacci(n):\n",
        "  if n == 0:\n",
        "    return 0\n",
        "  elif n == 1:\n",
        "    return 1\n",
        "  else:\n",
        "    return fibonacci(n - 1) + fibonacci(n - 2)"
      ],
      "metadata": {
        "id": "u-4e0Vb0RAuX"
      },
      "execution_count": 20,
      "outputs": []
    },
    {
      "cell_type": "code",
      "source": [
        "fibonacci (6)"
      ],
      "metadata": {
        "colab": {
          "base_uri": "https://localhost:8080/"
        },
        "id": "LFHjr0Axp3bw",
        "outputId": "91c4cab4-db25-4c23-9140-6a200d1d576d"
      },
      "execution_count": 21,
      "outputs": [
        {
          "output_type": "execute_result",
          "data": {
            "text/plain": [
              "8"
            ]
          },
          "metadata": {},
          "execution_count": 21
        }
      ]
    },
    {
      "cell_type": "code",
      "source": [
        "for i in range(10):\n",
        "  print (i, fibonacci(i))"
      ],
      "metadata": {
        "colab": {
          "base_uri": "https://localhost:8080/"
        },
        "id": "Kv8AmypOTwPS",
        "outputId": "aba2d81c-987b-4882-8647-446836664664"
      },
      "execution_count": 22,
      "outputs": [
        {
          "output_type": "stream",
          "name": "stdout",
          "text": [
            "0 0\n",
            "1 1\n",
            "2 1\n",
            "3 2\n",
            "4 3\n",
            "5 5\n",
            "6 8\n",
            "7 13\n",
            "8 21\n",
            "9 34\n"
          ]
        }
      ]
    },
    {
      "cell_type": "markdown",
      "source": [
        "**Q9.** Write a recursive Python function that takes a list of integers and returns the sum of all the numbers in the list."
      ],
      "metadata": {
        "id": "GwxlwbzVYhog"
      }
    },
    {
      "cell_type": "code",
      "source": [
        "def recursive_sum(numbers):\n",
        "  if not numbers: # if the list of numbers of empty\n",
        "    return 0 # return zero\n",
        "  else: # otherwise\n",
        "    # return sum the first num in the list and \n",
        "    # the sum of the remaining items in the list\n",
        "    return numbers[0] + recursive_sum(numbers[1:])"
      ],
      "metadata": {
        "id": "Qd-NGHllVI45"
      },
      "execution_count": 23,
      "outputs": []
    },
    {
      "cell_type": "code",
      "source": [
        "recursive_sum([1, 2, 3, 4, 5])"
      ],
      "metadata": {
        "colab": {
          "base_uri": "https://localhost:8080/"
        },
        "id": "U1mijfsgqBXN",
        "outputId": "a6caf466-2733-4571-d22c-74a31da44688"
      },
      "execution_count": 24,
      "outputs": [
        {
          "output_type": "execute_result",
          "data": {
            "text/plain": [
              "15"
            ]
          },
          "metadata": {},
          "execution_count": 24
        }
      ]
    },
    {
      "cell_type": "markdown",
      "source": [
        "**Q10.** Write a Python function that takes a list of strings and returns the number of unique words in the list."
      ],
      "metadata": {
        "id": "PhO-PQuqZgPR"
      }
    },
    {
      "cell_type": "code",
      "source": [
        "def count_unique_words(words):\n",
        "  unique_words = [] # create an empty list to store the unique words\n",
        "  for word in words: # for each word in the original list of words\n",
        "    if word not in unique_words: # if the word is not the unique list\n",
        "      unique_words.append(word) # add that word to the unique list\n",
        "  return len(unique_words) # return the length of the list of the unique words"
      ],
      "metadata": {
        "id": "5aF7hRvUYonj"
      },
      "execution_count": 25,
      "outputs": []
    },
    {
      "cell_type": "code",
      "source": [
        "words = ['apple', 'banana', 'apple', 'cherry', 'banana', 'date']\n",
        "count_unique_words(words)"
      ],
      "metadata": {
        "colab": {
          "base_uri": "https://localhost:8080/"
        },
        "id": "1HOSe4MgrK4E",
        "outputId": "c104cfe6-f1db-4bc2-dd83-da3640c0cf56"
      },
      "execution_count": 26,
      "outputs": [
        {
          "output_type": "execute_result",
          "data": {
            "text/plain": [
              "4"
            ]
          },
          "metadata": {},
          "execution_count": 26
        }
      ]
    }
  ]
}