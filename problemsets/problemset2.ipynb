{
  "nbformat": 4,
  "nbformat_minor": 0,
  "metadata": {
    "colab": {
      "provenance": [],
      "authorship_tag": "ABX9TyONGdurLlOoVY7eQqCOiOkA",
      "include_colab_link": true
    },
    "kernelspec": {
      "name": "python3",
      "display_name": "Python 3"
    },
    "language_info": {
      "name": "python"
    }
  },
  "cells": [
    {
      "cell_type": "markdown",
      "metadata": {
        "id": "view-in-github",
        "colab_type": "text"
      },
      "source": [
        "<a href=\"https://colab.research.google.com/github/ahmedmoustafa/AUC-Fundamentals-of-Data-Science-II-Spring-2023/blob/main/problemsets/problemset2.ipynb\" target=\"_parent\"><img src=\"https://colab.research.google.com/assets/colab-badge.svg\" alt=\"Open In Colab\"/></a>"
      ]
    },
    {
      "cell_type": "markdown",
      "source": [
        "# Python Programming Problem Set #2"
      ],
      "metadata": {
        "id": "IVnKTRR1_V2o"
      }
    },
    {
      "cell_type": "markdown",
      "source": [
        "Q1. Python function that takes a list of numbers and returns their product."
      ],
      "metadata": {
        "id": "VTzIAXJHCfnr"
      }
    },
    {
      "cell_type": "markdown",
      "source": [
        "Q2. Write a Python function to find the maximum and minimum numbers in a list."
      ],
      "metadata": {
        "id": "uD_eXeyU_cJP"
      }
    },
    {
      "cell_type": "markdown",
      "source": [
        "Q3. Write a Python function that takes a list of strings and returns the longest string."
      ],
      "metadata": {
        "id": "NB7KAaxWY4xA"
      }
    },
    {
      "cell_type": "markdown",
      "source": [
        "Q4. Write a Python function that takes a list of numbers and returns a new list containing only the even numbers."
      ],
      "metadata": {
        "id": "OLhK2JGxBZKn"
      }
    },
    {
      "cell_type": "markdown",
      "source": [
        "Q5. Write a Python function that takes a number and returns \"Fizz\" if the number is divisible by 3, \"Buzz\" if the number is divisible by 5, and \"FizzBuzz\" if the number is divisible by both 3 and 5. Otherwise, return the number."
      ],
      "metadata": {
        "id": "bg54oe3SZG0O"
      }
    },
    {
      "cell_type": "markdown",
      "source": [
        "Q6. Write a Python function that takes a list of positive numbers and returns the second largest number in the list _without_ sorting the list."
      ],
      "metadata": {
        "id": "nWReyfA9ZJPe"
      }
    },
    {
      "cell_type": "markdown",
      "source": [
        "Q7. Write a Python function that takes a string and returns the most common letter in the string."
      ],
      "metadata": {
        "id": "YxuzPx9XZMop"
      }
    },
    {
      "cell_type": "markdown",
      "source": [
        "Q8. Write a recursive Python function that generate Fibonacci series."
      ],
      "metadata": {
        "id": "2TRl5NZaZQLs"
      }
    },
    {
      "cell_type": "markdown",
      "source": [
        "Q9. Write a recursive Python function that takes a list of integers and returns the sum of all the numbers in the list."
      ],
      "metadata": {
        "id": "NsBPRJBzZSif"
      }
    },
    {
      "cell_type": "markdown",
      "source": [
        "Q10. Write a Python function that takes a list of strings and returns the number of unique words in the list."
      ],
      "metadata": {
        "id": "EN_7zKLzZc2L"
      }
    }
  ]
}