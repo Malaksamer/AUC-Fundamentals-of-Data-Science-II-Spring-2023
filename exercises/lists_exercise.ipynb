{
  "nbformat": 4,
  "nbformat_minor": 0,
  "metadata": {
    "colab": {
      "provenance": [],
      "authorship_tag": "ABX9TyMIenyBWg3A09C73SG0zUlK",
      "include_colab_link": true
    },
    "kernelspec": {
      "name": "python3",
      "display_name": "Python 3"
    },
    "language_info": {
      "name": "python"
    }
  },
  "cells": [
    {
      "cell_type": "markdown",
      "metadata": {
        "id": "view-in-github",
        "colab_type": "text"
      },
      "source": [
        "<a href=\"https://colab.research.google.com/github/ahmedmoustafa/AUC-Fundamentals-of-Data-Science-II-Spring-2023/blob/main/exercises/lists_exercise.ipynb\" target=\"_parent\"><img src=\"https://colab.research.google.com/assets/colab-badge.svg\" alt=\"Open In Colab\"/></a>"
      ]
    },
    {
      "cell_type": "markdown",
      "source": [
        "# Lists Exercise"
      ],
      "metadata": {
        "id": "IrxrMNUT3pqr"
      }
    },
    {
      "cell_type": "markdown",
      "source": [
        "1. Write the Python code to create the following simple two-dimensional 3 × 3 matrix:\n",
        "\n",
        "\\begin{equation}\n",
        "\\begin{pmatrix}\n",
        "1 & 2 & 3 \\\\\n",
        "4 & 5 & 6 \\\\\n",
        "7 & 8 & 9 \\\\\n",
        "\\end{pmatrix}\n",
        "\\end{equation}\n",
        "\n",
        "2. Write the code to retrieve the value of the element located in the first row, and second column and show the output i.e. the 2\n",
        "\n",
        "3. Write the code to display the entire matrix again\n",
        "\n",
        "*Hint:* The above matrix can be considered a list of lists."
      ],
      "metadata": {
        "id": "91KNohfM2YaT"
      }
    },
    {
      "cell_type": "code",
      "source": [],
      "metadata": {
        "id": "NX-oLdV43dVP"
      },
      "execution_count": null,
      "outputs": []
    }
  ]
}